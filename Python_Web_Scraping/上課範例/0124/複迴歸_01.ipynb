{
  "nbformat": 4,
  "nbformat_minor": 0,
  "metadata": {
    "colab": {
      "provenance": []
    },
    "kernelspec": {
      "name": "python3",
      "display_name": "Python 3"
    },
    "language_info": {
      "name": "python"
    }
  },
  "cells": [
    {
      "cell_type": "code",
      "execution_count": null,
      "metadata": {
        "id": "8mSqzKwEDE-k"
      },
      "outputs": [],
      "source": [
        "# 運用獲得的資料 -> AI -> 資料分析, 或是建立模型去協助人類預測或是回答問題\n",
        "# AI: 機器學習 (ML, Machine Learning); 類神經網路 (NN, Neuro Network)\n",
        "# ML: 單純線性迴歸 (Smiple Liner Regression) y = ax + b\n",
        "# 多元線性迴歸: y = a1x1 + a2x2 + a3x3 +..... + b\n",
        "# 波士頓房價\n",
        "# CRIM 城鎮犯罪率; ZN 住宅用地超過 700 坪; INDUS 非商業用地比例; NOX; CHAS 河; RM 房間數; AGE: 房齡; DIS 就業中心距離, RAD, TAX, PTRATIO B\n",
        "# LSTAT -> 房價"
      ]
    },
    {
      "cell_type": "code",
      "source": [
        "from sklearn import datasets\n",
        "#data = datasets.load_boston().data\n",
        "\n",
        "import pandas as pd\n",
        "import numpy as np\n",
        "\n",
        "data_url = \"http://lib.stat.cmu.edu/datasets/boston\"\n",
        "raw_df = pd.read_csv(data_url, sep=\"\\s+\", skiprows=22, header=None)\n",
        "data = np.hstack([raw_df.values[::2, :], raw_df.values[1::2, :2]])\n",
        "target = raw_df.values[1::2, 2]"
      ],
      "metadata": {
        "id": "zK5RkyDEFwyk"
      },
      "execution_count": 3,
      "outputs": []
    },
    {
      "cell_type": "code",
      "source": [
        "#5分鐘時間完成到這個部分: 7:02\n",
        "#資料切割: 80% 模型的訓練; 20% 驗證模型的準確性\n",
        "from sklearn.model_selection import train_test_split\n",
        "data_train, data_test, target_train, target_test = train_test_split(data, target, test_size=0.2)\n",
        "print(data_train.shape)\n",
        "print(data_test.shape)\n",
        "print(target_train.shape)\n",
        "#3分鐘練習, 7:14"
      ],
      "metadata": {
        "colab": {
          "base_uri": "https://localhost:8080/"
        },
        "id": "k9Gj9xjDHIo9",
        "outputId": "98e8df5a-fb86-4e12-f340-6fe0ed48726e"
      },
      "execution_count": 20,
      "outputs": [
        {
          "output_type": "stream",
          "name": "stdout",
          "text": [
            "(404, 13)\n",
            "(102, 13)\n",
            "(404,)\n"
          ]
        }
      ]
    },
    {
      "cell_type": "code",
      "source": [
        "#建立一個多元線性迴歸的預測模型\n",
        "from sklearn.linear_model import LinearRegression\n",
        "regr_model = LinearRegression()\n",
        "regr_model.fit(data_train, target_train)\n",
        "#3分鐘完成, 訓練模型 7:23"
      ],
      "metadata": {
        "colab": {
          "base_uri": "https://localhost:8080/",
          "height": 74
        },
        "id": "bDqTo2vZLiIT",
        "outputId": "2d8a624d-3789-4d77-8a0b-b5fca46bb245"
      },
      "execution_count": 21,
      "outputs": [
        {
          "output_type": "execute_result",
          "data": {
            "text/plain": [
              "LinearRegression()"
            ],
            "text/html": [
              "<style>#sk-container-id-3 {color: black;background-color: white;}#sk-container-id-3 pre{padding: 0;}#sk-container-id-3 div.sk-toggleable {background-color: white;}#sk-container-id-3 label.sk-toggleable__label {cursor: pointer;display: block;width: 100%;margin-bottom: 0;padding: 0.3em;box-sizing: border-box;text-align: center;}#sk-container-id-3 label.sk-toggleable__label-arrow:before {content: \"▸\";float: left;margin-right: 0.25em;color: #696969;}#sk-container-id-3 label.sk-toggleable__label-arrow:hover:before {color: black;}#sk-container-id-3 div.sk-estimator:hover label.sk-toggleable__label-arrow:before {color: black;}#sk-container-id-3 div.sk-toggleable__content {max-height: 0;max-width: 0;overflow: hidden;text-align: left;background-color: #f0f8ff;}#sk-container-id-3 div.sk-toggleable__content pre {margin: 0.2em;color: black;border-radius: 0.25em;background-color: #f0f8ff;}#sk-container-id-3 input.sk-toggleable__control:checked~div.sk-toggleable__content {max-height: 200px;max-width: 100%;overflow: auto;}#sk-container-id-3 input.sk-toggleable__control:checked~label.sk-toggleable__label-arrow:before {content: \"▾\";}#sk-container-id-3 div.sk-estimator input.sk-toggleable__control:checked~label.sk-toggleable__label {background-color: #d4ebff;}#sk-container-id-3 div.sk-label input.sk-toggleable__control:checked~label.sk-toggleable__label {background-color: #d4ebff;}#sk-container-id-3 input.sk-hidden--visually {border: 0;clip: rect(1px 1px 1px 1px);clip: rect(1px, 1px, 1px, 1px);height: 1px;margin: -1px;overflow: hidden;padding: 0;position: absolute;width: 1px;}#sk-container-id-3 div.sk-estimator {font-family: monospace;background-color: #f0f8ff;border: 1px dotted black;border-radius: 0.25em;box-sizing: border-box;margin-bottom: 0.5em;}#sk-container-id-3 div.sk-estimator:hover {background-color: #d4ebff;}#sk-container-id-3 div.sk-parallel-item::after {content: \"\";width: 100%;border-bottom: 1px solid gray;flex-grow: 1;}#sk-container-id-3 div.sk-label:hover label.sk-toggleable__label {background-color: #d4ebff;}#sk-container-id-3 div.sk-serial::before {content: \"\";position: absolute;border-left: 1px solid gray;box-sizing: border-box;top: 0;bottom: 0;left: 50%;z-index: 0;}#sk-container-id-3 div.sk-serial {display: flex;flex-direction: column;align-items: center;background-color: white;padding-right: 0.2em;padding-left: 0.2em;position: relative;}#sk-container-id-3 div.sk-item {position: relative;z-index: 1;}#sk-container-id-3 div.sk-parallel {display: flex;align-items: stretch;justify-content: center;background-color: white;position: relative;}#sk-container-id-3 div.sk-item::before, #sk-container-id-3 div.sk-parallel-item::before {content: \"\";position: absolute;border-left: 1px solid gray;box-sizing: border-box;top: 0;bottom: 0;left: 50%;z-index: -1;}#sk-container-id-3 div.sk-parallel-item {display: flex;flex-direction: column;z-index: 1;position: relative;background-color: white;}#sk-container-id-3 div.sk-parallel-item:first-child::after {align-self: flex-end;width: 50%;}#sk-container-id-3 div.sk-parallel-item:last-child::after {align-self: flex-start;width: 50%;}#sk-container-id-3 div.sk-parallel-item:only-child::after {width: 0;}#sk-container-id-3 div.sk-dashed-wrapped {border: 1px dashed gray;margin: 0 0.4em 0.5em 0.4em;box-sizing: border-box;padding-bottom: 0.4em;background-color: white;}#sk-container-id-3 div.sk-label label {font-family: monospace;font-weight: bold;display: inline-block;line-height: 1.2em;}#sk-container-id-3 div.sk-label-container {text-align: center;}#sk-container-id-3 div.sk-container {/* jupyter's `normalize.less` sets `[hidden] { display: none; }` but bootstrap.min.css set `[hidden] { display: none !important; }` so we also need the `!important` here to be able to override the default hidden behavior on the sphinx rendered scikit-learn.org. See: https://github.com/scikit-learn/scikit-learn/issues/21755 */display: inline-block !important;position: relative;}#sk-container-id-3 div.sk-text-repr-fallback {display: none;}</style><div id=\"sk-container-id-3\" class=\"sk-top-container\"><div class=\"sk-text-repr-fallback\"><pre>LinearRegression()</pre><b>In a Jupyter environment, please rerun this cell to show the HTML representation or trust the notebook. <br />On GitHub, the HTML representation is unable to render, please try loading this page with nbviewer.org.</b></div><div class=\"sk-container\" hidden><div class=\"sk-item\"><div class=\"sk-estimator sk-toggleable\"><input class=\"sk-toggleable__control sk-hidden--visually\" id=\"sk-estimator-id-3\" type=\"checkbox\" checked><label for=\"sk-estimator-id-3\" class=\"sk-toggleable__label sk-toggleable__label-arrow\">LinearRegression</label><div class=\"sk-toggleable__content\"><pre>LinearRegression()</pre></div></div></div></div></div>"
            ]
          },
          "metadata": {},
          "execution_count": 21
        }
      ]
    },
    {
      "cell_type": "code",
      "source": [
        "pre = regr_model.predict(data_test)\n",
        "print(pre.round(1))\n",
        "print(target_test)\n",
        "\n",
        "#模型的評估方法\n",
        "#3分鐘練習, 第一節課10分鐘休息 7: 40 繼續"
      ],
      "metadata": {
        "colab": {
          "base_uri": "https://localhost:8080/"
        },
        "id": "cmPpm3pYNnr3",
        "outputId": "f182e039-595c-4b4c-ff81-367796c80a51"
      },
      "execution_count": 22,
      "outputs": [
        {
          "output_type": "stream",
          "name": "stdout",
          "text": [
            "[26.9 20.6  6.8 32.5 16.2 23.7 19.7 22.1 20.4 20.8 19.7 16.  25.3 35.4\n",
            " 33.3  6.9 19.1 24.1 25.1 23.5 30.7 17.1 22.5 22.6 21.  18.7 24.1 22.8\n",
            " 18.7  3.5 26.7 16.1 18.3 29.  31.3 14.9 43.7  5.3 20.5 24.2 17.  28.3\n",
            " 14.  17.2 33.1 20.5 23.  20.1 20.4 22.5 20.7 28.3 43.2 13.8 27.6 15.6\n",
            " 33.7 18.3 18.5 21.8 26.9 30.1 24.9 28.3  8.2 31.5 21.3 31.5 20.6 15.7\n",
            " 16.8 19.1 28.8 19.8 22.2 21.  16.9 16.2 21.6 23.  30.4 18.8 18.6 39.6\n",
            "  7.  23.  21.1 22.5 30.8 21.  10.3 10.2 12.6 17.8 25.  26.1 19.8 28.5\n",
            " 12.5 30.9 12.9 24.7]\n",
            "[22.8 18.9 14.6 29.  14.1 22.2 27.9 26.4 18.8 19.6 16.7 17.3 29.6 39.8\n",
            " 37.2 10.4 18.5 24.4 23.8 19.1 25.1 19.1 11.9 22.7 21.8 14.5 22.4 21.2\n",
            " 19.9  8.1 24.8 10.4 12.1 22.9 35.4 11.7 50.  10.5 22.9 21.4 20.  23.9\n",
            " 13.6 14.9 41.3 19.3 24.7 17.8 23.  20.3 20.9 23.7 50.  13.4 36.2 15.6\n",
            " 36.1 20.  18.4 17.4 22.1 30.5 23.9 24.3 17.8 29.9 24.5 30.8 21.1 18.4\n",
            " 19.6 18.5 24.6 21.5 22.9 20.9 19.1 13.3 23.3 17.8 32.7 20.3 27.1 21.9\n",
            " 11.9 19.8 22.  25.  28.4 20.4 16.5  7.2 27.5 17.2 24.  29.8 20.1 26.6\n",
            " 12.3 23.6 11.3 24.7]\n"
          ]
        }
      ]
    },
    {
      "cell_type": "code",
      "source": [
        "#模型評估方法 1：決定係數 (迴歸)\n",
        "print(regr_model.score(data_train, target_train).round(3))\n",
        "# 0 <> 1, 至少大於 0.7, 0.999\n",
        "print(regr_model.score(data_test, target_test).round(3))\n",
        "# Overfitting\n",
        "#0.734\n",
        "#0.751\n",
        "# 3 分鐘練習, 7:51"
      ],
      "metadata": {
        "colab": {
          "base_uri": "https://localhost:8080/"
        },
        "id": "AbPfflCIRal6",
        "outputId": "2fec53cc-5d04-4fde-9670-2815006b955f"
      },
      "execution_count": 23,
      "outputs": [
        {
          "output_type": "stream",
          "name": "stdout",
          "text": [
            "0.749\n",
            "0.67\n"
          ]
        }
      ]
    },
    {
      "cell_type": "code",
      "source": [
        "#模型評估方法 2：圖形:殘差圖 (residual plot)\n",
        "import matplotlib.pyplot as plt\n",
        "x = np.arange(pre.size)\n",
        "y = x*0\n",
        "plt.scatter(x, pre - target_test)\n",
        "plt.plot(x, y, color='orange') # 劃出 y= 0 的基礎線\n",
        "plt.show()\n",
        "#5分鐘練習, 8:04"
      ],
      "metadata": {
        "colab": {
          "base_uri": "https://localhost:8080/",
          "height": 430
        },
        "id": "pWTvuXJ0T4m9",
        "outputId": "d15f3c55-7c3c-4816-aba5-68aa760d55fc"
      },
      "execution_count": 24,
      "outputs": [
        {
          "output_type": "display_data",
          "data": {
            "text/plain": [
              "<Figure size 640x480 with 1 Axes>"
            ],
            "image/png": "[encoded data removed]"
          },
          "metadata": {}
        }
      ]
    },
    {
      "cell_type": "code",
      "source": [
        "#模型評估方法 3：平均絕對誤差 (MAE, mean absolute error)\n",
        "from sklearn.metrics import mean_absolute_error\n",
        "print(mean_absolute_error(target_test, pre).round(2))\n",
        "#3分鐘練習, 8:11"
      ],
      "metadata": {
        "colab": {
          "base_uri": "https://localhost:8080/"
        },
        "id": "pEDQN4wkW602",
        "outputId": "0f393540-541d-4305-c1d3-734dd9cd2909"
      },
      "execution_count": 25,
      "outputs": [
        {
          "output_type": "stream",
          "name": "stdout",
          "text": [
            "3.26\n"
          ]
        }
      ]
    }
  ]
}