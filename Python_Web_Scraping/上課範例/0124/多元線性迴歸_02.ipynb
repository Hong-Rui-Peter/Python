{
  "cells": [
    {
      "cell_type": "code",
      "execution_count": null,
      "metadata": {
        "id": "DdGzprk1YnBw"
      },
      "outputs": [],
      "source": [
        "# 根據每天的氣候因數, 決定城市準備共享單車的數量\n",
        "# https://archive.ics.uci.edu/ml/machine-learning-databases/00560/SeoulBikeData.csv"
      ]
    },
    {
      "cell_type": "code",
      "execution_count": null,
      "metadata": {
        "colab": {
          "base_uri": "https://localhost:8080/",
          "height": 663
        },
        "id": "-F3KaDR2Z1YI",
        "outputId": "19a726e9-f18c-4df9-833b-205bdc0bb601"
      },
      "outputs": [],
      "source": [
        "import pandas as pd\n",
        "\n",
        "df = pd.read_csv(\"SeoulBikeData.csv\", encoding=\"gbk\", index_col=[\"Date\"])\n",
        "df\n",
        "# 3分鐘練習, 8:25"
      ]
    },
    {
      "cell_type": "code",
      "execution_count": null,
      "metadata": {
        "id": "NgaSoHyObtJT"
      },
      "outputs": [],
      "source": [
        "# 資料清理 (Data cleaning)\n",
        "data = df.copy()"
      ]
    },
    {
      "cell_type": "code",
      "execution_count": null,
      "metadata": {
        "id": "FoR9nigzb62r"
      },
      "outputs": [],
      "source": [
        "data = data[data[\"Functioning Day\"] == \"Yes\"]"
      ]
    },
    {
      "cell_type": "code",
      "execution_count": null,
      "metadata": {
        "colab": {
          "base_uri": "https://localhost:8080/"
        },
        "id": "agSksTPIchvB",
        "outputId": "b269da74-cd60-474d-8f80-40537b23b8e1"
      },
      "outputs": [],
      "source": [
        "data.pop(\"Functioning Day\")  # 只能拿掉一次\n",
        "# 3分鐘練習, 第二節客休息, 8:45 繼續"
      ]
    },
    {
      "cell_type": "code",
      "execution_count": null,
      "metadata": {
        "colab": {
          "base_uri": "https://localhost:8080/"
        },
        "id": "1U8FVEELgQcS",
        "outputId": "56ee6916-86ae-4def-d9fb-4d80ddc8c44c"
      },
      "outputs": [],
      "source": [
        "# NaN 空值\n",
        "data.info()\n",
        "data = data.dropna()"
      ]
    },
    {
      "cell_type": "code",
      "execution_count": null,
      "metadata": {
        "id": "GN95oeVMgs2g"
      },
      "outputs": [],
      "source": [
        "data = data.rename(\n",
        "    columns={\n",
        "        \"Temperature(癈)\": \"Temperature(*C)\",\n",
        "        \"Dew point temperature(癈)\": \"Dew point(*C)\",\n",
        "    }\n",
        ")\n",
        "# 3分鐘練習, 8:55"
      ]
    },
    {
      "cell_type": "code",
      "execution_count": null,
      "metadata": {
        "id": "fPDr7NXMhyXj"
      },
      "outputs": [],
      "source": [
        "# label encoder 將文字資料轉成對應的數字\n",
        "from sklearn.preprocessing import LabelEncoder\n",
        "\n",
        "le = LabelEncoder()\n",
        "\n",
        "data[\"Seasons\"] = le.fit_transform(data[\"Seasons\"])\n",
        "data[\"Holiday\"] = le.fit_transform(data[\"Holiday\"])\n",
        "# 3分鐘練習, 9:04"
      ]
    },
    {
      "cell_type": "code",
      "execution_count": null,
      "metadata": {
        "colab": {
          "base_uri": "https://localhost:8080/",
          "height": 344
        },
        "id": "-CM1F9dEjkQP",
        "outputId": "15f9f946-1a04-46ae-fec9-88912955262a"
      },
      "outputs": [],
      "source": [
        "target = data.pop(\"Rented Bike Count\")"
      ]
    },
    {
      "cell_type": "code",
      "execution_count": null,
      "metadata": {
        "id": "uP5fF7V1mb7o"
      },
      "outputs": [],
      "source": [
        "from sklearn.model_selection import train_test_split\n",
        "\n",
        "data_train, data_test, target_train, target_test = train_test_split(\n",
        "    data.values, target.values, test_size=0.2\n",
        ")\n",
        "# 3分鐘練習, 9:15"
      ]
    },
    {
      "cell_type": "code",
      "execution_count": null,
      "metadata": {
        "colab": {
          "base_uri": "https://localhost:8080/",
          "height": 74
        },
        "id": "2lL7XBQ1ns32",
        "outputId": "f775f569-13fb-4232-b8db-35a75e1ef16b"
      },
      "outputs": [],
      "source": [
        "from sklearn.linear_model import LinearRegression\n",
        "\n",
        "regr = LinearRegression()\n",
        "regr.fit(data_train, target_train)"
      ]
    },
    {
      "cell_type": "code",
      "execution_count": null,
      "metadata": {
        "colab": {
          "base_uri": "https://localhost:8080/"
        },
        "id": "LdMqEwZ_oKMg",
        "outputId": "de77d1c3-069e-4934-f2b4-dd53691aa5f5"
      },
      "outputs": [],
      "source": [
        "pre = regr.predict(data_test)\n",
        "print(pre.round())\n",
        "print(target_test)\n",
        "# 3分鐘練習, 9:25"
      ]
    },
    {
      "cell_type": "code",
      "execution_count": null,
      "metadata": {
        "colab": {
          "base_uri": "https://localhost:8080/"
        },
        "id": "OkOTtIGJpcmO",
        "outputId": "34952729-e807-45aa-9881-d3b2bb298d29"
      },
      "outputs": [],
      "source": [
        "# 1.決定係數\n",
        "print(regr.score(data_train, target_train).round(3))\n",
        "print(regr.score(data_test, target_test).round(3))\n",
        "# >0.7"
      ]
    },
    {
      "cell_type": "code",
      "execution_count": null,
      "metadata": {
        "colab": {
          "base_uri": "https://localhost:8080/",
          "height": 430
        },
        "id": "e48s7TsiqD1F",
        "outputId": "911cec9e-75a6-4bcb-f2f9-9cf8b063403a"
      },
      "outputs": [],
      "source": [
        "# 殘差圖\n",
        "import numpy as np\n",
        "import matplotlib.pyplot as plt\n",
        "\n",
        "x = np.arange(pre.size)\n",
        "y = x * 0\n",
        "plt.scatter(x, pre - target_test)\n",
        "plt.plot(x, y, color=\"orange\")\n",
        "plt.show()\n",
        "# 5分鐘練習, 9:35"
      ]
    }
  ],
  "metadata": {
    "colab": {
      "provenance": []
    },
    "kernelspec": {
      "display_name": "Python 3",
      "name": "python3"
    },
    "language_info": {
      "name": "python"
    }
  },
  "nbformat": 4,
  "nbformat_minor": 0
}
