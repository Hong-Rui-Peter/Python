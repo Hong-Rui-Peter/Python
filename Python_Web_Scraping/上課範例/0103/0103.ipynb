{
  "cells": [
    {
      "cell_type": "code",
      "execution_count": null,
      "metadata": {
        "id": "9dfkfQAZ5ocp"
      },
      "outputs": [],
      "source": [
        "# 檔案 (excel, csv), 資料庫\n",
        "# list, -> json {}"
      ]
    },
    {
      "cell_type": "code",
      "execution_count": 8,
      "metadata": {
        "colab": {
          "base_uri": "https://localhost:8080/"
        },
        "id": "K4V3cBbB8iuS",
        "outputId": "55f26940-e046-4d2e-f383-0ba4ecf887cd"
      },
      "outputs": [],
      "source": [
        "import csv\n",
        "\n",
        "csvfile = \"exa.csv\"\n",
        "# 開啟與與讀取 csv 資料內容\n",
        "with open(csvfile, \"r\") as fp:\n",
        "    reader = csv.reader(fp)\n",
        "    for row in reader:\n",
        "        print(row)\n",
        "\n",
        "# 5分鐘練習, 至 7:05"
      ]
    },
    {
      "cell_type": "code",
      "execution_count": 9,
      "metadata": {
        "id": "lWgp2ASV_9RN"
      },
      "outputs": [],
      "source": [
        "csvfile2 = \"exa2.csv\"\n",
        "list1 = [[10, 20, 30], [33, 44, 55]]\n",
        "with open(csvfile2, \"w\", newline=\"\") as fp:\n",
        "    writer = csv.writer(fp)\n",
        "    writer.writerow([\"First\", \"Second\", \"Third\"])\n",
        "    for row in list1:\n",
        "        writer.writerow(row)\n",
        "\n",
        "# 5分鐘練習, 至 7:20"
      ]
    },
    {
      "cell_type": "code",
      "execution_count": 12,
      "metadata": {
        "id": "5dyMbz6XEzVW"
      },
      "outputs": [
        {
          "ename": "FeatureNotFound",
          "evalue": "Couldn't find a tree builder with the features you requested: lxml. Do you need to install a parser library?",
          "output_type": "error",
          "traceback": [
            "\u001b[1;31m---------------------------------------------------------------------------\u001b[0m",
            "\u001b[1;31mFeatureNotFound\u001b[0m                           Traceback (most recent call last)",
            "Cell \u001b[1;32mIn[12], line 12\u001b[0m\n\u001b[0;32m      9\u001b[0m r\u001b[38;5;241m.\u001b[39mencoding \u001b[38;5;241m=\u001b[39m \u001b[38;5;124m\"\u001b[39m\u001b[38;5;124mutf8\u001b[39m\u001b[38;5;124m\"\u001b[39m\n\u001b[0;32m     10\u001b[0m \u001b[38;5;66;03m# print(r.status_code)\u001b[39;00m\n\u001b[0;32m     11\u001b[0m \u001b[38;5;66;03m# print(r.text)\u001b[39;00m\n\u001b[1;32m---> 12\u001b[0m soup \u001b[38;5;241m=\u001b[39m \u001b[43mBeautifulSoup\u001b[49m\u001b[43m(\u001b[49m\u001b[43mr\u001b[49m\u001b[38;5;241;43m.\u001b[39;49m\u001b[43mtext\u001b[49m\u001b[43m,\u001b[49m\u001b[43m \u001b[49m\u001b[38;5;124;43m\"\u001b[39;49m\u001b[38;5;124;43mlxml\u001b[39;49m\u001b[38;5;124;43m\"\u001b[39;49m\u001b[43m)\u001b[49m\n\u001b[0;32m     13\u001b[0m \u001b[38;5;66;03m# print(soup)\u001b[39;00m\n\u001b[0;32m     14\u001b[0m tag_table \u001b[38;5;241m=\u001b[39m soup\u001b[38;5;241m.\u001b[39mfind(class_\u001b[38;5;241m=\u001b[39m\u001b[38;5;124m\"\u001b[39m\u001b[38;5;124mtt\u001b[39m\u001b[38;5;124m\"\u001b[39m)\n",
            "File \u001b[1;32m~\\AppData\\Local\\Packages\\PythonSoftwareFoundation.Python.3.12_qbz5n2kfra8p0\\LocalCache\\local-packages\\Python312\\site-packages\\bs4\\__init__.py:250\u001b[0m, in \u001b[0;36mBeautifulSoup.__init__\u001b[1;34m(self, markup, features, builder, parse_only, from_encoding, exclude_encodings, element_classes, **kwargs)\u001b[0m\n\u001b[0;32m    248\u001b[0m     builder_class \u001b[38;5;241m=\u001b[39m builder_registry\u001b[38;5;241m.\u001b[39mlookup(\u001b[38;5;241m*\u001b[39mfeatures)\n\u001b[0;32m    249\u001b[0m     \u001b[38;5;28;01mif\u001b[39;00m builder_class \u001b[38;5;129;01mis\u001b[39;00m \u001b[38;5;28;01mNone\u001b[39;00m:\n\u001b[1;32m--> 250\u001b[0m         \u001b[38;5;28;01mraise\u001b[39;00m FeatureNotFound(\n\u001b[0;32m    251\u001b[0m             \u001b[38;5;124m\"\u001b[39m\u001b[38;5;124mCouldn\u001b[39m\u001b[38;5;124m'\u001b[39m\u001b[38;5;124mt find a tree builder with the features you \u001b[39m\u001b[38;5;124m\"\u001b[39m\n\u001b[0;32m    252\u001b[0m             \u001b[38;5;124m\"\u001b[39m\u001b[38;5;124mrequested: \u001b[39m\u001b[38;5;132;01m%s\u001b[39;00m\u001b[38;5;124m. Do you need to install a parser library?\u001b[39m\u001b[38;5;124m\"\u001b[39m\n\u001b[0;32m    253\u001b[0m             \u001b[38;5;241m%\u001b[39m \u001b[38;5;124m\"\u001b[39m\u001b[38;5;124m,\u001b[39m\u001b[38;5;124m\"\u001b[39m\u001b[38;5;241m.\u001b[39mjoin(features))\n\u001b[0;32m    255\u001b[0m \u001b[38;5;66;03m# At this point either we have a TreeBuilder instance in\u001b[39;00m\n\u001b[0;32m    256\u001b[0m \u001b[38;5;66;03m# builder, or we have a builder_class that we can instantiate\u001b[39;00m\n\u001b[0;32m    257\u001b[0m \u001b[38;5;66;03m# with the remaining **kwargs.\u001b[39;00m\n\u001b[0;32m    258\u001b[0m \u001b[38;5;28;01mif\u001b[39;00m builder \u001b[38;5;129;01mis\u001b[39;00m \u001b[38;5;28;01mNone\u001b[39;00m:\n",
            "\u001b[1;31mFeatureNotFound\u001b[0m: Couldn't find a tree builder with the features you requested: lxml. Do you need to install a parser library?"
          ]
        }
      ],
      "source": [
        "import requests\n",
        "from bs4 import BeautifulSoup\n",
        "import csv\n",
        "\n",
        "url = \"https://fchart.github.io/ML/table.html\"\n",
        "csv_file3 = \"company.csv\"\n",
        "\n",
        "r = requests.get(url)\n",
        "r.encoding = \"utf8\"\n",
        "# print(r.status_code)\n",
        "# print(r.text)\n",
        "soup = BeautifulSoup(r.text, \"lxml\")\n",
        "# print(soup)\n",
        "tag_table = soup.find(class_=\"tt\")\n",
        "rows = tag_table.findAll(\"tr\")\n",
        "# 5分鐘練習, 至7:53"
      ]
    },
    {
      "cell_type": "code",
      "execution_count": null,
      "metadata": {
        "id": "NQkRrfp3Jp90"
      },
      "outputs": [],
      "source": [
        "with open(csv_file3, \"w+\", newline=\"\", encoding=\"utf-8\") as fp:\n",
        "    writer = csv.writer(fp)\n",
        "    for row in rows:\n",
        "        rowList = []\n",
        "        for cell in row.findAll([\"td\", \"tr\"]):\n",
        "            rowList.append(cell.get_text().replace(\"\\n\", \"\").replace(\"\\r\", \"\"))\n",
        "        writer.writerow(rowList)\n",
        "# 請練習7分鐘, 至 8:17"
      ]
    },
    {
      "cell_type": "code",
      "execution_count": null,
      "metadata": {
        "colab": {
          "base_uri": "https://localhost:8080/"
        },
        "id": "pylB3bvUQmZd",
        "outputId": "a6a05b72-fad2-47b7-c48c-f9ddf4423776"
      },
      "outputs": [
        {
          "name": "stdout",
          "output_type": "stream",
          "text": [
            "{'name': 'Joe Chen', 'score': 95, 'tel': '0933123456'}\n",
            "{\"name\": \"Joe Chen\", \"score\": 95, \"tel\": \"0933123456\"}\n",
            "{'name': 'Joe Chen', 'score': 95, 'tel': '0933123456'}\n"
          ]
        }
      ],
      "source": [
        "# JSON -> JavaScript\n",
        "\n",
        "import json\n",
        "\n",
        "data = {\"name\": \"Joe Chen\", \"score\": 95, \"tel\": \"0933123456\"}\n",
        "\n",
        "print(data)\n",
        "json_str = json.dumps(data)\n",
        "print(json_str)\n",
        "data2 = json.loads(json_str)\n",
        "print(data2)\n",
        "# file.json"
      ]
    },
    {
      "cell_type": "code",
      "execution_count": null,
      "metadata": {
        "id": "j7wHl0uCSdsk"
      },
      "outputs": [],
      "source": [
        "jsonfile = \"example.json\"\n",
        "with open(jsonfile, \"w\") as fp:\n",
        "    json.dump(data, fp)\n",
        "    # 3分鐘練習, 至8:31"
      ]
    },
    {
      "cell_type": "code",
      "execution_count": null,
      "metadata": {
        "colab": {
          "base_uri": "https://localhost:8080/"
        },
        "id": "pVMAufA0Tqox",
        "outputId": "4b0b5ee0-cf72-4e6c-98a8-1ad4f88ab345"
      },
      "outputs": [
        {
          "name": "stdout",
          "output_type": "stream",
          "text": [
            "{\"name\": \"Joe Chen\", \"score\": 95, \"tel\": \"0933123456\"}\n"
          ]
        }
      ],
      "source": [
        "with open(jsonfile, \"r\") as fp:\n",
        "    data = json.load(fp)\n",
        "json_str = json.dumps(data)\n",
        "print(json_str)\n",
        "\n",
        "# 練習與第二節休息到 8:45"
      ]
    },
    {
      "cell_type": "code",
      "execution_count": null,
      "metadata": {
        "id": "hStUhAwvW_9y"
      },
      "outputs": [],
      "source": [
        "import json\n",
        "import requests\n",
        "\n",
        "url = (\n",
        "    \"https://www.googleapis.com/books/v1/volumes?maxResults=5&q=Python&projection=lite\"\n",
        ")\n",
        "jsonfile = \"Books.json\"\n",
        "r = requests.get(url)\n",
        "r.encoding = \"utf8\"\n",
        "json_data = json.loads(r.text)\n",
        "with open(jsonfile, \"w\") as fp:\n",
        "    json.dump(json_data, fp)\n",
        "    # 5 分鐘練習,至9:00"
      ]
    },
    {
      "cell_type": "code",
      "execution_count": null,
      "metadata": {
        "colab": {
          "base_uri": "https://localhost:8080/"
        },
        "id": "NGzCYHXSZNA2",
        "outputId": "308b7e22-4fec-4062-da23-b68dac26c6c9"
      },
      "outputs": [
        {
          "name": "stdout",
          "output_type": "stream",
          "text": [
            "{\"kind\": \"books#volumes\", \"totalItems\": 543, \"items\": [{\"kind\": \"books#volume\", \"id\": \"KuymEAAAQBAJ\", \"etag\": \"FfpsV2aFvFk\", \"selfLink\": \"https://www.googleapis.com/books/v1/volumes/KuymEAAAQBAJ\", \"volumeInfo\": {\"title\": \"Python\\u7a0b\\u5f0f\\u8a2d\\u8a08:\\u5f9e\\u5165\\u9580\\u5230\\u9032\\u968e\\u61c9\\u7528\", \"authors\": [\"\\u9ec3\\u5efa\\u5ead\"], \"publisher\": \"\\u5168\\u83ef\\u5716\\u66f8\", \"publishedDate\": \"2020-02-01\", \"description\": \"Python \\u662f\\u652f\\u63f4\\u7a0b\\u5e8f\\u5c0e\\u5411\\u3001\\u7269\\u4ef6\\u5c0e\\u5411\\u7684\\u52d5\\u614b\\u8a9e\\u8a00\\uff0c\\u6240\\u6709\\u65b0\\u529f\\u80fd\\u90fd\\u52a0\\u5165\\u5230Python 3.0 \\u4ee5\\u5f8c\\u7684\\u7248\\u672c\\u3002\\u5168\\u66f8\\u517114\\u7ae0\\uff0c\\u5f9ePython \\u7c21\\u4ecb\\u8207\\u7a0b\\u5f0f\\u7de8\\u8f2f\\u5668\\u4ecb\\u7d39\\u958b\\u59cb\\uff0c\\u9010\\u4e00\\u8aaa\\u660ePython\\u7a0b\\u5f0f\\u8a9e\\u8a00\\u7684\\u57fa\\u790e\\uff0c\\u5305\\u542b\\u8cc7\\u6599\\u578b\\u5225\\u3001\\u9078\\u64c7\\u7d50\\u69cb\\u3001\\u8ff4\\u5708\\u3001\\u51fd\\u5f0f\\u3001\\u6a21\\u7d44\\u7b49\\u4e3b\\u984c\\u3002\\u6700\\u5f8c\\u9032\\u968e\\u5230\\u8cc7\\u6599\\u5eab\\u3001\\u64f7\\u53d6\\u7db2\\u9801\\u8cc7\\u6599\\u3001\\u7b2c\\u4e09\\u65b9\\u6a21\\u7d44\\u7b49\\uff0c\\u6536\\u9304Python\\u6700\\u91cd\\u8981\\u7684\\u529f\\u80fd\\u4ecb\\u7d39\\u8207\\u89e3\\u8aaa\\uff0c\\u8b93\\u60a8\\u900f\\u904e\\u6700\\u7c21\\u55ae\\u7684\\u65b9\\u5f0f\\u5b78\\u7fd2Python\\uff0c\\u5e6b\\u52a9\\u60a8\\u6210\\u70ba\\u7cbe\\u901aPython\\u7684\\u7a0b\\u5f0f\\u8a2d\\u8a08\\u9ad8\\u624b\\u3002\", \"readingModes\": {\"text\": false, \"image\": true}, \"maturityRating\": \"NOT_MATURE\", \"allowAnonLogging\": true, \"contentVersion\": \"preview-1.0.0\", \"panelizationSummary\": {\"containsEpubBubbles\": false, \"containsImageBubbles\": false}, \"imageLinks\": {\"smallThumbnail\": \"http://books.google.com/books/content?id=KuymEAAAQBAJ&printsec=frontcover&img=1&zoom=5&edge=curl&source=gbs_api\", \"thumbnail\": \"http://books.google.com/books/content?id=KuymEAAAQBAJ&printsec=frontcover&img=1&zoom=1&edge=curl&source=gbs_api\"}, \"previewLink\": \"http://books.google.com.tw/books?id=KuymEAAAQBAJ&printsec=frontcover&dq=Python&hl=&cd=1&source=gbs_api\", \"infoLink\": \"https://play.google.com/store/books/details?id=KuymEAAAQBAJ&source=gbs_api\", \"canonicalVolumeLink\": \"https://play.google.com/store/books/details?id=KuymEAAAQBAJ\"}, \"saleInfo\": {\"country\": \"TW\", \"listPrice\": {\"amount\": 450, \"currencyCode\": \"TWD\"}, \"retailPrice\": {\"amount\": 306, \"currencyCode\": \"TWD\"}, \"buyLink\": \"https://play.google.com/store/books/details?id=KuymEAAAQBAJ&rdid=book-KuymEAAAQBAJ&rdot=1&source=gbs_api\", \"offers\": [{\"finskyOfferType\": 1, \"listPrice\": {\"amountInMicros\": 450000000, \"currencyCode\": \"TWD\"}, \"retailPrice\": {\"amountInMicros\": 306000000, \"currencyCode\": \"TWD\"}}]}, \"accessInfo\": {\"country\": \"TW\", \"epub\": {\"isAvailable\": false}, \"pdf\": {\"isAvailable\": true, \"acsTokenLink\": \"http://books.google.com.tw/books/download/Python%E7%A8%8B%E5%BC%8F%E8%A8%AD%E8%A8%88_%E5%BE%9E%E5%85%A5%E9%96%80%E5%88%B0%E9%80%B2%E9%9A%8E%E6%87%89-sample-pdf.acsm?id=KuymEAAAQBAJ&format=pdf&output=acs4_fulfillment_token&dl_type=sample&source=gbs_api\"}, \"accessViewStatus\": \"SAMPLE\"}, \"searchInfo\": {\"textSnippet\": \"Python \\u662f\\u652f\\u63f4\\u7a0b\\u5e8f\\u5c0e\\u5411\\u3001\\u7269\\u4ef6\\u5c0e\\u5411\\u7684\\u52d5\\u614b\\u8a9e\\u8a00\\uff0c\\u6240\\u6709\\u65b0\\u529f\\u80fd\\u90fd\\u52a0\\u5165\\u5230Python 3.0 \\u4ee5\\u5f8c\\u7684\\u7248\\u672c\\u3002\\u5168\\u66f8\\u517114\\u7ae0\\uff0c\\u5f9ePython ...\"}}, {\"kind\": \"books#volume\", \"id\": \"hjSLEAAAQBAJ\", \"etag\": \"7rd19Og1wrc\", \"selfLink\": \"https://www.googleapis.com/books/v1/volumes/hjSLEAAAQBAJ\", \"volumeInfo\": {\"title\": \"\\u7528Python\\u5b78\\u7a0b\\u5f0f\\u8a2d\\u8a08\\u904b\\u7b97\\u601d\\u7dad-\\u7b2c\\u4e8c\\u7248(\\u6db5\\u84cbITS Python\\u570b\\u969b\\u8a8d\\u8b49\\u6a21\\u64ec\\u8a66\\u984c)(\\u96fb\\u5b50\\u66f8)\", \"authors\": [\"\\u674e\\u555f\\u9f8d\"], \"publisher\": \"\\u7881\\u5cf0\\u8cc7\\u8a0a\\u80a1\\u4efd\\u6709\\u9650\\u516c\\u53f8\", \"publishedDate\": \"2022-05-26\", \"description\": \"*\\u672c\\u66f8\\u9069\\u5408\\u60f3\\u6253\\u597dPython\\u7a0b\\u5f0f\\u8a2d\\u8a08\\u57fa\\u790e\\u8005\\uff0c\\u7ae0\\u7bc0\\u5b89\\u6392\\u7531\\u6dfa\\u800c\\u6df1\\uff0c\\u4ee5\\u5faa\\u5e8f\\u6f38\\u9032\\u7684\\u65b9\\u5f0f\\u4f86\\u4ecb\\u7d39Python\\u7a0b\\u5f0f\\u8a9e\\u8a00\\u6700\\u6838\\u5fc3\\u7684\\u77e5\\u8b58\\u3002 *\\u7a0b\\u5f0f\\u7bc4\\u4f8b\\u67b6\\u69cb\\u660e\\u78ba\\uff0c\\u5c07\\u7a0b\\u5f0f\\u7bc4\\u4f8b\\u5206\\u70ba\\u300c\\u7a0b\\u5f0f\\u8a2d\\u8a08\\u76ee\\u6a19\\u300d\\u3001\\u300c\\u53c3\\u8003\\u7a0b\\u5f0f\\u78bc\\u300d\\u548c\\u300c\\u7a0b\\u5f0f\\u78bc\\u89e3\\u8aaa\\u300d\\u7b49\\u4e09\\u500b\\u90e8\\u5206\\u3002 *\\u5f37\\u8abf\\u5f9e\\u505a\\u4e2d\\u5b78\\uff0c\\u8a2d\\u8a08\\u8d85\\u904e\\u767e\\u984c\\u7684\\u5be6\\u7528Python\\u7a0b\\u5f0f\\u7bc4\\u4f8b\\uff0c\\u6709\\u6548\\u63d0\\u5347\\u5b78\\u7fd2\\u6a02\\u8da3\\u4e26\\u964d\\u4f4e\\u5b78\\u7fd2\\u969c\\u7919\\uff0c\\u9069\\u5408\\u6559\\u5b78\\u8207\\u81ea\\u5b78\\u3002 *\\u672c\\u66f8\\u4ecb\\u7d39\\u904b\\u7b97\\u601d\\u7dad\\u8207\\u96fb\\u8166\\u89e3\\u984c\\u7684\\u7279\\u6027\\uff0c\\u4e26\\u4e14\\u8aaa\\u660e\\u300c\\u5927\\u5b78\\u7a0b\\u5f0f\\u8a2d\\u8a08\\u5148\\u4fee\\u6aa2\\u6e2cAPCS\\u300d\\u7684\\u73fe\\u6cc1\\u3002 *\\u7279\\u5225\\u878d\\u5165Certiport ITS Python(IT Specialist Certification)\\u8cc7\\u8a0a\\u79d1\\u6280\\u5c08\\u5bb6\\u570b\\u969b\\u8b49\\u7167\\u8003\\u8a66\\u91cd\\u9ede\\uff0c\\u7de8\\u5beb\\u8c50\\u5bcc\\u7684\\u6a21\\u64ec\\u8a66\\u984c\\u65bc\\u5404\\u7ae0\\u7fd2\\u984c\\uff0c\\u4e26\\u65bc\\u66f8\\u672b\\u7d0d\\u5165ITS Python\\u8a8d\\u8b49\\u6a21\\u64ec\\u8a66\\u984c\\uff0c\\u8b93\\u60a8\\u638c\\u63e1\\u8003\\u8a66\\u95dc\\u9375\\uff0c\\u9806\\u5229\\u8003\\u53d6\\u8b49\\u7167\\u3002 #\\u7881\\u5cf0\\u8cc7\\u8a0a GOTOP\", \"readingModes\": {\"text\": false, \"image\": true}, \"maturityRating\": \"NOT_MATURE\", \"allowAnonLogging\": true, \"contentVersion\": \"0.1.0.0.preview.1\", \"panelizationSummary\": {\"containsEpubBubbles\": false, \"containsImageBubbles\": false}, \"imageLinks\": {\"smallThumbnail\": \"http://books.google.com/books/content?id=hjSLEAAAQBAJ&printsec=frontcover&img=1&zoom=5&edge=curl&source=gbs_api\", \"thumbnail\": \"http://books.google.com/books/content?id=hjSLEAAAQBAJ&printsec=frontcover&img=1&zoom=1&edge=curl&source=gbs_api\"}, \"previewLink\": \"http://books.google.com.tw/books?id=hjSLEAAAQBAJ&printsec=frontcover&dq=Python&hl=&cd=2&source=gbs_api\", \"infoLink\": \"https://play.google.com/store/books/details?id=hjSLEAAAQBAJ&source=gbs_api\", \"canonicalVolumeLink\": \"https://play.google.com/store/books/details?id=hjSLEAAAQBAJ\"}, \"saleInfo\": {\"country\": \"TW\", \"listPrice\": {\"amount\": 420, \"currencyCode\": \"TWD\"}, \"retailPrice\": {\"amount\": 286, \"currencyCode\": \"TWD\"}, \"buyLink\": \"https://play.google.com/store/books/details?id=hjSLEAAAQBAJ&rdid=book-hjSLEAAAQBAJ&rdot=1&source=gbs_api\", \"offers\": [{\"finskyOfferType\": 1, \"listPrice\": {\"amountInMicros\": 420000000, \"currencyCode\": \"TWD\"}, \"retailPrice\": {\"amountInMicros\": 286000000, \"currencyCode\": \"TWD\"}}]}, \"accessInfo\": {\"country\": \"TW\", \"epub\": {\"isAvailable\": false}, \"pdf\": {\"isAvailable\": true, \"acsTokenLink\": \"http://books.google.com.tw/books/download/%E7%94%A8Python%E5%AD%B8%E7%A8%8B%E5%BC%8F%E8%A8%AD%E8%A8%88%E9%81%8B%E7%AE%97%E6%80%9D%E7%B6%AD_%E7%AC%AC-sample-pdf.acsm?id=hjSLEAAAQBAJ&format=pdf&output=acs4_fulfillment_token&dl_type=sample&source=gbs_api\"}, \"accessViewStatus\": \"SAMPLE\"}, \"searchInfo\": {\"textSnippet\": \"*\\u672c\\u66f8\\u9069\\u5408\\u60f3\\u6253\\u597dPython\\u7a0b\\u5f0f\\u8a2d\\u8a08\\u57fa\\u790e\\u8005\\uff0c\\u7ae0\\u7bc0\\u5b89\\u6392\\u7531\\u6dfa\\u800c\\u6df1\\uff0c\\u4ee5\\u5faa\\u5e8f\\u6f38\\u9032\\u7684\\u65b9\\u5f0f\\u4f86\\u4ecb\\u7d39Python\\u7a0b\\u5f0f\\u8a9e\\u8a00\\u6700\\u6838\\u5fc3\\u7684\\u77e5\\u8b58\\u3002 ...\"}}, {\"kind\": \"books#volume\", \"id\": \"ISNZEAAAQBAJ\", \"etag\": \"QSe43eZJSLI\", \"selfLink\": \"https://www.googleapis.com/books/v1/volumes/ISNZEAAAQBAJ\", \"volumeInfo\": {\"title\": \"\\u8cc7\\u6599\\u8655\\u7406\\uff1a\\u4f7f\\u7528Python\\u8a9e\\u8a00\", \"authors\": [\"\\u6797\\u9032\\u76ca\"], \"publisher\": \"\\u4e94\\u5357\\u5716\\u66f8\\u51fa\\u7248\\u80a1\\u4efd\\u6709\\u9650\\u516c\\u53f8\", \"publishedDate\": \"2021-09-03\", \"description\": \"\\u904b\\u7528\\u71b1\\u9580Python\\u7a0b\\u5f0f\\u8a9e\\u8a00\\uff0c\\u5b78\\u7fd2\\u8cc7\\u6599\\u8655\\u7406\\u3002\\uff01 \\u672c\\u66f8\\u5c6c\\u65bc\\u57fa\\u672cPython\\u8a9e\\u6cd5\\u7684\\u4ecb\\u7d39\\uff0c\\u5167\\u5bb9\\u504f\\u5411\\u65bc\\u8cc7\\u6599\\u6846 (dataframe) \\u7684\\u5efa\\u69cb\\u8207\\u4f7f\\u7528\\u3002 \\u4ee5\\u6559\\u7a0b(tutorials)\\u65b9\\u5f0f\\u9032\\u884c\\uff0c\\u66f8\\u5167\\u63d0\\u4f9b\\u5c0d\\u61c9\\u7684\\u6307\\u4ee4\\u8207\\u7d50\\u679c\\uff0c\\u914d\\u5408\\u300c\\u7bc4\\u4f8b\\u300d\\u8457\\u624b\\uff0c\\u5373\\u53ef\\u4e86\\u89e3\\u3002 \\u672c\\u66f8\\u9069\\u5408\\u521d\\u5b78\\u8005\\uff0c\\u9032\\u5165\\u9580\\u6abb\\u6216\\u5c08\\u696d\\u6027\\u8cea\\u4e26\\u4e0d\\u9ad8\\uff0c\\u4e5f\\u9069\\u5408\\u4e00\\u822c\\u793e\\u6703\\u5927\\u773e\\u4f7f\\u7528\\u3002 \\u672c\\u66f8\\u4f7f\\u7528Python 3.8.2 (IDLE)\\u8207Spyder 4.1.5\\u4e8c\\u500b\\u7248\\u672c\\u3002\\u96a8\\u66f8\\u5149\\u789f\\u542b\\u5168\\u66f8\\u5b8c\\u6574\\u7a0b\\u5f0f\\u78bc\\u3002 **\\u5149\\u789f\\u5167\\u9644\\u6709\\u672c\\u66f8\\u5b8c\\u6574\\u7684\\u8cc7\\u6599\\u8207Python\\u7a0b\\u5f0f\\u78bc \\u4e00\\u66f8\\u5728\\u624b\\uff0c\\u638c\\u63e1\\u8cc7\\u6599\\u8655\\u7406\\uff01 Python\\u529f\\u80fd\\u76f8\\u7576\\u591a\\u5143\\uff0c\\u7d55\\u975e\\u53ea\\u6709\\u6578\\u64da\\u6216\\u7d71\\u8a08\\u5206\\u6790\\u76ee\\u7684\\u800c\\u5df2\\u3002\\u5168\\u66f8\\u5171\\u52069\\u7ae0\\u3002\\u7b2c1\\u7ae0Python\\u7684\\u7c21\\u4ecb\\u8aaa\\u660e\\uff0c\\u5176\\u4e2d\\u5305\\u62ec\\u5982\\u4f55\\u5efa\\u7acb\\u300c\\u985e\\u5225 (class)\\u300d\\u8207\\u6a21\\u7d44(module)\\u3002\\u7b2c2\\u7ae0\\u4ecb\\u7d39Python\\u7684\\u57fa\\u672c\\u8a9e\\u6cd5\\u3002\\u7b2c3\\u7ae0\\u6558\\u8ff0\\u5982\\u4f55\\u65bcPython\\u5167\\u64cd\\u4f5c\\u77e9\\u9663\\u4ee5\\u53ca\\u4e00\\u4e9b\\u57fa\\u672c\\u7684\\u77e9\\u9663\\u904b\\u7b97\\u3002\\u7b2c4\\u7ae0\\u4ecb\\u7d39\\u4e3b\\u8981\\u7684\\u8cc7\\u6599\\u7d50\\u69cb\\u578b\\u614b\\uff1a\\u8cc7\\u6599\\u6846\\uff0c\\u4ee5\\u53ca\\u5982\\u4f55\\u9032\\u884c\\u8cc7\\u6599\\u6846\\u5167\\u7684\\u64cd\\u4f5c\\u3002\\u7b2c5\\u7ae0\\u8aaa\\u660e\\u5982\\u4f55\\u5efa\\u7acb\\u6642\\u9593\\u5e8f\\u5217\\u578b\\u614b\\u8cc7\\u6599\\uff0c\\u5373\\u5982\\u4f55\\u65bcPython\\u5167\\u986f\\u793a\\u65e5\\u671f\\u8207\\u6642\\u9593\\u3002\\u7b2c6\\u7ae0\\u70ba\\u7b2c4\\u7ae0\\u7684\\u5ef6\\u7e8c\\uff0c\\u8aaa\\u660e\\u300c\\u9032\\u968e\\u8cc7\\u6599\\u6846\\u300d\\uff0c\\u6216\\u7a31\\u70ba\\u300c\\u591a\\u5c64\\u6b21\\u8cc7\\u6599\\u6846\\u300d\\u7684\\u5efa\\u7acb\\u3002\\u7b2c7\\u7ae0\\u4ecb\\u7d39\\u4e0d\\u540c\\u8cc7\\u6599\\u6846\\u9593\\u7684\\u5408\\u4f75\\u64cd\\u4f5c\\u3002\\u7b2c8\\u7ae0\\u5c6c\\u65bc\\u8cc7\\u6599\\u7684\\u8f38\\u5165\\u8207\\u8f38\\u51fa\\uff0c\\u5305\\u62ec\\u5982\\u4f55\\u8b80\\u53d6\\u7db2\\u8def\\u4e0a\\u7684\\u8cc7\\u6599\\u3002\\u7b2c9\\u7ae0\\u662f\\u8cc7\\u6599\\u7684\\u63a2\\u7d22\\u8207\\u7e6a\\u5716\\u7684\\u8aaa\\u660e\\u3002 \\u95b1\\u8b80\\u672c\\u66f8\\u6700\\u597d\\u65b9\\u5f0f\\u662f\\u300c\\u4e00\\u908a\\u95b1\\u8b80\\uff0c\\u4e00\\u908a\\u64cd\\u4f5c\\u300d\\uff0c\\u4e0d\\u8981\\u53ea\\u7528\\u7d14\\u7cb9\\u95b1\\u8b80\\u7684\\u65b9\\u5f0f\\u3002\\u5207\\u8a18\\uff01\", \"readingModes\": {\"text\": false, \"image\": true}, \"maturityRating\": \"NOT_MATURE\", \"allowAnonLogging\": false, \"contentVersion\": \"0.1.0.0.preview.1\", \"panelizationSummary\": {\"containsEpubBubbles\": false, \"containsImageBubbles\": false}, \"imageLinks\": {\"smallThumbnail\": \"http://books.google.com/books/content?id=ISNZEAAAQBAJ&printsec=frontcover&img=1&zoom=5&edge=curl&source=gbs_api\", \"thumbnail\": \"http://books.google.com/books/content?id=ISNZEAAAQBAJ&printsec=frontcover&img=1&zoom=1&edge=curl&source=gbs_api\"}, \"previewLink\": \"http://books.google.com.tw/books?id=ISNZEAAAQBAJ&printsec=frontcover&dq=Python&hl=&cd=3&source=gbs_api\", \"infoLink\": \"https://play.google.com/store/books/details?id=ISNZEAAAQBAJ&source=gbs_api\", \"canonicalVolumeLink\": \"https://play.google.com/store/books/details?id=ISNZEAAAQBAJ\"}, \"saleInfo\": {\"country\": \"TW\", \"listPrice\": {\"amount\": 504, \"currencyCode\": \"TWD\"}, \"retailPrice\": {\"amount\": 343, \"currencyCode\": \"TWD\"}, \"buyLink\": \"https://play.google.com/store/books/details?id=ISNZEAAAQBAJ&rdid=book-ISNZEAAAQBAJ&rdot=1&source=gbs_api\", \"offers\": [{\"finskyOfferType\": 1, \"listPrice\": {\"amountInMicros\": 504000000, \"currencyCode\": \"TWD\"}, \"retailPrice\": {\"amountInMicros\": 343000000, \"currencyCode\": \"TWD\"}}]}, \"accessInfo\": {\"country\": \"TW\", \"epub\": {\"isAvailable\": false}, \"pdf\": {\"isAvailable\": true, \"acsTokenLink\": \"http://books.google.com.tw/books/download/%E8%B3%87%E6%96%99%E8%99%95%E7%90%86_%E4%BD%BF%E7%94%A8Python%E8%AA%9E%E8%A8%80-sample-pdf.acsm?id=ISNZEAAAQBAJ&format=pdf&output=acs4_fulfillment_token&dl_type=sample&source=gbs_api\"}, \"accessViewStatus\": \"SAMPLE\"}, \"searchInfo\": {\"textSnippet\": \"\\u904b\\u7528\\u71b1\\u9580Python\\u7a0b\\u5f0f\\u8a9e\\u8a00\\uff0c\\u5b78\\u7fd2\\u8cc7\\u6599\\u8655\\u7406\\u3002\\uff01 \\u672c\\u66f8\\u5c6c\\u65bc\\u57fa\\u672cPython\\u8a9e\\u6cd5\\u7684\\u4ecb\\u7d39\\uff0c\\u5167\\u5bb9\\u504f\\u5411\\u65bc\\u8cc7\\u6599\\u6846 (dataframe) \\u7684\\u5efa\\u69cb\\u8207\\u4f7f\\u7528\\u3002 ...\"}}, {\"kind\": \"books#volume\", \"id\": \"fYFWEAAAQBAJ\", \"etag\": \"uGTKI+YT610\", \"selfLink\": \"https://www.googleapis.com/books/v1/volumes/fYFWEAAAQBAJ\", \"volumeInfo\": {\"title\": \"Python\\u81ea\\u5b78\\u8056\\u7d93(\\u7b2c\\u4e8c\\u7248)\\uff1a\\u5f9e\\u7a0b\\u5f0f\\u7d20\\u4eba\\u5230\\u958b\\u767c\\u5f37\\u8005\\u7684\\u6280\\u8853\\u8207\\u5be6\\u6230\\u5927\\u5168(\\u96fb\\u5b50\\u66f8)\", \"authors\": [\"\\u9127\\u6587\\u6df5 \\u7e3d\\u76e3\\u88fd/\\u6587\\u6df5\\u95a3\\u5de5\\u4f5c\\u5ba4 \\u7de8\\u8457\"], \"publisher\": \"\\u7881\\u5cf0\\u8cc7\\u8a0a\\u80a1\\u4efd\\u6709\\u9650\\u516c\\u53f8\", \"publishedDate\": \"2021-05-31\", \"description\": \"\\u3010Python\\u7cfb\\u5217\\u66f8\\u5728\\u53f0\\u7d2f\\u8a08\\u92b7\\u91cf\\u8fd110\\u842c\\u518a\\u3011 \\u570b\\u5167\\u773e\\u591a\\u7a0b\\u5f0f\\u4eba\\u9078\\u66f8\\u7b2c\\u4e00\\u6307\\u540d\\u3001\\u5b78\\u696d\\u754c\\u6307\\u5b9aPython\\u8b1b\\u5e2b\\u3001 \\u69ae\\u767b\\u66a2\\u92b7\\u699c\\u6700\\u591aPython\\u5716\\u66f8\\u4f5c\\u8005\\u5718\\u968a\\u4ee3\\u8868\\u4f5c \\u96c6Python\\u7a0b\\u5f0f\\u6280\\u8853\\u5927\\u6210\\uff0c\\u5f37\\u5927\\u5167\\u5bb9\\u589e\\u503c\\u518d\\u9032\\u5316\\uff5e 8\\u5927\\u9818\\u57df\\u300139\\u500b\\u4e3b\\u984c\\u3001\\u4e0a\\u767e\\u7a2e\\u6a21\\u7d44\\u5957\\u4ef6\\u3001\\u8fd11,200\\u500b\\u7bc4\\u4f8b\\uff0c \\u6db5\\u84cb\\u8a9e\\u6cd5\\u5165\\u9580\\uff0c\\u6a6b\\u8de8\\u5404\\u5927\\u71b1\\u9580\\u6280\\u8853\\u8207\\u8edf\\u786c\\u6574\\u5408\\u5be6\\u6230\\u61c9\\u7528\\uff01 \\u4e00\\u672c\\u5e36\\u4f60\\u5165\\u884c\\uff01\\u7cfb\\u7d71\\u5316\\u5206\\u7ae0\\u3001\\u5927\\u91cf\\u5716\\u8868\\u89e3\\u8aaa\\uff0c \\u5168\\u9762\\u8de8\\u5165Python\\u7a0b\\u5f0f\\u958b\\u767c\\u6bbf\\u5802\\uff01 \\u7d66\\u9700\\u8981\\u672c\\u66f8\\u7684\\u4eba\\uff1a \\u2605\\u4e0d\\u77e5\\u9053\\u5982\\u4f55\\u958b\\u59cb\\u624d\\u80fd\\u81ea\\u5b78\\u597dPython\\u7684\\u4eba \\u2605\\u6709\\u63a5\\u89f8\\u904e\\u4f46\\u53c8\\u4e0d\\u60f3\\u6253\\u6389\\u91cd\\u7df4\\u7684\\u4eba \\u2605\\u8001\\u662f\\u5beb\\u4e0d\\u597dPython\\u7a0b\\u5f0f\\u7684\\u4eba \\u2605\\u60f3\\u904b\\u7528Python\\u958b\\u767c\\u5c08\\u6848\\u7684\\u4eba \\u638c\\u63e1\\u7cfb\\u7d71\\u5316\\u7684\\u5b78\\u7fd2\\u9014\\u5f91 \\u624d\\u80fd\\u771f\\u6b63\\u99d5\\u99adPython Python\\u5ee3\\u6cdb\\u61c9\\u7528\\u65bc\\u5927\\u6578\\u64da\\u3001\\u7db2\\u8def\\u722c\\u87f2\\u3001\\u4eba\\u5de5\\u667a\\u6167\\u3001\\u6a5f\\u5668\\u5b78\\u7fd2\\u3001\\u7269\\u806f\\u7db2\\u7b49\\u71b1\\u9580\\u9818\\u57df\\uff0c\\u662f\\u4e00\\u5957\\u76f4\\u8b6f\\u5f0f\\u3001\\u7269\\u4ef6\\u5c0e\\u5411\\uff0c\\u529f\\u80fd\\u5f37\\u5927\\u7684\\u7a0b\\u5f0f\\u8a9e\\u8a00\\u3002\\u5177\\u5099\\u7c21\\u6f54\\u7684\\u8a9e\\u6cd5\\uff0c\\u64c1\\u6709\\u8a31\\u591a\\u6a21\\u7d44\\u5957\\u4ef6\\uff0c\\u8de8\\u5e73\\u53f0\\u4e14\\u5bb9\\u6613\\u64f4\\u5145\\uff0c\\u6240\\u4ee5\\u975e\\u5e38\\u9069\\u5408\\u521d\\u5b78\\u8005\\u5b78\\u7fd2\\uff0c\\u4f46\\u6c92\\u6709\\u7cfb\\u7d71\\u6027\\u8207\\u7d50\\u69cb\\u5316\\u7684\\u5b78\\u7fd2\\uff0c\\u53ea\\u80fd\\u4e00\\u77e5\\u534a\\u89e3\\uff0c\\u800c\\u80e1\\u4e82\\u7db2\\u8def\\u722c\\u6587\\uff0c\\u4e5f\\u53ea\\u6703\\u8ff7\\u5931\\u5728\\u8cc7\\u8a0a\\u53e2\\u6797\\u3002 \\u672c\\u66f8\\u5f9ePython\\u81ea\\u5b78\\u89d2\\u5ea6\\u51fa\\u767c\\uff0c\\u7cfb\\u7d71\\u5316\\u7684\\u5206\\u7ae0\\u5b78\\u7fd2\\uff0c\\u5168\\u9762\\u6db5\\u84cb\\u8a9e\\u6cd5\\u3001\\u6a21\\u7d44\\u5957\\u4ef6\\u3001\\u4e3b\\u984c\\u61c9\\u7528\\u3001\\u8edf\\u786c\\u6574\\u5408\\uff0c\\u898f\\u5283\\u51fa\\u6700\\u597d\\u7684\\u5b78\\u7fd2\\u66f2\\u7dda\\uff0c\\u7e2e\\u77ed\\u81ea\\u5b78\\u9014\\u5f91\\uff0c\\u6392\\u9664\\u5b78\\u7fd2\\u969c\\u7919\\uff0c\\u771f\\u6b63\\u5f9e\\u521d\\u5b78\\u5165\\u9580\\u5230\\u696d\\u754c\\u6d3b\\u7528\\uff01 \\u25a0\\u5b8c\\u6574\\u8a73\\u5be6\\u7684\\u7a0b\\u5f0f\\u5165\\u9580\\uff1a \\u5f9e\\u958b\\u767c\\u74b0\\u5883\\u5efa\\u7f6e\\u958b\\u59cb\\uff0c\\u7531\\u6dfa\\u5165\\u6df1\\u3001\\u5faa\\u5e8f\\u6f38\\u9032\\u3001\\u5b8c\\u6574\\u4e14\\u8a73\\u7d30\\u7684\\u89e3\\u8aaa\\u8b8a\\u6578\\u3001\\u904b\\u7b97\\u3001\\u5224\\u65b7\\u5f0f\\u3001\\u8ff4\\u5708\\u3001\\u4e32\\u5217\\u3001\\u5143\\u7d44\\u3001\\u5b57\\u5178\\u3001\\u96c6\\u5408\\u3001\\u51fd\\u5f0f\\u8207\\u6a21\\u7d44\\u7b49\\u8a9e\\u6cd5\\u89c0\\u5ff5\\u8207\\u5be6\\u4f5c\\u3002 \\u25a0\\u6649\\u7d1a\\u5c08\\u696d\\u7684\\u9032\\u968e\\u5fc3\\u6cd5\\uff1a \\u5305\\u62ec\\u7269\\u4ef6\\u5c0e\\u5411\\u958b\\u767c\\u3001\\u4f8b\\u5916\\u8655\\u7406\\u3001\\u6b63\\u898f\\u8868\\u9054\\u5f0f\\u3001\\u6a94\\u6848\\u7ba1\\u7406\\u3001\\u5716\\u5f62\\u4f7f\\u7528\\u8005\\u4ecb\\u9762\\u8a2d\\u8a08\\u7b49\\u5167\\u5bb9\\u3002 \\u25a0\\u61c9\\u7528\\u5ee3\\u6cdb\\u7684\\u8cc7\\u6599\\u79d1\\u5b78\\uff1a \\u6db5\\u84cb\\u7db2\\u8def\\u722c\\u87f2\\u3001\\u6578\\u64da\\u8cc7\\u6599\\u5132\\u5b58\\u8207\\u8b80\\u53d6\\u3001\\u8cc7\\u8a0a\\u8996\\u89ba\\u5716\\u8868\\u5316\\u3001Numpy\\u3001Pandas\\u8cc7\\u6599\\u8207\\u5206\\u6790\\u7684\\u5b8c\\u6574\\u5b78\\u7fd2\\u3002 \\u25a0\\u7121\\u6240\\u4e0d\\u5728\\u7684\\u7db2\\u8def\\u61c9\\u7528\\uff1a \\u56ca\\u62ecFlask\\u7db2\\u7ad9\\u958b\\u767c\\u3001\\u5efa\\u7acbWeb API\\u8207Heroku\\u90e8\\u7f72\\u3001Django\\u8cc7\\u6599\\u5eab\\u7db2\\u7ad9\\u67b6\\u8a2d\\uff0c\\u9084\\u6709LINE Bot\\u6a5f\\u5668\\u4eba\\u6574\\u5408\\u61c9\\u7528\\u3002 \\u25a0\\u9081\\u5411\\u672a\\u4f86\\u7684AI\\u4eba\\u5de5\\u667a\\u6167\\uff1a \\u5177\\u5099\\u6a5f\\u5668\\u5b78\\u7fd2\\u5165\\u9580\\u3001\\u6a5f\\u5668\\u5b78\\u7fd2\\u7279\\u5fb5\\u8655\\u7406\\u3001\\u5206\\u985e\\u8207\\u8ff4\\u6b78\\u6f14\\u7b97\\u6cd5\\u3001\\u6df1\\u5ea6\\u5b78\\u7fd2MLP\\u3001CNN\\u8207RNN\\u7684\\u61c9\\u7528\\uff0c\\u4ee5\\u53ca\\u6a5f\\u5668\\u5b78\\u7fd2\\u96f2\\u7aef\\u5e73\\u53f0Azure\\u3001NLP\\u81ea\\u7136\\u8a9e\\u8a00\\u8655\\u7406\\u7b49\\u80fd\\u529b\\u3002 \\u25a0\\u73a9\\u8f49\\u5275\\u610f\\u7684\\u591a\\u5a92\\u9ad4\\u4e92\\u52d5\\uff1a \\u5305\\u542b\\u8b80\\u53d6\\u5716\\u7247\\u3001\\u7de8\\u8f2f\\u5716\\u7247\\u3001\\u5408\\u6210\\u3001\\u6ffe\\u93e1\\u6548\\u679c\\u3001\\u5927\\u91cf\\u5716\\u7247\\u8655\\u7406\\uff0c\\u9084\\u6709PyGame\\u904a\\u6232\\u958b\\u767c\\u3001PyTube\\u5f71\\u97f3\\u4e0b\\u8f09\\u7b49\\u904b\\u7528\\u3002 \\u25a0\\u63d0\\u5347\\u6548\\u7387\\u7684\\u958b\\u767c\\u52a0\\u503c\\uff1a \\u4ecb\\u7d39\\u76ee\\u524d\\u696d\\u754c\\u6700\\u71b1\\u9580\\u7684Google Colab\\u96f2\\u7aef\\u958b\\u767c\\u5e73\\u53f0\\u8207VS Code\\u7de8\\u8f2f\\u795e\\u5668\\uff0c\\u4e5f\\u6df1\\u5165\\u4ecb\\u7d39\\u5982\\u4f55\\u5c07\\u7a0b\\u5f0f\\u6253\\u5305\\u6210\\u57f7\\u884c\\u6a94\\u3002 \\u3010\\u8d85\\u503c\\u9644\\u52a0\\u5167\\u5bb9\\u3011 \\u842c\\u7269\\u53ef\\u901a\\u7684IoT\\u7269\\u806f\\u7db2\\uff1a \\u5f9eMicroPython\\u7a0b\\u5f0f\\u5be6\\u4f5c\\u3001\\u786c\\u9ad4\\u5be6\\u4f5c\\u3001\\u611f\\u6e2c\\u5668\\u61c9\\u7528\\u3001\\u52a0\\u5165\\u986f\\u793a\\u88dd\\u7f6e\\u3001\\u4f7f\\u7528Wi-Fi\\u7121\\u7dda\\u7db2\\u8def\\uff0c\\u5230\\u7269\\u806f\\u7db2\\u6574\\u5408\\u61c9\\u7528\\uff0c\\u63d0\\u4f9bPDF\\u96fb\\u5b50\\u66f8\\uff0c\\u53ef\\u8996\\u9700\\u6c42\\u904b\\u7528\\u3002 \\u3010\\u8d85\\u503c\\u5b78\\u7fd2\\u8cc7\\u6e90\\u3011 \\u7368\\u5bb6\\u6536\\u9304\\u300cPython\\u7269\\u4ef6\\u5c0e\\u5411\\u7a0b\\u5f0f\\u958b\\u767c\\u5f71\\u97f3\\u6559\\u5b78\\u300d\\u3001 \\u300cGoogle Colab\\u96f2\\u7aef\\u958b\\u767c\\u5e73\\u53f0\\u5165\\u9580\\u5f71\\u97f3\\u6559\\u5b78\\u300d\\u3001 \\u5168\\u66f8\\u7bc4\\u4f8b\\u7a0b\\u5f0f\\u6a94 \\u611f\\u8b1d\\u5404\\u754c\\u773e\\u591a\\u7a0b\\u5f0f\\u8b80\\u8005\\u7684\\u80af\\u5b9a\\u8207\\u771f\\u597d\\u8a55\\uff0c \\u65b0\\u7248\\u4e2d\\uff0c\\u6211\\u5011\\u4f9d\\u64da\\u5e02\\u5834\\u56de\\u994b\\u7684\\u5bf6\\u8cb4\\u8a0a\\u606f\\u8abf\\u6574\\u7ae0\\u7bc0\\u8207\\u9806\\u5e8f\\uff0c \\u4e26\\u4e14\\u518d\\u52a0\\u503c\\u5167\\u5bb9\\u8207\\u5f71\\u97f3\\u6559\\u5b78\\uff0c\\u8b93\\u672c\\u66f8\\u66f4\\u5168\\u9762\\uff0c \\u4e5f\\u66f4\\u6709\\u5229\\u65bc\\u5b78\\u7fd2\\u3002 \\u5728\\u57fa\\u790e\\u5165\\u9580\\u7bc7\\u4e2d\\u52a0\\u5165\\u96c6\\u5408\\u8207\\u6642\\u9593\\u6a21\\u7d44\\u7684\\u4f7f\\u7528\\uff1b \\u5728\\u8cc7\\u6599\\u79d1\\u5b78\\u7bc7\\u4e2d\\u52a0\\u5165json\\u53caxml\\u683c\\u5f0f\\u7684\\u6a94\\u6848\\u64cd\\u4f5c\\uff0c\\u4ee5\\u53caPandas\\u8cc7\\u6599\\u5206\\u6790\\uff1b \\u5728\\u7db2\\u8def\\u61c9\\u7528\\u7bc7\\u4e2d\\u589e\\u52a0\\u61c9\\u7528Flask\\u9032\\u884cLine Bot\\u7684\\u6539\\u7248\\u958b\\u767c\\uff0c\\u9084\\u5347\\u7d1aDjango\\u7684\\u7248\\u672c\\uff1b \\u5728\\u4eba\\u5de5\\u667a\\u6167\\u7bc7\\u66f4\\u91dd\\u5c0d\\u6a5f\\u5668\\u5b78\\u7fd2\\u88dc\\u5f37\\u4e86\\u6f14\\u7b97\\u6cd5\\u7684\\u61c9\\u7528\\u8207\\u5be6\\u4f5c\\uff0c \\u9664\\u4e86\\u89c0\\u5ff5\\u7684\\u5c0e\\u5f15\\uff0c\\u4e5f\\u5f37\\u8abf\\u8cc7\\u6599\\u5728\\u5206\\u985e\\u3001\\u8ff4\\u6b78\\u5206\\u6790\\u4e0a\\u7684\\u5b78\\u7fd2\\uff0c\\u6df1\\u5165\\u6a5f\\u5668\\u5b78\\u7fd2\\u7684\\u6838\\u5fc3\\uff1b \\u5168\\u65b0\\u7684\\u958b\\u767c\\u52a0\\u503c\\u7bc7\\u4ecb\\u7d39\\u76ee\\u524d\\u696d\\u754c\\u6700\\u706b\\u71b1\\u7684Google Colab\\u96f2\\u7aef\\u958b\\u767c\\u5e73\\u53f0\\uff0c \\u4ee5\\u53caVS Code\\u7de8\\u8f2f\\u795e\\u5668\\uff0c\\u4e5f\\u6df1\\u5165\\u4ecb\\u7d39PyInstaller\\u57f7\\u884c\\u6a94\\u7de8\\u8b6f\\uff1b \\u5168\\u65b0\\u7684\\u591a\\u5a92\\u9ad4\\u4e92\\u52d5\\u5247\\u8457\\u91cd\\u5728Pillow\\u5716\\u7247\\u8655\\u7406\\u3001PyGame\\u904a\\u6232\\u958b\\u767c\\u3001PyTube\\u7dda\\u4e0a\\u5f71\\u97f3\\u4e0b\\u8f09\\uff1b \\u9644\\u9304\\u7684IoT\\u7269\\u806f\\u7db2\\u7bc7\\u5247\\u56e0\\u61c9\\u8edf\\u9ad4\\u66f4\\u65b0\\u4e86\\u64cd\\u4f5c\\u4ecb\\u9762\\uff0c\\u63d0\\u4f9b\\u5168\\u5f69\\u5448\\u73fe\\uff0c \\u8b93Python\\u5be6\\u6230\\u66f4\\u52a0\\u5f97\\u5fc3\\u61c9\\u624b\\u3002 #\\u7881\\u5cf0\\u8cc7\\u8a0a GOTOP\", \"readingModes\": {\"text\": false, \"image\": true}, \"maturityRating\": \"NOT_MATURE\", \"allowAnonLogging\": true, \"contentVersion\": \"preview-1.0.0\", \"panelizationSummary\": {\"containsEpubBubbles\": false, \"containsImageBubbles\": false}, \"imageLinks\": {\"smallThumbnail\": \"http://books.google.com/books/content?id=fYFWEAAAQBAJ&printsec=frontcover&img=1&zoom=5&edge=curl&source=gbs_api\", \"thumbnail\": \"http://books.google.com/books/content?id=fYFWEAAAQBAJ&printsec=frontcover&img=1&zoom=1&edge=curl&source=gbs_api\"}, \"previewLink\": \"http://books.google.com.tw/books?id=fYFWEAAAQBAJ&printsec=frontcover&dq=Python&hl=&cd=4&source=gbs_api\", \"infoLink\": \"https://play.google.com/store/books/details?id=fYFWEAAAQBAJ&source=gbs_api\", \"canonicalVolumeLink\": \"https://play.google.com/store/books/details?id=fYFWEAAAQBAJ\"}, \"saleInfo\": {\"country\": \"TW\", \"listPrice\": {\"amount\": 880, \"currencyCode\": \"TWD\"}, \"retailPrice\": {\"amount\": 616, \"currencyCode\": \"TWD\"}, \"buyLink\": \"https://play.google.com/store/books/details?id=fYFWEAAAQBAJ&rdid=book-fYFWEAAAQBAJ&rdot=1&source=gbs_api\", \"offers\": [{\"finskyOfferType\": 1, \"listPrice\": {\"amountInMicros\": 880000000, \"currencyCode\": \"TWD\"}, \"retailPrice\": {\"amountInMicros\": 616000000, \"currencyCode\": \"TWD\"}}]}, \"accessInfo\": {\"country\": \"TW\", \"epub\": {\"isAvailable\": false}, \"pdf\": {\"isAvailable\": true, \"acsTokenLink\": \"http://books.google.com.tw/books/download/Python%E8%87%AA%E5%AD%B8%E8%81%96%E7%B6%93_%E7%AC%AC%E4%BA%8C%E7%89%88_%E5%BE%9E%E7%A8%8B%E5%BC%8F-sample-pdf.acsm?id=fYFWEAAAQBAJ&format=pdf&output=acs4_fulfillment_token&dl_type=sample&source=gbs_api\"}, \"accessViewStatus\": \"SAMPLE\"}, \"searchInfo\": {\"textSnippet\": \"\\u3010Python\\u7cfb\\u5217\\u66f8\\u5728\\u53f0\\u7d2f\\u8a08\\u92b7\\u91cf\\u8fd110\\u842c\\u518a\\u3011 \\u570b\\u5167\\u773e\\u591a\\u7a0b\\u5f0f\\u4eba\\u9078\\u66f8\\u7b2c\\u4e00\\u6307\\u540d\\u3001\\u5b78\\u696d\\u754c\\u6307\\u5b9aPython\\u8b1b\\u5e2b\\u3001 \\u69ae\\u767b\\u66a2\\u92b7\\u699c\\u6700\\u591aPython\\u5716\\u66f8\\u4f5c\\u8005\\u5718\\u968a\\u4ee3\\u8868\\u4f5c \\u96c6Python\\u7a0b\\u5f0f\\u6280\\u8853\\u5927\\u6210\\uff0c\\u5f37\\u5927\\u5167\\u5bb9\\u589e\\u503c\\u518d\\u9032\\u5316\\uff5e ...\"}}, {\"kind\": \"books#volume\", \"id\": \"8-E2EAAAQBAJ\", \"etag\": \"h1XRg2UWoyg\", \"selfLink\": \"https://www.googleapis.com/books/v1/volumes/8-E2EAAAQBAJ\", \"volumeInfo\": {\"title\": \"Python\\u529f\\u529b\\u63d0\\u5347\\u7684\\u6a02\\u8da3\\uff5c\\u5beb\\u51fa\\u4e7e\\u6de8\\u7a0b\\u5f0f\\u78bc\\u7684\\u6700\\u4f73\\u5be6\\u52d9(\\u96fb\\u5b50\\u66f8)\", \"authors\": [\"Al Sweigart\"], \"publisher\": \"\\u7881\\u5cf0\\u8cc7\\u8a0a\\u80a1\\u4efd\\u6709\\u9650\\u516c\\u53f8\", \"publishedDate\": \"2021-03-26\", \"description\": \"\\u5982\\u679c\\u60a8\\u5df2\\u8b80\\u904e\\u300aPython\\u81ea\\u52d5\\u5316\\u7684\\u6a02\\u8da3\\u300b\\u9019\\u672c\\u66a2\\u92b7\\u66f8\\uff0c\\u5b78\\u5230\\u4e86\\u57fa\\u790e\\u7684Python\\u77e5\\u8b58\\u5f8c\\uff0c\\u4e0b\\u4e00\\u6b65\\u60f3\\u8981\\u6210\\u70ba\\u66f4\\u6709\\u5be6\\u529b\\u7684\\u8edf\\u9ad4\\u958b\\u767c\\u5de5\\u7a0b\\u5e2b\\u6642\\uff0c\\u9084\\u9700\\u8981\\u5b78\\u7fd2\\u4ec0\\u9ebc\\u6a23Python\\u7684\\u77e5\\u8b58\\u5462\\uff1f \\u6b61\\u8fce\\u60a8\\u7e7c\\u7e8c\\u95b1\\u8b80\\u672c\\u66f8\\uff0c\\u60a8\\u4e0d\\u50c5\\u80fd\\u5b78\\u5230\\u9032\\u968e\\u7684\\u8a9e\\u6cd5\\u548c\\u7de8\\u5beb\\u4e7e\\u6de8\\u7a0b\\u5f0f\\u78bc\\u7684\\u7cbe\\u5999\\u6280\\u5de7\\uff0c\\u9084\\u80fd\\u5b78\\u5230\\u5982\\u4f55\\u4f7f\\u7528\\u547d\\u4ee4\\u884c\\u548c\\u5176\\u4ed6\\u5c08\\u696d\\u5de5\\u5177(\\u5982\\u7a0b\\u5f0f\\u78bc\\u683c\\u5f0f\\u5316\\u7a0b\\u5f0f\\u3001\\u578b\\u5225\\u6aa2\\u67e5\\u5668\\u3001linters\\u548c\\u7248\\u672c\\u63a7\\u5236\\u7b49)\\u4f86\\u63d0\\u9ad8Python\\u7a0b\\u5f0f\\u8a2d\\u8a08\\u7684\\u6280\\u80fd\\u3002\\u672c\\u66f8\\u4f5c\\u8005Sweigart\\u6703\\u5e36\\u9818\\u60a8\\u4f7f\\u7528\\u6700\\u4f73\\u5be6\\u52d9\\u7684\\u4f5c\\u6cd5\\u4f86\\u8a2d\\u5b9a\\u958b\\u767c\\u74b0\\u5883\\uff0c\\u70ba\\u8b8a\\u6578\\u53d6\\u597d\\u7684\\u540d\\u7a31\\u548c\\u63d0\\u9ad8\\u53ef\\u8b80\\u6027\\uff0c\\u7136\\u5f8c\\u5b78\\u7fd2\\u600e\\u9ebc\\u5beb\\u51fa\\u597d\\u7684\\u8aaa\\u660e\\u6587\\u4ef6\\uff0c\\u5c0d\\u7a0b\\u5f0f\\u505a\\u51fa\\u597d\\u7684\\u7d44\\u7e54\\u7ba1\\u7406\\uff0c\\u5c0d\\u7a0b\\u5f0f\\u505a\\u51fa\\u6b63\\u78ba\\u7684\\u6548\\u80fd\\u8a55\\u6e2c\\uff0c\\u4ee5\\u53ca\\u7269\\u4ef6\\u5c0e\\u5411\\u8a2d\\u8a08\\u7684\\u89c0\\u5ff5\\uff0c\\u9084\\u6709\\u5927O\\u6f14\\u7b97\\u6cd5\\u5206\\u6790\\u7b49\\u77e5\\u8b58\\u3002\\u9019\\u4e9b\\u9032\\u968e\\u7684\\u6280\\u80fd\\u53ef\\u4ee5\\u5927\\u5e45\\u63d0\\u5347\\u60a8\\u7684\\u7a0b\\u5f0f\\u958b\\u767c\\u80fd\\u529b\\uff0c\\u9019\\u4e9b\\u77e5\\u8b58\\u4e0d\\u50c5\\u662f\\u5c0dPython\\u8a9e\\u8a00\\u6709\\u7528\\uff0c\\u5c0d\\u4efb\\u4f55\\u5176\\u4ed6\\u7a0b\\u5f0f\\u8a9e\\u8a00\\u4e5f\\u540c\\u6a23\\u6709\\u7528\\u3002 \\u672c\\u66f8\\u7cbe\\u5f69\\u7684\\u5167\\u5bb9\\uff1a \\u2027\\u5beb\\u51faPython\\u98a8\\u683c\\u7684\\u7a0b\\u5f0f\\u78bc\\uff0c\\u4ee5\\u53ca\\u600e\\u9ebc\\u5229\\u7528Python\\u7684Black\\u81ea\\u52d5\\u683c\\u5f0f\\u5316\\u5de5\\u5177\\u4f86\\u5beb\\u51fa\\u4e7e\\u6de8\\u7684\\u7a0b\\u5f0f\\u78bc \\u2027\\u5e38\\u898b\\u7684\\u7a0b\\u5f0f\\u78bc\\u932f\\u8aa4\\uff0c\\u4ee5\\u53ca\\u600e\\u9ebc\\u5229\\u7528\\u975c\\u614b\\u5206\\u6790\\u5668\\u5075\\u6e2c\\u51fa\\u9019\\u4e9b\\u932f\\u8aa4 \\u2027\\u6d3b\\u7528Cookiecutter\\u7bc4\\u672c\\u5de5\\u5177\\u4f86\\u7d44\\u7e54\\u7ba1\\u7406\\u7a0b\\u5f0f\\u5c08\\u6848\\u7684\\u76f8\\u95dc\\u6a94\\u6848\\u7d50\\u69cb \\u2027\\u5b78\\u6703lambda\\u548c\\u9ad8\\u968e\\u51fd\\u5f0f\\u7b49\\u76f8\\u95dc\\u7684\\u51fd\\u5f0f\\u7a0b\\u5f0f\\u8a2d\\u8a08\\u6280\\u5de7 \\u2027\\u6d3b\\u7528Python\\u5167\\u5efa\\u7684timeit\\u548ccProfile\\u6a21\\u7d44\\u4f86\\u5206\\u6790\\u7a0b\\u5f0f\\u7684\\u901f\\u5ea6 \\u2027\\u5b78\\u6703\\u6b63\\u78ba\\u7de8\\u5beb\\u6ce8\\u91cb\\u3001\\u6587\\u4ef6\\u5b57\\u4e32\\uff0c\\u8b93\\u9019\\u4e9b\\u5167\\u5bb9\\u66f4\\u6709\\u63cf\\u8ff0\\u6027\\u548c\\u8cc7\\u8a0a\\u529b\\uff0c\\u4e26\\u638c\\u63e1\\u7de8\\u5beb\\u7684\\u6642\\u6a5f \\u2027\\u5b78\\u5230Python\\u7684\\u7269\\u4ef6\\u5c0e\\u5411\\u7a0b\\u5f0f\\u8a2d\\u8a08\\u3001\\u985e\\u5225\\u3001\\u7e7c\\u627f\\u548cproperty\\u548cdunder\\u65b9\\u6cd5 \\u6c92\\u6709\\u4e00\\u672c\\u66f8\\u53ef\\u4ee5\\u99ac\\u4e0a\\u5c31\\u80fd\\u8b93\\u60a8\\u6210\\u70ba\\u5c08\\u696d\\u7684\\u8edf\\u9ad4\\u958b\\u767c\\u5c08\\u5bb6\\uff0c\\u4f46\\u672c\\u66f8\\u9664\\u4e86\\u6559\\u60a8\\u6d3b\\u7528Python\\u7684\\u57fa\\u672c\\u77e5\\u8b58\\u4e4b\\u5916\\uff0c\\u60a8\\u9084\\u80fd\\u5b78\\u5230\\u600e\\u9ebc\\u5beb\\u51fa\\u6613\\u65bc\\u9664\\u932f\\u4e14\\u5177\\u6709Python\\u98a8\\u683c\\u7684\\u53ef\\u8b80\\u7a0b\\u5f0f\\u78bc\\uff0c\\u80fd\\u8b93\\u60a8\\u5728\\u9081\\u5411\\u5c08\\u696d\\u7684\\u8def\\u9014\\u4e2d\\u66f4\\u70ba\\u9806\\u66a2\\u3002 #\\u7881\\u5cf0\\u8cc7\\u8a0a GOTOP\", \"readingModes\": {\"text\": false, \"image\": true}, \"maturityRating\": \"NOT_MATURE\", \"allowAnonLogging\": true, \"contentVersion\": \"preview-1.0.0\", \"panelizationSummary\": {\"containsEpubBubbles\": false, \"containsImageBubbles\": false}, \"imageLinks\": {\"smallThumbnail\": \"http://books.google.com/books/content?id=8-E2EAAAQBAJ&printsec=frontcover&img=1&zoom=5&edge=curl&source=gbs_api\", \"thumbnail\": \"http://books.google.com/books/content?id=8-E2EAAAQBAJ&printsec=frontcover&img=1&zoom=1&edge=curl&source=gbs_api\"}, \"previewLink\": \"http://books.google.com.tw/books?id=8-E2EAAAQBAJ&printsec=frontcover&dq=Python&hl=&cd=5&source=gbs_api\", \"infoLink\": \"https://play.google.com/store/books/details?id=8-E2EAAAQBAJ&source=gbs_api\", \"canonicalVolumeLink\": \"https://play.google.com/store/books/details?id=8-E2EAAAQBAJ\"}, \"saleInfo\": {\"country\": \"TW\", \"listPrice\": {\"amount\": 500, \"currencyCode\": \"TWD\"}, \"retailPrice\": {\"amount\": 340, \"currencyCode\": \"TWD\"}, \"buyLink\": \"https://play.google.com/store/books/details?id=8-E2EAAAQBAJ&rdid=book-8-E2EAAAQBAJ&rdot=1&source=gbs_api\", \"offers\": [{\"finskyOfferType\": 1, \"listPrice\": {\"amountInMicros\": 500000000, \"currencyCode\": \"TWD\"}, \"retailPrice\": {\"amountInMicros\": 340000000, \"currencyCode\": \"TWD\"}}]}, \"accessInfo\": {\"country\": \"TW\", \"epub\": {\"isAvailable\": false}, \"pdf\": {\"isAvailable\": true, \"acsTokenLink\": \"http://books.google.com.tw/books/download/Python%E5%8A%9F%E5%8A%9B%E6%8F%90%E5%8D%87%E7%9A%84%E6%A8%82%E8%B6%A3_%E5%AF%AB%E5%87%BA%E4%B9%BE%E6%B7%A8-sample-pdf.acsm?id=8-E2EAAAQBAJ&format=pdf&output=acs4_fulfillment_token&dl_type=sample&source=gbs_api\"}, \"accessViewStatus\": \"SAMPLE\"}, \"searchInfo\": {\"textSnippet\": \"\\u5982\\u679c\\u60a8\\u5df2\\u8b80\\u904e\\u300aPython\\u81ea\\u52d5\\u5316\\u7684\\u6a02\\u8da3\\u300b\\u9019\\u672c\\u66a2\\u92b7\\u66f8\\uff0c\\u5b78\\u5230\\u4e86\\u57fa\\u790e\\u7684Python\\u77e5\\u8b58\\u5f8c\\uff0c\\u4e0b\\u4e00\\u6b65\\u60f3\\u8981\\u6210\\u70ba\\u66f4\\u6709\\u5be6\\u529b\\u7684\\u8edf\\u9ad4\\u958b\\u767c\\u5de5\\u7a0b\\u5e2b\\u6642\\uff0c\\u9084\\u9700\\u8981\\u5b78\\u7fd2\\u4ec0\\u9ebc\\u6a23Python\\u7684\\u77e5\\u8b58\\u5462\\uff1f ...\"}}]}\n"
          ]
        }
      ],
      "source": [
        "with open(jsonfile, \"r\") as fp:\n",
        "    data = json.load(fp)\n",
        "json_str = json.dumps(data)\n",
        "print(json_str)"
      ]
    },
    {
      "cell_type": "code",
      "execution_count": null,
      "metadata": {
        "colab": {
          "base_uri": "https://localhost:8080/"
        },
        "id": "O9rvnN5Danac",
        "outputId": "46605720-f6f4-4dd1-f8f1-c35f5515fb3e"
      },
      "outputs": [
        {
          "name": "stdout",
          "output_type": "stream",
          "text": [
            "檔片已經下載.\n"
          ]
        }
      ],
      "source": [
        "import requests\n",
        "\n",
        "url = \"https://fchart.github.io/img/fchart03.png\"\n",
        "path = \"fchart03.png\"\n",
        "response = requests.get(url, stream=True)\n",
        "if response.status_code == 200:\n",
        "    with open(path, \"wb\") as fp:\n",
        "        for chunk in response:\n",
        "            fp.write(chunk)\n",
        "    print(\"圖片已經下載.\")\n",
        "else:\n",
        "    print(\"檔案 HTTP 請求失敗!\")\n",
        "\n",
        "# 3分鐘練習"
      ]
    },
    {
      "cell_type": "code",
      "execution_count": 1,
      "metadata": {
        "id": "Ienuads3dGkB"
      },
      "outputs": [],
      "source": [
        "# data -> file : csv, json\n",
        "# 資料庫\n",
        "# 關聯式資料庫 (Relational Database): 家樂福, Costco, 快速儲存查詢\n",
        "# SQL Server, Oracle, DB2, MySQL, SQLite\n",
        "\n",
        "import sqlite3\n",
        "\n",
        "conn = sqlite3.connect(\"Books.sqlite\")"
      ]
    }
  ],
  "metadata": {
    "colab": {
      "provenance": []
    },
    "kernelspec": {
      "display_name": "Python 3",
      "name": "python3"
    },
    "language_info": {
      "codemirror_mode": {
        "name": "ipython",
        "version": 3
      },
      "file_extension": ".py",
      "mimetype": "text/x-python",
      "name": "python",
      "nbconvert_exporter": "python",
      "pygments_lexer": "ipython3",
      "version": "3.12.1"
    }
  },
  "nbformat": 4,
  "nbformat_minor": 0
}
