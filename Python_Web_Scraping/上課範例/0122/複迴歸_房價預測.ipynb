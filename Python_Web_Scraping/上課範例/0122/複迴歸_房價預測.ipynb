{
  "nbformat": 4,
  "nbformat_minor": 0,
  "metadata": {
    "colab": {
      "provenance": []
    },
    "kernelspec": {
      "name": "python3",
      "display_name": "Python 3"
    },
    "language_info": {
      "name": "python"
    }
  },
  "cells": [
    {
      "cell_type": "code",
      "execution_count": 2,
      "metadata": {
        "colab": {
          "base_uri": "https://localhost:8080/"
        },
        "id": "RW4xq9kiUe_8",
        "outputId": "c4b077ea-4e89-4df8-95ce-bab6e28240be"
      },
      "outputs": [
        {
          "output_type": "stream",
          "name": "stdout",
          "text": [
            "(506, 13)\n"
          ]
        }
      ],
      "source": [
        "#http://lib.stat.cmu.edu/datasets/boston\n",
        "import numpy as np\n",
        "import pandas as pd\n",
        "raw_df = pd.read_csv('boston.csv', sep='\\s+', skiprows=22, header=None)\n",
        "raw_df\n",
        "#3分鐘, 9:32\n",
        "data = np.hstack([raw_df.values[::2, :], raw_df.values[1::2, :2]])\n",
        "target = raw_df.values[1::2, 2]\n",
        "print(data.shape)\n",
        "\n",
        "#3分鐘練習, 9:40"
      ]
    }
  ]
}