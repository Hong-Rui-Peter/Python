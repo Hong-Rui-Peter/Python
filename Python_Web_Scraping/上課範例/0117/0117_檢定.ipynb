{
  "nbformat": 4,
  "nbformat_minor": 0,
  "metadata": {
    "colab": {
      "provenance": []
    },
    "kernelspec": {
      "name": "python3",
      "display_name": "Python 3"
    },
    "language_info": {
      "name": "python"
    }
  },
  "cells": [
    {
      "cell_type": "code",
      "execution_count": null,
      "metadata": {
        "id": "efwLBuxc-b3_"
      },
      "outputs": [],
      "source": [
        "#估計與檢定\n",
        "#統計：1. 描述統計; 2.檢定\n",
        "#Python 資料分析\n",
        "# 估計 (Estimation): 樣本 (smaple), 台灣抽菸人口百分比? 母體 (population) -> 抽樣 1000. (平均數)\n",
        "# 假設檢定 (Hypothesis Testing): *黃色小熊會被12歲的小朋友喜愛\n",
        "#----------------\n",
        "#母數 (parameters): 母體特徵的平均數和標準差這些指標\n",
        "#σ(sigma): 母體的標準差 μ(mu):母體的平均數, *樣本的標準差 S,平均數 X (bar)\n",
        "#母體資料分配型態: 常態分配 (Normal Distribution)"
      ]
    },
    {
      "cell_type": "code",
      "source": [
        "#抽樣: 樣本資料 (sampling data)\n",
        "#1. 簡單隨機抽樣: Python 串列, 500 抽1 (隨機或是一定與比率抽)\n",
        "#2. 系統抽樣: 先隨機選取, 後以母體大小除以樣本大小的間距進行抽樣。例如:第1次抽到11, 母體10000: 200 樣本, 10000/200=50, 所以第二個樣本 61, 第三個111\n",
        "#3. 分層抽樣 (stratified sampling): strata 層\n",
        "#4. 叢集抽樣:地區別或是組織別"
      ],
      "metadata": {
        "id": "wn15GXqtFT9a"
      },
      "execution_count": null,
      "outputs": []
    },
    {
      "cell_type": "code",
      "source": [
        "#資料標準化: 使用【標準分數】(standard score) - Z (Z-score) (data science, 資料科學家)\n",
        "#練習：在 Facebook 隨機選 24 個朋友樣本, 記下每個朋友的朋友數\n",
        "import pandas as pd\n",
        "friends = [110, 1017, 1127, 417, 624, 957, 89,\n",
        "           951, 947, 797, 981, 125, 455, 731,\n",
        "           1641, 486, 1307, 472, 1131, 1771, 905,\n",
        "           532, 742, 633]\n",
        "s_friends = pd.Series(friends)\n",
        "print(s_friends.describe())\n",
        "#5分鐘,請完成。7:25"
      ],
      "metadata": {
        "colab": {
          "base_uri": "https://localhost:8080/"
        },
        "id": "JpwoCnmoHx-7",
        "outputId": "3d5990f9-0aef-4a4a-be6a-b6f130d1baf6"
      },
      "execution_count": 1,
      "outputs": [
        {
          "output_type": "stream",
          "name": "stdout",
          "text": [
            "count      24.000000\n",
            "mean      789.500000\n",
            "std       433.835874\n",
            "min        89.000000\n",
            "25%       482.500000\n",
            "50%       769.500000\n",
            "75%       990.000000\n",
            "max      1771.000000\n",
            "dtype: float64\n"
          ]
        }
      ]
    },
    {
      "cell_type": "code",
      "source": [
        "#用 Z 表達朋友數\n",
        "m = s_friends.mean()\n",
        "print('平均數: ', m)\n",
        "s = s_friends.std()\n",
        "print('標準差: ', s)\n",
        "\n",
        "z_score = []\n",
        "for x in friends:\n",
        "  z = (x - m)/s\n",
        "  z_score.append(z)\n",
        "\n",
        "print(z_score)\n",
        "#3分鐘練習, 7:35"
      ],
      "metadata": {
        "colab": {
          "base_uri": "https://localhost:8080/"
        },
        "id": "Q5EZzc08Kv7M",
        "outputId": "695c034b-5af6-4246-f5fe-bc86abf54fe3"
      },
      "execution_count": 5,
      "outputs": [
        {
          "output_type": "stream",
          "name": "stdout",
          "text": [
            "平均數:  789.5\n",
            "標準差:  433.83587359437126\n",
            "[-1.566260517762808, 0.5243918584121248, 0.777943965776229, -0.8586196363011713, -0.3814806706250842, 0.38609070894079517, -1.6146659200777733, 0.3722605939936622, 0.36304051736224024, 0.017287643683916203, 0.441411168729327, -1.5316852303949755, -0.7710289083026626, -0.13484362073454637, 1.9627238129139528, -0.6995733144091423, 1.192847414190218, -0.7318435826191192, 0.787164042407651, 2.262376303435167, 0.2662297127323095, -0.5935424331477895, -0.10948840999813594, -0.3607354982043847]\n"
          ]
        }
      ]
    },
    {
      "cell_type": "code",
      "source": [
        "#中央極限定理: 抽樣數夠大, 都幾乎會是常態分配\n",
        "# 休息10分鐘, 7:45開始\n",
        "import matplotlib.pyplot as plt\n",
        "import numpy as np\n",
        "dice = [1, 2, 3, 4, 5, 6]\n",
        "sample_means = []\n",
        "for x in range(100):\n",
        "  sample = np.random.choice(a=dice, size=1)\n",
        "  sample_means.append(sample.mean())\n",
        "\n",
        "df = pd.DataFrame(sample_means)\n",
        "df.plot(kind='density')\n",
        "plt.show()\n",
        "#練習5分鐘, 8:03"
      ],
      "metadata": {
        "colab": {
          "base_uri": "https://localhost:8080/",
          "height": 430
        },
        "id": "et_QZ89rNFG1",
        "outputId": "48b86d3d-bbbb-4974-d56a-fe197df5f956"
      },
      "execution_count": 10,
      "outputs": [
        {
          "output_type": "display_data",
          "data": {
            "text/plain": [
              "<Figure size 640x480 with 1 Axes>"
            ],
            "image/png": "[encoded data removed]"
          },
          "metadata": {}
        }
      ]
    },
    {
      "cell_type": "code",
      "source": [
        "#估計\n",
        "#點估計 (point estimation): 民調調查結果,所有的選民有 45% 投給 2 號候選人\n",
        "#區間估計 (interval estimate):全國 30%-48% 會投給 1 號候選人\n",
        "#甚麼是好的估計: 1. 不偏差 (bias); 2. 有效; 3. 一致性\n",
        "\n",
        "population = []\n",
        "for x in range(10000):\n",
        "  sample = np.random.choice(a=dice, size=100)\n",
        "  population.append(sample.mean())\n",
        "print('母體的平均數: ', sum(population)/10000)"
      ],
      "metadata": {
        "colab": {
          "base_uri": "https://localhost:8080/"
        },
        "id": "IpNZstQqTiOq",
        "outputId": "99d5be86-ab6f-4515-ff9b-68012cdc8bd0"
      },
      "execution_count": 12,
      "outputs": [
        {
          "output_type": "stream",
          "name": "stdout",
          "text": [
            "母體的平均數:  3.5002239999999794\n"
          ]
        }
      ]
    },
    {
      "cell_type": "code",
      "source": [
        "size_range = [10, 100, 1000]\n",
        "for sample_size in size_range:\n",
        "  sample = np.random.choice(a=population, size=sample_size)\n",
        "  sample_mean = sample.mean()\n",
        "  print(sample_size, '樣本平均數', sample_mean)\n",
        "\n",
        "#5分鐘練習, 8:20"
      ],
      "metadata": {
        "colab": {
          "base_uri": "https://localhost:8080/"
        },
        "id": "7Fu1coi-VRvV",
        "outputId": "8a76dd62-39eb-4cb3-966a-87f3cd84a5b9"
      },
      "execution_count": 13,
      "outputs": [
        {
          "output_type": "stream",
          "name": "stdout",
          "text": [
            "10 樣本平均數 3.5159999999999996\n",
            "100 樣本平均數 3.470500000000001\n",
            "1000 樣本平均數 3.50179\n"
          ]
        }
      ]
    },
    {
      "cell_type": "code",
      "source": [
        "#區間估計: 例如：國內男性身高 95% 機率是在 161-179 公分之間\n",
        "#95% 機率: 信賴係數 (confidence coefficent), 信賴水準\n",
        "# 161-179 公分: 信賴區間 (confidence intervals)\n",
        "# 95% 會準確, 顯著水準, 99%\n",
        "\n",
        "# 進行區間估計的步驟: 1. 決定信賴係數; 2. 查詢 Z  分配表; 3.獲得信賴區間值\n",
        "\n",
        "population = []\n",
        "for x in range(10000):\n",
        "  sample = np.random.choice(a=dice, size=100)\n",
        "  population.append(sample.mean())\n",
        "print('母體平均數: ', sum(population)/10000)\n",
        "\n",
        "#第二節課休息, 8:40 繼續"
      ],
      "metadata": {
        "colab": {
          "base_uri": "https://localhost:8080/"
        },
        "id": "EmoBTJ1YXbXm",
        "outputId": "defc4cc0-a24e-41da-de8d-04ed0cfe7d2d"
      },
      "execution_count": 15,
      "outputs": [
        {
          "output_type": "stream",
          "name": "stdout",
          "text": [
            "母體平均數:  3.4998799999999997\n"
          ]
        }
      ]
    },
    {
      "cell_type": "code",
      "source": [
        "import math\n",
        "sample_size = 100\n",
        "sample = np.random.choice(a=population, size=sample_size)\n",
        "sample_mean = sample.mean()\n",
        "print('樣本平均:', sample_mean)\n",
        "sample_stdev = sample.std()\n",
        "print('樣本標準差:', sample_stdev)\n",
        "sigma = sample_stdev/math.sqrt(sample_size-1)\n",
        "print('樣本計算出的母體標準差:', sigma)\n",
        "#5分鐘練習, 8:52"
      ],
      "metadata": {
        "colab": {
          "base_uri": "https://localhost:8080/"
        },
        "id": "w2WNOENccFpb",
        "outputId": "1f72323c-2b7d-4a86-b320-8337bfe00089"
      },
      "execution_count": 16,
      "outputs": [
        {
          "output_type": "stream",
          "name": "stdout",
          "text": [
            "樣本平均: 3.5135\n",
            "樣本標準差: 0.19906971140783822\n",
            "樣本計算出的母體標準差: 0.020007258783761556\n"
          ]
        }
      ]
    },
    {
      "cell_type": "code",
      "source": [
        "#範例問題 1 (自由練習)：學校有一些交換學生, 有人認為交換生成績比較好, 有人不認為。怎麼證明?\n",
        "# 交換學樣本 100 個學生, 成績平均是 71.5 分; 從教務處得到全校學生的平均成績 70分; 母體的標準差: 2.5\n",
        "# H0: 交換生的成績和全校平均成績相同。\n",
        "# Ha: 不同鄉。\n",
        "import numpy as np\n",
        "from scipy import stats\n",
        "import math\n",
        "\n",
        "population_mean = 70\n",
        "sample_size = 100\n",
        "sample_mean = 71.5\n",
        "print('樣本平均:', sample_mean)\n",
        "sigma = 2.5\n",
        "z_obtained = (sample_mean - population_mean)/(sigma/math.sqrt(sample_size))\n",
        "print('Z 檢定統計量: ', z_obtained) #-> =6, 表示 71.5 離假設母體平均數 70 有 6 個標準差之遠, 故沒有落在信賴區間內\n",
        "z_critical = stats.norm.ppf(q= 0.975)\n",
        "print('Z 分數: ', z_critical)"
      ],
      "metadata": {
        "colab": {
          "base_uri": "https://localhost:8080/"
        },
        "id": "LiEl79BCehBb",
        "outputId": "be8e5fbe-a9c4-414b-b719-9b3523a20fbb"
      },
      "execution_count": 17,
      "outputs": [
        {
          "output_type": "stream",
          "name": "stdout",
          "text": [
            "樣本平均: 71.5\n",
            "Z 檢定統計量:  6.0\n",
            "Z 分數:  1.959963984540054\n"
          ]
        }
      ]
    },
    {
      "cell_type": "code",
      "source": [
        "#範例 2 (自由練習):\n",
        "#披薩店希望各種披薩的銷售量相同, 能夠方便備料 (30份)\n",
        "#蔬菜 20 地中海 16, 總匯 34, 夏威夷 40, 海鮮 38, 燻雞 32\n",
        "#H0: 披薩的銷售量與期望銷售量相同\n",
        "#Ha:不一致\n",
        "observed = np.array([20, 16, 34, 40, 38, 32])\n",
        "expected = np.array([30,30,30,30, 30, 30])\n",
        "df = len(observed) - 1\n",
        "print('自由度:', df)\n",
        "chi_squared_stat = (((observed-expected)**2)/expected).sum()\n",
        "print('卡方檢定統計量:', chi_squared_stat)\n",
        "chi_squared, p_value = stats.chisquare(f_obs=observed, f_exp=expected)\n",
        "print(chi_squared, p_value)\n",
        "crit = stats.chi2.ppf(q = 0.95, df=df)\n",
        "print('臨界區: ', crit)\n",
        "\n",
        "#練習5分鐘, 至9:25\n"
      ],
      "metadata": {
        "colab": {
          "base_uri": "https://localhost:8080/"
        },
        "id": "W8bXjELXhxTe",
        "outputId": "b81e9e89-ad1a-4bf1-ff54-79b74851eba5"
      },
      "execution_count": 22,
      "outputs": [
        {
          "output_type": "stream",
          "name": "stdout",
          "text": [
            "自由度: 5\n",
            "卡方檢定統計量: 16.0\n",
            "16.0 0.006844073922420431\n",
            "臨界區:  11.070497693516351\n"
          ]
        }
      ]
    },
    {
      "cell_type": "code",
      "source": [
        "#範例 3\n",
        "#學生每日使用手機時間與學習分數有相關\n",
        "#使用小時:\n",
        "hours_phone_used = [0,0,0,1, 1.3, 1.5, 2, 2.2, 2.6, 3.2, 4.1, 4.4, 5]\n",
        "score = [87, 89, 91, 90, 82, 80, 78, 81, 76, 85, 80, 73, 72]\n",
        "\n",
        "df = pd.DataFrame({'手機使用時間 (小時)': hours_phone_used, '分數':score})\n",
        "print(df)\n",
        "df.plot(kind='scatter', x='手機使用時間 (小時)', y='分數')\n",
        "plt.title('Mobile Phone and Learning')\n",
        "plt.show()\n",
        "#1.統計方式:平均值, 看變異的程度\n",
        "#2.相關係數"
      ],
      "metadata": {
        "colab": {
          "base_uri": "https://localhost:8080/",
          "height": 1000
        },
        "id": "z-OwCjWGl82n",
        "outputId": "627bdc63-d93c-4339-9cdc-fbfbac0ab8f0"
      },
      "execution_count": 28,
      "outputs": [
        {
          "output_type": "stream",
          "name": "stdout",
          "text": [
            "    手機使用時間 (小時)  分數\n",
            "0           0.0  87\n",
            "1           0.0  89\n",
            "2           0.0  91\n",
            "3           1.0  90\n",
            "4           1.3  82\n",
            "5           1.5  80\n",
            "6           2.0  78\n",
            "7           2.2  81\n",
            "8           2.6  76\n",
            "9           3.2  85\n",
            "10          4.1  80\n",
            "11          4.4  73\n",
            "12          5.0  72\n"
          ]
        },
        {
          "output_type": "stream",
          "name": "stderr",
          "text": [
            "/usr/local/lib/python3.10/dist-packages/IPython/core/pylabtools.py:151: UserWarning: Glyph 20998 (\\N{CJK UNIFIED IDEOGRAPH-5206}) missing from current font.\n",
            "  fig.canvas.print_figure(bytes_io, **kw)\n",
            "/usr/local/lib/python3.10/dist-packages/IPython/core/pylabtools.py:151: UserWarning: Glyph 25976 (\\N{CJK UNIFIED IDEOGRAPH-6578}) missing from current font.\n",
            "  fig.canvas.print_figure(bytes_io, **kw)\n",
            "/usr/local/lib/python3.10/dist-packages/IPython/core/pylabtools.py:151: UserWarning: Glyph 25163 (\\N{CJK UNIFIED IDEOGRAPH-624B}) missing from current font.\n",
            "  fig.canvas.print_figure(bytes_io, **kw)\n",
            "/usr/local/lib/python3.10/dist-packages/IPython/core/pylabtools.py:151: UserWarning: Glyph 27231 (\\N{CJK UNIFIED IDEOGRAPH-6A5F}) missing from current font.\n",
            "  fig.canvas.print_figure(bytes_io, **kw)\n",
            "/usr/local/lib/python3.10/dist-packages/IPython/core/pylabtools.py:151: UserWarning: Glyph 20351 (\\N{CJK UNIFIED IDEOGRAPH-4F7F}) missing from current font.\n",
            "  fig.canvas.print_figure(bytes_io, **kw)\n",
            "/usr/local/lib/python3.10/dist-packages/IPython/core/pylabtools.py:151: UserWarning: Glyph 29992 (\\N{CJK UNIFIED IDEOGRAPH-7528}) missing from current font.\n",
            "  fig.canvas.print_figure(bytes_io, **kw)\n",
            "/usr/local/lib/python3.10/dist-packages/IPython/core/pylabtools.py:151: UserWarning: Glyph 26178 (\\N{CJK UNIFIED IDEOGRAPH-6642}) missing from current font.\n",
            "  fig.canvas.print_figure(bytes_io, **kw)\n",
            "/usr/local/lib/python3.10/dist-packages/IPython/core/pylabtools.py:151: UserWarning: Glyph 38291 (\\N{CJK UNIFIED IDEOGRAPH-9593}) missing from current font.\n",
            "  fig.canvas.print_figure(bytes_io, **kw)\n",
            "/usr/local/lib/python3.10/dist-packages/IPython/core/pylabtools.py:151: UserWarning: Glyph 23567 (\\N{CJK UNIFIED IDEOGRAPH-5C0F}) missing from current font.\n",
            "  fig.canvas.print_figure(bytes_io, **kw)\n"
          ]
        },
        {
          "output_type": "display_data",
          "data": {
            "text/plain": [
              "<Figure size 640x480 with 1 Axes>"
            ],
            "image/png": "[encoded data removed]"
          },
          "metadata": {}
        }
      ]
    },
    {
      "cell_type": "code",
      "source": [],
      "metadata": {
        "id": "kmNkcm8HoSah"
      },
      "execution_count": null,
      "outputs": []
    }
  ]
}