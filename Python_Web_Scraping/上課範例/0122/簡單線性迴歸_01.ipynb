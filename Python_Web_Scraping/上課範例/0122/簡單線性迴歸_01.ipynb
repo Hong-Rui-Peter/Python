{
  "nbformat": 4,
  "nbformat_minor": 0,
  "metadata": {
    "colab": {
      "provenance": []
    },
    "kernelspec": {
      "name": "python3",
      "display_name": "Python 3"
    },
    "language_info": {
      "name": "python"
    }
  },
  "cells": [
    {
      "cell_type": "code",
      "execution_count": null,
      "metadata": {
        "id": "ee8vvOu4wFfT"
      },
      "outputs": [],
      "source": [
        "#作業:\n",
        "#簡單線性迴歸 (Simple Linear Regression): 由現有的資料建立一條線, 從這條線可以看出資料的相關性, 而獲得對未來發展的預測。\n",
        "#適合：預測, 資料之間的變項有相關性"
      ]
    },
    {
      "cell_type": "code",
      "source": [
        "# 85度C: 蒐集氣溫與店營業額的資料\n",
        "# 氣溫：29, 28, 34, 31, 25, 29, 32, 31, 24, 33, 25, 31, 26, 30\n",
        "# 營業額 (單位千元)：7.7, 6.2, 9.3, 8.4, 5.9, 6.4, 8.0, 7.5, 5.8, 9.1, 5.1, 7.3, 6.5, 8.4"
      ],
      "metadata": {
        "id": "VTqPqo5-2805"
      },
      "execution_count": null,
      "outputs": []
    },
    {
      "cell_type": "code",
      "source": [
        "import numpy as np\n",
        "import pandas as pd\n",
        "from sklearn.linear_model import LinearRegression\n",
        "\n",
        "temp = np.array([29, 28, 34, 31, 25, 29, 32, 31, 24, 33, 25, 31, 26, 30])\n",
        "income = np.array([7.7, 6.2, 9.3, 8.4, 5.9, 6.4, 8.0, 7.5, 5.8, 9.1, 5.1, 7.3, 6.5, 8.4])\n",
        "# data (X)-> label (target 答案 y)\n",
        "X = pd.DataFrame(temp, columns=['氣溫'])\n",
        "target = pd.DataFrame(income, columns=['營業額'])\n",
        "y = target['營業額']"
      ],
      "metadata": {
        "id": "gSMcb7J33pVD"
      },
      "execution_count": null,
      "outputs": []
    },
    {
      "cell_type": "code",
      "source": [
        "lm = LinearRegression()\n",
        "lm.fit(X, y)\n",
        "print('迴歸係數: ', lm.coef_)\n",
        "print('截距: ', lm.intercept_)\n",
        "# y = 0.37X - 3.636"
      ],
      "metadata": {
        "colab": {
          "base_uri": "https://localhost:8080/"
        },
        "id": "EVaU0L2L5fco",
        "outputId": "d8ad827b-3525-435c-8afa-920f400c7ba0"
      },
      "execution_count": null,
      "outputs": [
        {
          "output_type": "stream",
          "name": "stdout",
          "text": [
            "迴歸係數:  [0.37378855]\n",
            "截距:  -3.6361233480176187\n"
          ]
        }
      ]
    },
    {
      "cell_type": "code",
      "source": [
        "# 預測氣溫 11, 30 度營業營應該是多少?\n",
        "new_temp = pd.DataFrame(np.array([12, 30]), columns=['氣溫'])\n",
        "pred = lm.predict(new_temp)\n",
        "print(pred)\n",
        "# 5分鐘練習, 7:40"
      ],
      "metadata": {
        "colab": {
          "base_uri": "https://localhost:8080/"
        },
        "id": "qXXT4AH078ih",
        "outputId": "28653a04-6898-48c1-ad7e-a594f4144c0a"
      },
      "execution_count": null,
      "outputs": [
        {
          "output_type": "stream",
          "name": "stdout",
          "text": [
            "[0.84933921 7.57753304]\n"
          ]
        }
      ]
    },
    {
      "cell_type": "code",
      "source": [
        "#繪圖表示\n",
        "#第一節課休息, 7:50 繼續\n",
        "import matplotlib.pyplot as plt\n",
        "plt.scatter(temp, income)\n",
        "ra = lm.predict(X)\n",
        "plt.plot(temp, ra, color='blue')\n",
        "plt.plot(new_temp['氣溫'], pred, color='red', marker='o', markersize=10)\n",
        "plt.title('An AI model predict Income')\n",
        "#5分鐘練習, 8:05"
      ],
      "metadata": {
        "colab": {
          "base_uri": "https://localhost:8080/",
          "height": 470
        },
        "id": "BadrERbm-LQu",
        "outputId": "27296dfd-d702-46f3-80d5-bebb2444adea"
      },
      "execution_count": null,
      "outputs": [
        {
          "output_type": "execute_result",
          "data": {
            "text/plain": [
              "Text(0.5, 1.0, 'An AI model predict Income')"
            ]
          },
          "metadata": {},
          "execution_count": 14
        },
        {
          "output_type": "display_data",
          "data": {
            "text/plain": [
              "<Figure size 640x480 with 1 Axes>"
            ],
            "image/png": "[encoded data removed]"
          },
          "metadata": {}
        }
      ]
    }
  ]
}