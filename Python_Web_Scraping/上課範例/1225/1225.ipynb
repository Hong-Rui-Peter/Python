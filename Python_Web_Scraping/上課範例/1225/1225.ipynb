{
  "cells": [
    {
      "cell_type": "code",
      "execution_count": 1,
      "metadata": {
        "colab": {
          "base_uri": "https://localhost:8080/"
        },
        "id": "v60qRmerkWTB",
        "outputId": "6488b792-4c23-4c4d-f948-2b05ffd41a87"
      },
      "outputs": [
        {
          "name": "stdout",
          "output_type": "stream",
          "text": [
            "200\n"
          ]
        }
      ],
      "source": [
        "# html\n",
        "# Javascript\n",
        "\n",
        "import requests\n",
        "\n",
        "r = requests.get(\"http://www.google.com\")\n",
        "print(r.status_code)\n",
        "# http -> 200 ok.  請練習3 分鐘, 07:00"
      ]
    },
    {
      "cell_type": "code",
      "execution_count": 2,
      "metadata": {
        "colab": {
          "base_uri": "https://localhost:8080/"
        },
        "id": "n7WXnRSaodlf",
        "outputId": "c7ed34e5-b9ed-4ce2-ccbc-0b2228fd50c8"
      },
      "outputs": [
        {
          "name": "stdout",
          "output_type": "stream",
          "text": [
            "http://httpbin.org/get?name=%E9%99%B3%E6%83%A0%E5%AE%89&score=95\n"
          ]
        }
      ],
      "source": [
        "# http://www.company.com?para1=value1&para2=value2\n",
        "# 通訊協定 http, https, fpt, telnet, ssh,\n",
        "\n",
        "url_params = {\"name\": \"陳惠安\", \"score\": \"95\"}\n",
        "r = requests.get(\"http://httpbin.org/get\", params=url_params)\n",
        "print(r.url)  # 請練習3分鐘, 7:10"
      ]
    },
    {
      "cell_type": "code",
      "execution_count": 5,
      "metadata": {
        "colab": {
          "base_uri": "https://localhost:8080/"
        },
        "id": "enckifRgqvcE",
        "outputId": "f325f1b5-27bc-4b46-f18c-d030944e9f06"
      },
      "outputs": [
        {
          "name": "stdout",
          "output_type": "stream",
          "text": [
            "Collecting URLEncoder\n",
            "  Downloading URLEncoder-1.1.tar.gz (2.9 kB)\n",
            "  Preparing metadata (setup.py) ... \u001b[?25l\u001b[?25hdone\n",
            "Building wheels for collected packages: URLEncoder\n",
            "  Building wheel for URLEncoder (setup.py) ... \u001b[?25l\u001b[?25hdone\n",
            "  Created wheel for URLEncoder: filename=URLEncoder-1.1-py3-none-any.whl size=3819 sha256=ae29ef4740abff0711387dc988ea7bfe12264e62fab2795159e468a9ad5c5403\n",
            "  Stored in directory: /root/.cache/pip/wheels/e5/50/34/75358d9ef10fd602dc7f8a9c90476e1d5880241309744da6fa\n",
            "Successfully built URLEncoder\n",
            "Installing collected packages: URLEncoder\n",
            "Successfully installed URLEncoder-1.1\n"
          ]
        }
      ],
      "source": [
        "!pip install URLEncoder"
      ]
    },
    {
      "cell_type": "code",
      "execution_count": 2,
      "metadata": {
        "colab": {
          "base_uri": "https://localhost:8080/"
        },
        "id": "q5N40OOsr7rr",
        "outputId": "41e0c5d4-e21e-4f30-b256-6d367e77df63"
      },
      "outputs": [
        {
          "ename": "ModuleNotFoundError",
          "evalue": "No module named 'urlencode'",
          "output_type": "error",
          "traceback": [
            "\u001b[1;31m---------------------------------------------------------------------------\u001b[0m",
            "\u001b[1;31mModuleNotFoundError\u001b[0m                       Traceback (most recent call last)",
            "Cell \u001b[1;32mIn[2], line 1\u001b[0m\n\u001b[1;32m----> 1\u001b[0m \u001b[38;5;28;01mfrom\u001b[39;00m \u001b[38;5;21;01murlencode\u001b[39;00m \u001b[38;5;28;01mimport\u001b[39;00m urlencode\n\u001b[0;32m      2\u001b[0m \u001b[38;5;28mprint\u001b[39m(r\u001b[38;5;241m.\u001b[39mtext)\n",
            "\u001b[1;31mModuleNotFoundError\u001b[0m: No module named 'urlencode'"
          ]
        }
      ],
      "source": [
        "from urlencode import urlencode\n",
        "\n",
        "print(r.text)"
      ]
    },
    {
      "cell_type": "code",
      "execution_count": 4,
      "metadata": {
        "colab": {
          "base_uri": "https://localhost:8080/"
        },
        "id": "Zo9fRhs_tKyU",
        "outputId": "774a740e-d920-4f8e-986b-797c782b8e98"
      },
      "outputs": [
        {
          "name": "stdout",
          "output_type": "stream",
          "text": [
            "ISO-8859-1\n"
          ]
        }
      ],
      "source": [
        "# httpbin\n",
        "print(r.encoding)"
      ]
    },
    {
      "cell_type": "code",
      "execution_count": 15,
      "metadata": {
        "colab": {
          "base_uri": "https://localhost:8080/"
        },
        "id": "40skz2bsu3MU",
        "outputId": "b022b857-eb3a-49e8-8ec4-18df6324b953"
      },
      "outputs": [
        {
          "name": "stdout",
          "output_type": "stream",
          "text": [
            "{'args': {'name': '陳惠安', 'score': '95'}, 'headers': {'Accept': '*/*', 'Accept-Encoding': 'gzip, deflate', 'Host': 'httpbin.org', 'User-Agent': 'python-requests/2.31.0', 'X-Amzn-Trace-Id': 'Root=1-65896234-2352fc0a3ae43de97b9a3410'}, 'origin': '34.31.195.227', 'url': 'http://httpbin.org/get?name=陳惠安&score=95'}\n",
            "<class 'dict'>\n",
            "{'args': {'name': '陳惠安', 'score': '95'},\n",
            " 'headers': {'Accept': '*/*',\n",
            "             'Accept-Encoding': 'gzip, deflate',\n",
            "             'Host': 'httpbin.org',\n",
            "             'User-Agent': 'python-requests/2.31.0',\n",
            "             'X-Amzn-Trace-Id': 'Root=1-65896234-2352fc0a3ae43de97b9a3410'},\n",
            " 'origin': '34.31.195.227',\n",
            " 'url': 'http://httpbin.org/get?name=陳惠安&score=95'}\n"
          ]
        }
      ],
      "source": [
        "# json -> dictionary { key : value, key2 : value2}\n",
        "print(r.json())  # 休息10分鐘至 7:40\n",
        "print(type(r.json()))\n",
        "import pprint\n",
        "\n",
        "pprint.pprint(r.json())  # 請練習3分鐘"
      ]
    },
    {
      "cell_type": "code",
      "execution_count": 7,
      "metadata": {
        "colab": {
          "base_uri": "https://localhost:8080/"
        },
        "id": "VpohRgpQynWb",
        "outputId": "bd80b559-162b-4a7c-8842-bd01053ceed5"
      },
      "outputs": [
        {
          "name": "stdout",
          "output_type": "stream",
          "text": [
            "200\n",
            "True\n",
            "200\n",
            "404\n",
            "False\n"
          ]
        }
      ],
      "source": [
        "# 綜合練習\n",
        "import requests\n",
        "\n",
        "r = requests.get(\"http://www.google.com\")\n",
        "print(r.status_code)\n",
        "print(r.status_code == requests.codes.ok)\n",
        "\n",
        "r = requests.get(\"http://www.google.com/404\")\n",
        "print(r.status_code)\n",
        "print(r.status_code == requests.codes.all_good)"
      ]
    },
    {
      "cell_type": "code",
      "execution_count": null,
      "metadata": {},
      "outputs": [],
      "source": []
    },
    {
      "cell_type": "code",
      "execution_count": null,
      "metadata": {},
      "outputs": [],
      "source": []
    },
    {
      "cell_type": "code",
      "execution_count": null,
      "metadata": {},
      "outputs": [],
      "source": []
    },
    {
      "cell_type": "code",
      "execution_count": null,
      "metadata": {},
      "outputs": [],
      "source": []
    },
    {
      "cell_type": "code",
      "execution_count": 21,
      "metadata": {
        "colab": {
          "base_uri": "https://localhost:8080/",
          "height": 351
        },
        "id": "j-UZ7LrQ0ggZ",
        "outputId": "a6650d8e-a0b8-4b71-9d5a-d6812925b7bd"
      },
      "outputs": [
        {
          "name": "stdout",
          "output_type": "stream",
          "text": [
            "404\n"
          ]
        },
        {
          "ename": "HTTPError",
          "evalue": "ignored",
          "output_type": "error",
          "traceback": [
            "\u001b[0;31m---------------------------------------------------------------------------\u001b[0m",
            "\u001b[0;31mHTTPError\u001b[0m                                 Traceback (most recent call last)",
            "\u001b[0;32m<ipython-input-21-460927084c7b>\u001b[0m in \u001b[0;36m<cell line: 3>\u001b[0;34m()\u001b[0m\n\u001b[1;32m      1\u001b[0m \u001b[0;31m#200 OK. 404-> 400-599 http 錯誤\u001b[0m\u001b[0;34m\u001b[0m\u001b[0;34m\u001b[0m\u001b[0m\n\u001b[1;32m      2\u001b[0m \u001b[0mprint\u001b[0m\u001b[0;34m(\u001b[0m\u001b[0mr\u001b[0m\u001b[0;34m.\u001b[0m\u001b[0mstatus_code\u001b[0m\u001b[0;34m)\u001b[0m\u001b[0;34m\u001b[0m\u001b[0;34m\u001b[0m\u001b[0m\n\u001b[0;32m----> 3\u001b[0;31m \u001b[0mprint\u001b[0m\u001b[0;34m(\u001b[0m\u001b[0mr\u001b[0m\u001b[0;34m.\u001b[0m\u001b[0mraise_for_status\u001b[0m\u001b[0;34m(\u001b[0m\u001b[0;34m)\u001b[0m\u001b[0;34m)\u001b[0m\u001b[0;34m\u001b[0m\u001b[0;34m\u001b[0m\u001b[0m\n\u001b[0m",
            "\u001b[0;32m/usr/local/lib/python3.10/dist-packages/requests/models.py\u001b[0m in \u001b[0;36mraise_for_status\u001b[0;34m(self)\u001b[0m\n\u001b[1;32m   1019\u001b[0m \u001b[0;34m\u001b[0m\u001b[0m\n\u001b[1;32m   1020\u001b[0m         \u001b[0;32mif\u001b[0m \u001b[0mhttp_error_msg\u001b[0m\u001b[0;34m:\u001b[0m\u001b[0;34m\u001b[0m\u001b[0;34m\u001b[0m\u001b[0m\n\u001b[0;32m-> 1021\u001b[0;31m             \u001b[0;32mraise\u001b[0m \u001b[0mHTTPError\u001b[0m\u001b[0;34m(\u001b[0m\u001b[0mhttp_error_msg\u001b[0m\u001b[0;34m,\u001b[0m \u001b[0mresponse\u001b[0m\u001b[0;34m=\u001b[0m\u001b[0mself\u001b[0m\u001b[0;34m)\u001b[0m\u001b[0;34m\u001b[0m\u001b[0;34m\u001b[0m\u001b[0m\n\u001b[0m\u001b[1;32m   1022\u001b[0m \u001b[0;34m\u001b[0m\u001b[0m\n\u001b[1;32m   1023\u001b[0m     \u001b[0;32mdef\u001b[0m \u001b[0mclose\u001b[0m\u001b[0;34m(\u001b[0m\u001b[0mself\u001b[0m\u001b[0;34m)\u001b[0m\u001b[0;34m:\u001b[0m\u001b[0;34m\u001b[0m\u001b[0;34m\u001b[0m\u001b[0m\n",
            "\u001b[0;31mHTTPError\u001b[0m: 404 Client Error: Not Found for url: http://www.google.com/404"
          ]
        }
      ],
      "source": [
        "# 200 OK. 404-> 400-599 http 錯誤\n",
        "print(r.status_code)\n",
        "print(r.raise_for_status())"
      ]
    },
    {
      "cell_type": "code",
      "execution_count": 31,
      "metadata": {
        "colab": {
          "base_uri": "https://localhost:8080/"
        },
        "id": "j1jP3fxE1ilZ",
        "outputId": "a6b1b8af-6ec1-4858-a67b-5c55d61b35a4"
      },
      "outputs": [
        {
          "name": "stdout",
          "output_type": "stream",
          "text": [
            "text/html; charset=ISO-8859-1\n",
            "8113\n",
            "Mon, 25 Dec 2023 12:19:36 GMT\n",
            "gws\n"
          ]
        }
      ],
      "source": [
        "# 取得回應的標頭資訊 - header\n",
        "r = requests.get(\"http://www.google.com\")\n",
        "print(r.headers[\"Content-Type\"])\n",
        "print(r.headers[\"Content-Length\"])\n",
        "print(r.headers[\"Date\"])\n",
        "print(r.headers[\"Server\"])  # 請練習3分鐘"
      ]
    },
    {
      "cell_type": "code",
      "execution_count": 26,
      "metadata": {
        "colab": {
          "base_uri": "https://localhost:8080/"
        },
        "id": "tDFwh7ZQ3g9s",
        "outputId": "ff22687f-c8bc-4723-c7b7-8b4697810a62"
      },
      "outputs": [
        {
          "name": "stdout",
          "output_type": "stream",
          "text": [
            "{\n",
            "  \"cookies\": {\n",
            "    \"name\": \"Joe Chen\"\n",
            "  }\n",
            "}\n",
            "\n"
          ]
        }
      ],
      "source": [
        "# Cookie\n",
        "url = \"http://httpbin.org/cookies\"\n",
        "\n",
        "cookies = dict(name=\"Joe Chen\")\n",
        "r = requests.get(url, cookies=cookies)\n",
        "print(r.text)"
      ]
    },
    {
      "cell_type": "code",
      "execution_count": 27,
      "metadata": {
        "colab": {
          "base_uri": "https://localhost:8080/"
        },
        "id": "41xhVCjX4vqN",
        "outputId": "a030e6c0-fb0d-4af5-c1fb-5038a8c4c85f"
      },
      "outputs": [
        {
          "name": "stdout",
          "output_type": "stream",
          "text": [
            "{'1P_JAR': '2023-12-25-12', 'AEC': 'Ackid1Rzpb4oH-UVGLLMmwpTD8vfsVUXm5fm9i8srQnGU6lpuSKZQkUk3Q', 'NID': '511=O7aeTOAtZmOHIdB2C8g5sz3f5Bo8SCbuEQSADEvYJ9ZFGkV1wvzCTupwCCBbwAg9vau4Ftdi6yjDnYQG-FLiyPtKZc404PuzwCQstA1EHFLpi4OiXUVtCXOCxixMmSyc78UhM3GJCyP0jekm1EkcAEwYNDPsuOHNK13GYUj-y0k'}\n"
          ]
        }
      ],
      "source": [
        "session = requests.Session()\n",
        "response = session.get(\"http://www.google.com\")\n",
        "v = session.cookies.get_dict()\n",
        "print(v)  # 請練習3分鐘, 8:17"
      ]
    },
    {
      "cell_type": "code",
      "execution_count": 35,
      "metadata": {
        "colab": {
          "base_uri": "https://localhost:8080/"
        },
        "id": "wl5eLQbo6q1Z",
        "outputId": "f7c883e7-a639-4f76-9803-18cd5b3cf0f3"
      },
      "outputs": [
        {
          "name": "stdout",
          "output_type": "stream",
          "text": [
            "{\n",
            "  \"user-agent\": \"python-requests/2.31.0\"\n",
            "}\n",
            "\n",
            "----------------------------\n",
            "{\n",
            "  \"user-agent\": \"I am python cheater\"\n",
            "}\n",
            "\n"
          ]
        }
      ],
      "source": [
        "# 建立自訂 HTTP header\n",
        "url = \"http://httpbin.org/user-agent\"\n",
        "\n",
        "r = requests.get(url)\n",
        "print(r.text)\n",
        "print(\"----------------------------\")\n",
        "\n",
        "# url_headers = {'user-agent':'Mozilla/5.0 {WIndows NT 10.0; WIn64; x64; rv:101.0} Gecko/20200101 Firefox/101.1'}\n",
        "url_headers = {\"user-agent\": \"I am python cheater\"}\n",
        "r = requests.get(url, headers=url_headers)\n",
        "print(r.text)  # 請練習3分鐘, 8: 31\n",
        "\n",
        "# 休息10分鐘, 8:42 繼續"
      ]
    },
    {
      "cell_type": "code",
      "execution_count": 46,
      "metadata": {
        "colab": {
          "base_uri": "https://localhost:8080/"
        },
        "id": "LHwbTahs_qlN",
        "outputId": "cd999541-4fb7-4a71-b0f3-341ff6228a12"
      },
      "outputs": [
        {
          "name": "stdout",
          "output_type": "stream",
          "text": [
            "等太久了...\n",
            "HTTPSConnectionPool(host='www.googleapis.com', port=443): Read timed out. (read timeout=0.001)\n"
          ]
        }
      ],
      "source": [
        "# HTTP 協定的 RESTful API 的請求\n",
        "url = \"https://www.googleapis.com/books/v1/volumes\"\n",
        "\n",
        "url_params = {\"q\": \"台灣人\", \"maxResults\": 1, \"projection\": \"lite\"}\n",
        "\n",
        "try:\n",
        "    r = requests.get(url, params=url_params, timeout=0.001)\n",
        "    pprint.pprint(r.json())\n",
        "except requests.exceptions.Timeout as ex:\n",
        "    print(\"等太久了...\\n\" + str(ex))\n",
        "# 請3分鐘練習-> 8:59"
      ]
    },
    {
      "cell_type": "code",
      "execution_count": 48,
      "metadata": {
        "colab": {
          "base_uri": "https://localhost:8080/"
        },
        "id": "Z0PnJvmdEOXj",
        "outputId": "db33fe2b-95ed-49a9-fd36-884b3c4300fb"
      },
      "outputs": [
        {
          "name": "stdout",
          "output_type": "stream",
          "text": [
            "Http 請求錯誤: 404 Client Error: Not Found for url: http://www.google.com/404\n"
          ]
        }
      ],
      "source": [
        "# RequestException, HTTPError, ConnectionError, Timeout, TooManyRedirects\n",
        "# 例外情況控制的綜合練習\n",
        "url = \"http://www.google.com/404\"\n",
        "try:\n",
        "    r = requests.get(url, timeout=3)\n",
        "    r.raise_for_status()\n",
        "except requests.exceptions.RequestException as ex1:\n",
        "    print(\"Http 請求錯誤: \" + str(ex1))\n",
        "except requests.exceptions.HTTPError as ex2:\n",
        "    print(\"Http 回應錯誤: \" + str(ex2))\n",
        "\n",
        "# 請練習5分鐘 -> 9:14"
      ]
    },
    {
      "cell_type": "code",
      "execution_count": null,
      "metadata": {
        "id": "oCCirN5jHHdp"
      },
      "outputs": [],
      "source": [
        "# http -> html\n",
        "# Anaconda -> Spyder ->"
      ]
    }
  ],
  "metadata": {
    "colab": {
      "provenance": []
    },
    "kernelspec": {
      "display_name": "Python 3",
      "name": "python3"
    },
    "language_info": {
      "codemirror_mode": {
        "name": "ipython",
        "version": 3
      },
      "file_extension": ".py",
      "mimetype": "text/x-python",
      "name": "python",
      "nbconvert_exporter": "python",
      "pygments_lexer": "ipython3",
      "version": "3.12.1"
    }
  },
  "nbformat": 4,
  "nbformat_minor": 0
}
