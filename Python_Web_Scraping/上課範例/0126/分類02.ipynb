{
  "nbformat": 4,
  "nbformat_minor": 0,
  "metadata": {
    "colab": {
      "provenance": []
    },
    "kernelspec": {
      "name": "python3",
      "display_name": "Python 3"
    },
    "language_info": {
      "name": "python"
    }
  },
  "cells": [
    {
      "cell_type": "code",
      "execution_count": null,
      "metadata": {
        "id": "RrJWjRxpmNeh"
      },
      "outputs": [],
      "source": [
        "#羅吉斯 (Logistic)\n",
        "#病人是否有糖尿病, 心臟病, 狀態是否致命; 機器設備一年後是否故障; 颱風是否造成土石流; 某個人是否投給某個政黨\n",
        "#迴歸 0-1, 機率\n",
        "#羅吉斯迴歸函數"
      ]
    },
    {
      "cell_type": "code",
      "source": [
        "from sklearn import datasets\n",
        "from sklearn.model_selection import train_test_split\n",
        "data, target = datasets.load_wine(return_X_y=True)\n",
        "\n",
        "from sklearn.preprocessing import StandardScaler #標準化處理 -> 3 分鐘, 8:32\n",
        "sc = StandardScaler()\n",
        "data_std = sc.fit_transform(data)\n",
        "data_train, data_test, target_train, target_test = train_test_split(data_std, target, test_size=0.2, random_state=0)\n",
        "#3分鐘完成到這裡, 7:59"
      ],
      "metadata": {
        "id": "0Eq0ayRAnfqI"
      },
      "execution_count": 10,
      "outputs": []
    },
    {
      "cell_type": "code",
      "source": [
        "from sklearn.linear_model import LogisticRegression\n",
        "log_model = LogisticRegression(max_iter=10000)\n",
        "log_model.fit(data_train, target_train)\n",
        "pre = log_model.predict(data_test)\n",
        "print(pre)\n",
        "print(target_test)\n",
        "#3分鐘完成至此, 8:05\n",
        "\n",
        "#迭代次數, 套件的預測順練次數100次 -> 3 分鐘練習, 8:20"
      ],
      "metadata": {
        "colab": {
          "base_uri": "https://localhost:8080/"
        },
        "id": "Kn8YrSsJo3lk",
        "outputId": "506d4cd3-0807-480b-a387-6b76c36cc432"
      },
      "execution_count": 11,
      "outputs": [
        {
          "output_type": "stream",
          "name": "stdout",
          "text": [
            "[0 2 1 0 1 1 0 2 1 1 2 2 0 1 2 1 0 0 1 0 1 0 0 1 1 1 1 1 1 2 0 0 1 0 0 0]\n",
            "[0 2 1 0 1 1 0 2 1 1 2 2 0 1 2 1 0 0 1 0 1 0 0 1 1 1 1 1 1 2 0 0 1 0 0 0]\n"
          ]
        }
      ]
    },
    {
      "cell_type": "code",
      "source": [
        "print(log_model.score(data_train, target_train).round(2))\n",
        "print(log_model.score(data_test, target_test).round(2))"
      ],
      "metadata": {
        "colab": {
          "base_uri": "https://localhost:8080/"
        },
        "id": "3UnoolvrqTaT",
        "outputId": "1f7c280a-20b8-4356-e332-2adbf1c21f4e"
      },
      "execution_count": 12,
      "outputs": [
        {
          "output_type": "stream",
          "name": "stdout",
          "text": [
            "1.0\n",
            "1.0\n"
          ]
        }
      ]
    },
    {
      "cell_type": "code",
      "source": [
        "from sklearn.metrics import classification_report\n",
        "print(classification_report(target_test, pre))\n",
        "#3分鐘產出報表, 8:12"
      ],
      "metadata": {
        "colab": {
          "base_uri": "https://localhost:8080/"
        },
        "id": "1lVKm_wBqpL-",
        "outputId": "8aa3bbde-5e32-44a3-d2f9-27ab7b554c49"
      },
      "execution_count": 13,
      "outputs": [
        {
          "output_type": "stream",
          "name": "stdout",
          "text": [
            "              precision    recall  f1-score   support\n",
            "\n",
            "           0       1.00      1.00      1.00        14\n",
            "           1       1.00      1.00      1.00        16\n",
            "           2       1.00      1.00      1.00         6\n",
            "\n",
            "    accuracy                           1.00        36\n",
            "   macro avg       1.00      1.00      1.00        36\n",
            "weighted avg       1.00      1.00      1.00        36\n",
            "\n"
          ]
        }
      ]
    },
    {
      "cell_type": "code",
      "source": [
        "#資料標準化 (standardization, normalization)\n",
        "#舉例：\n",
        "#資料一：10 , 20, 30, 40, 50\n",
        "#資料二：500, 1000, 1500, 200, 2500\n",
        "\n",
        "#第二節休息, 8:45 繼續\n",
        "#原本二月5日有排課, 那天不上課, 往後延一次。\n"
      ],
      "metadata": {
        "id": "T4vzgJDjtvkt"
      },
      "execution_count": null,
      "outputs": []
    }
  ]
}