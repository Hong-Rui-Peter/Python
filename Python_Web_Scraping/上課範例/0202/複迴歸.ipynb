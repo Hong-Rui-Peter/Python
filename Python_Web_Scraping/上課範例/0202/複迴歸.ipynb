{
  "cells": [
    {
      "cell_type": "code",
      "execution_count": 11,
      "metadata": {},
      "outputs": [],
      "source": [
        "# 姓名:陳泓睿\n",
        "# 學號:105600824"
      ]
    },
    {
      "cell_type": "code",
      "execution_count": 12,
      "metadata": {
        "id": "8mSqzKwEDE-k"
      },
      "outputs": [],
      "source": [
        "# 作業: 複迴歸\n",
        "# 運用獲得的資料 -> AI -> 資料分析, 或是建立模型去協助人類預測或是回答問題\n",
        "# AI: 機器學習 (ML, Machine Learning); 類神經網路 (NN, Neuro Network)\n",
        "# ML: 單純線性迴歸 (Smiple Liner Regression) y = ax + b\n",
        "# 多元線性迴歸: y = a1x1 + a2x2 + a3x3 +..... + b"
      ]
    },
    {
      "cell_type": "code",
      "execution_count": 13,
      "metadata": {},
      "outputs": [],
      "source": [
        "# 波士頓房價\n",
        "# CRIM 城鎮犯罪率; ZN 住宅用地超過 700 坪; INDUS 非商業用地比例; NOX; CHAS 河; RM 房間數; AGE: 房齡; DIS 就業中心距離, RAD, TAX, PTRATIO B\n",
        "# LSTAT -> 房價"
      ]
    },
    {
      "cell_type": "code",
      "execution_count": 14,
      "metadata": {
        "id": "zK5RkyDEFwyk"
      },
      "outputs": [],
      "source": [
        "from sklearn import datasets  # data = datasets.load_boston().data\n",
        "import pandas as pd\n",
        "import numpy as np\n",
        "\n",
        "data_url = \"http://lib.stat.cmu.edu/datasets/boston\"\n",
        "raw_df = pd.read_csv(data_url, sep=\"\\s+\", skiprows=22, header=None)\n",
        "data = np.hstack([raw_df.values[::2, :], raw_df.values[1::2, :2]])\n",
        "target = raw_df.values[1::2, 2]"
      ]
    },
    {
      "cell_type": "code",
      "execution_count": 15,
      "metadata": {
        "colab": {
          "base_uri": "https://localhost:8080/"
        },
        "id": "k9Gj9xjDHIo9",
        "outputId": "98e8df5a-fb86-4e12-f340-6fe0ed48726e"
      },
      "outputs": [
        {
          "name": "stdout",
          "output_type": "stream",
          "text": [
            "(404, 13)\n",
            "(102, 13)\n",
            "(404,)\n"
          ]
        }
      ],
      "source": [
        "# 資料切割: 80% 模型的訓練; 20% 驗證模型的準確性\n",
        "from sklearn.model_selection import train_test_split\n",
        "\n",
        "data_train, data_test, target_train, target_test = train_test_split(\n",
        "    data, target, test_size=0.2\n",
        ")\n",
        "print(data_train.shape)\n",
        "print(data_test.shape)\n",
        "print(target_train.shape)"
      ]
    },
    {
      "cell_type": "code",
      "execution_count": 16,
      "metadata": {
        "colab": {
          "base_uri": "https://localhost:8080/",
          "height": 74
        },
        "id": "bDqTo2vZLiIT",
        "outputId": "2d8a624d-3789-4d77-8a0b-b5fca46bb245"
      },
      "outputs": [
        {
          "data": {
            "text/html": [
              "<style>#sk-container-id-2 {color: black;}#sk-container-id-2 pre{padding: 0;}#sk-container-id-2 div.sk-toggleable {background-color: white;}#sk-container-id-2 label.sk-toggleable__label {cursor: pointer;display: block;width: 100%;margin-bottom: 0;padding: 0.3em;box-sizing: border-box;text-align: center;}#sk-container-id-2 label.sk-toggleable__label-arrow:before {content: \"▸\";float: left;margin-right: 0.25em;color: #696969;}#sk-container-id-2 label.sk-toggleable__label-arrow:hover:before {color: black;}#sk-container-id-2 div.sk-estimator:hover label.sk-toggleable__label-arrow:before {color: black;}#sk-container-id-2 div.sk-toggleable__content {max-height: 0;max-width: 0;overflow: hidden;text-align: left;background-color: #f0f8ff;}#sk-container-id-2 div.sk-toggleable__content pre {margin: 0.2em;color: black;border-radius: 0.25em;background-color: #f0f8ff;}#sk-container-id-2 input.sk-toggleable__control:checked~div.sk-toggleable__content {max-height: 200px;max-width: 100%;overflow: auto;}#sk-container-id-2 input.sk-toggleable__control:checked~label.sk-toggleable__label-arrow:before {content: \"▾\";}#sk-container-id-2 div.sk-estimator input.sk-toggleable__control:checked~label.sk-toggleable__label {background-color: #d4ebff;}#sk-container-id-2 div.sk-label input.sk-toggleable__control:checked~label.sk-toggleable__label {background-color: #d4ebff;}#sk-container-id-2 input.sk-hidden--visually {border: 0;clip: rect(1px 1px 1px 1px);clip: rect(1px, 1px, 1px, 1px);height: 1px;margin: -1px;overflow: hidden;padding: 0;position: absolute;width: 1px;}#sk-container-id-2 div.sk-estimator {font-family: monospace;background-color: #f0f8ff;border: 1px dotted black;border-radius: 0.25em;box-sizing: border-box;margin-bottom: 0.5em;}#sk-container-id-2 div.sk-estimator:hover {background-color: #d4ebff;}#sk-container-id-2 div.sk-parallel-item::after {content: \"\";width: 100%;border-bottom: 1px solid gray;flex-grow: 1;}#sk-container-id-2 div.sk-label:hover label.sk-toggleable__label {background-color: #d4ebff;}#sk-container-id-2 div.sk-serial::before {content: \"\";position: absolute;border-left: 1px solid gray;box-sizing: border-box;top: 0;bottom: 0;left: 50%;z-index: 0;}#sk-container-id-2 div.sk-serial {display: flex;flex-direction: column;align-items: center;background-color: white;padding-right: 0.2em;padding-left: 0.2em;position: relative;}#sk-container-id-2 div.sk-item {position: relative;z-index: 1;}#sk-container-id-2 div.sk-parallel {display: flex;align-items: stretch;justify-content: center;background-color: white;position: relative;}#sk-container-id-2 div.sk-item::before, #sk-container-id-2 div.sk-parallel-item::before {content: \"\";position: absolute;border-left: 1px solid gray;box-sizing: border-box;top: 0;bottom: 0;left: 50%;z-index: -1;}#sk-container-id-2 div.sk-parallel-item {display: flex;flex-direction: column;z-index: 1;position: relative;background-color: white;}#sk-container-id-2 div.sk-parallel-item:first-child::after {align-self: flex-end;width: 50%;}#sk-container-id-2 div.sk-parallel-item:last-child::after {align-self: flex-start;width: 50%;}#sk-container-id-2 div.sk-parallel-item:only-child::after {width: 0;}#sk-container-id-2 div.sk-dashed-wrapped {border: 1px dashed gray;margin: 0 0.4em 0.5em 0.4em;box-sizing: border-box;padding-bottom: 0.4em;background-color: white;}#sk-container-id-2 div.sk-label label {font-family: monospace;font-weight: bold;display: inline-block;line-height: 1.2em;}#sk-container-id-2 div.sk-label-container {text-align: center;}#sk-container-id-2 div.sk-container {/* jupyter's `normalize.less` sets `[hidden] { display: none; }` but bootstrap.min.css set `[hidden] { display: none !important; }` so we also need the `!important` here to be able to override the default hidden behavior on the sphinx rendered scikit-learn.org. See: https://github.com/scikit-learn/scikit-learn/issues/21755 */display: inline-block !important;position: relative;}#sk-container-id-2 div.sk-text-repr-fallback {display: none;}</style><div id=\"sk-container-id-2\" class=\"sk-top-container\"><div class=\"sk-text-repr-fallback\"><pre>LinearRegression()</pre><b>In a Jupyter environment, please rerun this cell to show the HTML representation or trust the notebook. <br />On GitHub, the HTML representation is unable to render, please try loading this page with nbviewer.org.</b></div><div class=\"sk-container\" hidden><div class=\"sk-item\"><div class=\"sk-estimator sk-toggleable\"><input class=\"sk-toggleable__control sk-hidden--visually\" id=\"sk-estimator-id-2\" type=\"checkbox\" checked><label for=\"sk-estimator-id-2\" class=\"sk-toggleable__label sk-toggleable__label-arrow\">LinearRegression</label><div class=\"sk-toggleable__content\"><pre>LinearRegression()</pre></div></div></div></div></div>"
            ],
            "text/plain": [
              "LinearRegression()"
            ]
          },
          "execution_count": 16,
          "metadata": {},
          "output_type": "execute_result"
        }
      ],
      "source": [
        "# 建立一個多元線性迴歸的預測模型\n",
        "from sklearn.linear_model import LinearRegression\n",
        "\n",
        "regr_model = LinearRegression()\n",
        "regr_model.fit(data_train, target_train)"
      ]
    },
    {
      "cell_type": "code",
      "execution_count": 17,
      "metadata": {
        "colab": {
          "base_uri": "https://localhost:8080/"
        },
        "id": "cmPpm3pYNnr3",
        "outputId": "f182e039-595c-4b4c-ff81-367796c80a51"
      },
      "outputs": [
        {
          "name": "stdout",
          "output_type": "stream",
          "text": [
            "[22.2 19.5 20.6 12.8 20.1 12.4 16.5 25.1 13.5 18.2 12.2 35.4 28.4 25.9\n",
            " 13.9 29.2 24.7 21.5 28.4 32.7 24.5 23.5  8.  21.7 19.7 43.4 14.3 32.5\n",
            " 16.9 10.1 16.1 28.4 12.9 35.  40.  16.6 25.9 24.3 13.5 35.5 21.4  7.3\n",
            " 28.4 25.1 24.5 23.1 39.8 18.9 17.4 21.5 17.1 24.5 25.9 31.5 32.3 18.2\n",
            " 24.  21.6 22.5 20.6 21.7 18.  17.2 27.6 17.7 21.8 19.9 26.2 19.2 20.8\n",
            " 23.4 33.7 19.7 36.9 20.  30.7 20.3 13.7 18.  25.  14.  37.2 19.2 35.4\n",
            " 25.3 21.  20.4 21.1 15.4 14.6 31.9 21.4 33.5 27.8 17.8 24.  35.7 18.7\n",
            " 19.4 32.3 22.4 17.1]\n",
            "[50.  19.2 21.8 15.6 23.1 12.7 13.3 18.5 13.4 20.1 11.8 46.7 24.4 23.9\n",
            " 14.3 23.6 23.8 19.3 23.3 28.2 21.7 20.3 11.9 22.  20.5 50.  14.5 31.5\n",
            " 10.2  9.7 13.8 33.4 13.8 30.1 50.  18.6 23.2 23.1 11.3 33.4 21.2  5.\n",
            " 22.8 25.  25.  21.7 50.  19.9 23.1 25.  18.1 29.6 24.8 50.  29.8 16.1\n",
            " 23.4 21.2 19.6 21.5 19.7 14.5 17.2 22.  17.4 21.7 19.9 20.7 27.9 20.9\n",
            " 23.  34.9 16.8 42.3 20.3 29.4 27.1 18.2 13.9 23.9 19.  44.  18.5 35.1\n",
            " 29.6 19.3 21.1 18.7 11.7 13.1 29.  20.1 26.7 26.6 15.4 20.1 35.2 19.8\n",
            " 18.5 27.  17.  13. ]\n"
          ]
        }
      ],
      "source": [
        "# 模型的評估方法\n",
        "pre = regr_model.predict(data_test)\n",
        "print(pre.round(1))\n",
        "print(target_test)"
      ]
    },
    {
      "cell_type": "code",
      "execution_count": 18,
      "metadata": {
        "colab": {
          "base_uri": "https://localhost:8080/"
        },
        "id": "AbPfflCIRal6",
        "outputId": "2fec53cc-5d04-4fde-9670-2815006b955f"
      },
      "outputs": [
        {
          "name": "stdout",
          "output_type": "stream",
          "text": [
            "0.744\n",
            "0.718\n"
          ]
        }
      ],
      "source": [
        "# 模型評估方法 1：決定係數 (迴歸)\n",
        "print(\n",
        "    regr_model.score(data_train, target_train).round(3)\n",
        ")  # 0 <> 1, 至少大於 0.7, 0.999\n",
        "print(regr_model.score(data_test, target_test).round(3))  # Overfitting"
      ]
    },
    {
      "cell_type": "code",
      "execution_count": 19,
      "metadata": {
        "colab": {
          "base_uri": "https://localhost:8080/",
          "height": 430
        },
        "id": "pWTvuXJ0T4m9",
        "outputId": "d15f3c55-7c3c-4816-aba5-68aa760d55fc"
      },
      "outputs": [
        {
          "data": {
            "image/png": "[encoded data removed]",
            "text/plain": [
              "<Figure size 640x480 with 1 Axes>"
            ]
          },
          "metadata": {},
          "output_type": "display_data"
        }
      ],
      "source": [
        "# 模型評估方法 2：圖形:殘差圖 (residual plot)\n",
        "import matplotlib.pyplot as plt\n",
        "\n",
        "x = np.arange(pre.size)\n",
        "y = x * 0\n",
        "plt.scatter(x, pre - target_test)\n",
        "plt.plot(x, y, color=\"orange\")  # 劃出 y= 0 的基礎線\n",
        "plt.show()"
      ]
    },
    {
      "cell_type": "code",
      "execution_count": 20,
      "metadata": {
        "colab": {
          "base_uri": "https://localhost:8080/"
        },
        "id": "pEDQN4wkW602",
        "outputId": "0f393540-541d-4305-c1d3-734dd9cd2909"
      },
      "outputs": [
        {
          "name": "stdout",
          "output_type": "stream",
          "text": [
            "3.19\n"
          ]
        }
      ],
      "source": [
        "# 模型評估方法 3：平均絕對誤差 (MAE, mean absolute error)\n",
        "from sklearn.metrics import mean_absolute_error\n",
        "\n",
        "print(mean_absolute_error(target_test, pre).round(2))"
      ]
    }
  ],
  "metadata": {
    "colab": {
      "provenance": []
    },
    "kernelspec": {
      "display_name": "Python 3",
      "name": "python3"
    },
    "language_info": {
      "codemirror_mode": {
        "name": "ipython",
        "version": 3
      },
      "file_extension": ".py",
      "mimetype": "text/x-python",
      "name": "python",
      "nbconvert_exporter": "python",
      "pygments_lexer": "ipython3",
      "version": "0.0.0"
    }
  },
  "nbformat": 4,
  "nbformat_minor": 0
}
