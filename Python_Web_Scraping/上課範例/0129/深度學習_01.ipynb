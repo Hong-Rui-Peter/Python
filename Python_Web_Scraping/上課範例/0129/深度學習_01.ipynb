{
  "nbformat": 4,
  "nbformat_minor": 0,
  "metadata": {
    "colab": {
      "provenance": [],
      "gpuType": "T4"
    },
    "kernelspec": {
      "name": "python3",
      "display_name": "Python 3"
    },
    "language_info": {
      "name": "python"
    },
    "accelerator": "GPU"
  },
  "cells": [
    {
      "cell_type": "code",
      "execution_count": 1,
      "metadata": {
        "id": "GY0PLavxyfNt"
      },
      "outputs": [],
      "source": [
        "#擷取資料 -> 資料分析 -> AI = ML (機器學習) + DL (Deep Learning)\n",
        "# DL 深度學習\n",
        "# 神經元 (neuro) -> 樹突 -> 類神經網路 (NN, Neural Network)\n",
        "# CNN -> Convolution Neural Network -> 影像"
      ]
    },
    {
      "cell_type": "code",
      "source": [
        "# 資料來源 https://archive.ics.uci.edu/dataset/34/diabetes\n",
        "import pandas as pd\n",
        "df = pd.read_csv('diabetes.csv')\n",
        "print(df.head())\n",
        "#3分鐘練習, 7:06"
      ],
      "metadata": {
        "colab": {
          "base_uri": "https://localhost:8080/"
        },
        "id": "o3tSAA0Q3ubm",
        "outputId": "8f17eb99-93be-40ff-834c-a25dcaa700c9"
      },
      "execution_count": 2,
      "outputs": [
        {
          "output_type": "stream",
          "name": "stdout",
          "text": [
            "   Pregnancies  Glucose  BloodPressure  SkinThickness  Insulin   BMI  \\\n",
            "0            6      148             72             35        0  33.6   \n",
            "1            1       85             66             29        0  26.6   \n",
            "2            8      183             64              0        0  23.3   \n",
            "3            1       89             66             23       94  28.1   \n",
            "4            0      137             40             35      168  43.1   \n",
            "\n",
            "   DiabetesPedigreeFunction  Age  Outcome  \n",
            "0                     0.627   50        1  \n",
            "1                     0.351   31        0  \n",
            "2                     0.672   32        1  \n",
            "3                     0.167   21        0  \n",
            "4                     2.288   33        1  \n"
          ]
        }
      ]
    },
    {
      "cell_type": "code",
      "source": [
        "print(df.shape)"
      ],
      "metadata": {
        "colab": {
          "base_uri": "https://localhost:8080/"
        },
        "id": "lBs0Mipl6I0M",
        "outputId": "1c14cdcd-6ba5-4930-b2cc-ecfb060b4af0"
      },
      "execution_count": 3,
      "outputs": [
        {
          "output_type": "stream",
          "name": "stdout",
          "text": [
            "(768, 9)\n"
          ]
        }
      ]
    },
    {
      "cell_type": "code",
      "source": [
        "import numpy as np\n",
        "from keras.models import Sequential\n",
        "from keras.layers import Dense\n",
        "np.random.seed(10)\n",
        "dataset = df.values\n",
        "np.random.shuffle(dataset)\n",
        "Y = dataset[:, 8]\n",
        "X = dataset[:, 0:8]\n",
        "#5分鐘練習, 7:23"
      ],
      "metadata": {
        "colab": {
          "base_uri": "https://localhost:8080/"
        },
        "id": "eCsSn81f6V15",
        "outputId": "5a5400d8-eac8-407d-cb3c-067fb860d5fe"
      },
      "execution_count": 7,
      "outputs": [
        {
          "output_type": "execute_result",
          "data": {
            "text/plain": [
              "array([[4.00e+00, 1.54e+02, 7.20e+01, ..., 3.13e+01, 3.38e-01, 3.70e+01],\n",
              "       [2.00e+00, 1.12e+02, 8.60e+01, ..., 3.84e+01, 2.46e-01, 2.80e+01],\n",
              "       [1.00e+00, 1.35e+02, 5.40e+01, ..., 2.67e+01, 6.87e-01, 6.20e+01],\n",
              "       ...,\n",
              "       [3.00e+00, 1.16e+02, 7.40e+01, ..., 2.63e+01, 1.07e-01, 2.40e+01],\n",
              "       [1.00e+00, 8.80e+01, 3.00e+01, ..., 5.50e+01, 4.96e-01, 2.60e+01],\n",
              "       [5.00e+00, 9.60e+01, 7.40e+01, ..., 3.36e+01, 9.97e-01, 4.30e+01]])"
            ]
          },
          "metadata": {},
          "execution_count": 7
        }
      ]
    },
    {
      "cell_type": "code",
      "source": [
        "model = Sequential()\n",
        "model.add(Dense(10, input_shape=(8,), activation='relu'))\n",
        "model.add(Dense(8, activation='relu'))\n",
        "model.add(Dense(8, activation='relu'))\n",
        "model.add(Dense(1, activation='sigmoid'))\n",
        "model.summary()\n",
        "#練習5分鐘, 7:45\n",
        "#第一節休息到 7:57"
      ],
      "metadata": {
        "colab": {
          "base_uri": "https://localhost:8080/"
        },
        "id": "yGTEc3JT-ynL",
        "outputId": "14b099bc-cedc-4348-a342-f02af9ef72f5"
      },
      "execution_count": 9,
      "outputs": [
        {
          "output_type": "stream",
          "name": "stdout",
          "text": [
            "Model: \"sequential_1\"\n",
            "_________________________________________________________________\n",
            " Layer (type)                Output Shape              Param #   \n",
            "=================================================================\n",
            " dense_3 (Dense)             (None, 10)                90        \n",
            "                                                                 \n",
            " dense_4 (Dense)             (None, 8)                 88        \n",
            "                                                                 \n",
            " dense_5 (Dense)             (None, 8)                 72        \n",
            "                                                                 \n",
            " dense_6 (Dense)             (None, 1)                 9         \n",
            "                                                                 \n",
            "=================================================================\n",
            "Total params: 259 (1.01 KB)\n",
            "Trainable params: 259 (1.01 KB)\n",
            "Non-trainable params: 0 (0.00 Byte)\n",
            "_________________________________________________________________\n"
          ]
        }
      ]
    },
    {
      "cell_type": "code",
      "source": [
        "model.compile(loss='binary_crossentropy', optimizer='sgd', metrics=['accuracy'])"
      ],
      "metadata": {
        "id": "g1-aHNe9FJ4X"
      },
      "execution_count": 10,
      "outputs": []
    },
    {
      "cell_type": "code",
      "source": [
        "history = model.fit(X, Y, epochs=150, batch_size=10)\n",
        "#7分鐘練習, 8:14"
      ],
      "metadata": {
        "colab": {
          "base_uri": "https://localhost:8080/"
        },
        "id": "kO-_RWM3Gh6D",
        "outputId": "34973795-dbf3-4d27-9e5d-067c7faec5f2"
      },
      "execution_count": 11,
      "outputs": [
        {
          "output_type": "stream",
          "name": "stdout",
          "text": [
            "Epoch 1/150\n",
            "77/77 [==============================] - 3s 5ms/step - loss: 0.7940 - accuracy: 0.6081\n",
            "Epoch 2/150\n",
            "77/77 [==============================] - 0s 4ms/step - loss: 0.6779 - accuracy: 0.6237\n",
            "Epoch 3/150\n",
            "77/77 [==============================] - 0s 5ms/step - loss: 0.6318 - accuracy: 0.6693\n",
            "Epoch 4/150\n",
            "77/77 [==============================] - 0s 5ms/step - loss: 0.6188 - accuracy: 0.6836\n",
            "Epoch 5/150\n",
            "77/77 [==============================] - 0s 3ms/step - loss: 0.6093 - accuracy: 0.6667\n",
            "Epoch 6/150\n",
            "77/77 [==============================] - 0s 3ms/step - loss: 0.6108 - accuracy: 0.6719\n",
            "Epoch 7/150\n",
            "77/77 [==============================] - 0s 3ms/step - loss: 0.6073 - accuracy: 0.6628\n",
            "Epoch 8/150\n",
            "77/77 [==============================] - 0s 3ms/step - loss: 0.6052 - accuracy: 0.6836\n",
            "Epoch 9/150\n",
            "77/77 [==============================] - 0s 3ms/step - loss: 0.6037 - accuracy: 0.6940\n",
            "Epoch 10/150\n",
            "77/77 [==============================] - 0s 3ms/step - loss: 0.6025 - accuracy: 0.7005\n",
            "Epoch 11/150\n",
            "77/77 [==============================] - 0s 3ms/step - loss: 0.6059 - accuracy: 0.6771\n",
            "Epoch 12/150\n",
            "77/77 [==============================] - 0s 3ms/step - loss: 0.5986 - accuracy: 0.6992\n",
            "Epoch 13/150\n",
            "77/77 [==============================] - 0s 3ms/step - loss: 0.6048 - accuracy: 0.6810\n",
            "Epoch 14/150\n",
            "77/77 [==============================] - 0s 3ms/step - loss: 0.5969 - accuracy: 0.6914\n",
            "Epoch 15/150\n",
            "77/77 [==============================] - 0s 3ms/step - loss: 0.5912 - accuracy: 0.6940\n",
            "Epoch 16/150\n",
            "77/77 [==============================] - 0s 3ms/step - loss: 0.5983 - accuracy: 0.7096\n",
            "Epoch 17/150\n",
            "77/77 [==============================] - 0s 3ms/step - loss: 0.5981 - accuracy: 0.6966\n",
            "Epoch 18/150\n",
            "77/77 [==============================] - 0s 3ms/step - loss: 0.5924 - accuracy: 0.6940\n",
            "Epoch 19/150\n",
            "77/77 [==============================] - 0s 3ms/step - loss: 0.5929 - accuracy: 0.6992\n",
            "Epoch 20/150\n",
            "77/77 [==============================] - 0s 3ms/step - loss: 0.5934 - accuracy: 0.7135\n",
            "Epoch 21/150\n",
            "77/77 [==============================] - 0s 3ms/step - loss: 0.5937 - accuracy: 0.6979\n",
            "Epoch 22/150\n",
            "77/77 [==============================] - 0s 3ms/step - loss: 0.5870 - accuracy: 0.6966\n",
            "Epoch 23/150\n",
            "77/77 [==============================] - 0s 3ms/step - loss: 0.5903 - accuracy: 0.7031\n",
            "Epoch 24/150\n",
            "77/77 [==============================] - 0s 3ms/step - loss: 0.5857 - accuracy: 0.7083\n",
            "Epoch 25/150\n",
            "77/77 [==============================] - 0s 3ms/step - loss: 0.5879 - accuracy: 0.7005\n",
            "Epoch 26/150\n",
            "77/77 [==============================] - 0s 3ms/step - loss: 0.5816 - accuracy: 0.7161\n",
            "Epoch 27/150\n",
            "77/77 [==============================] - 0s 3ms/step - loss: 0.5878 - accuracy: 0.7057\n",
            "Epoch 28/150\n",
            "77/77 [==============================] - 0s 3ms/step - loss: 0.5770 - accuracy: 0.7109\n",
            "Epoch 29/150\n",
            "77/77 [==============================] - 0s 3ms/step - loss: 0.5833 - accuracy: 0.6953\n",
            "Epoch 30/150\n",
            "77/77 [==============================] - 0s 3ms/step - loss: 0.5807 - accuracy: 0.7031\n",
            "Epoch 31/150\n",
            "77/77 [==============================] - 0s 3ms/step - loss: 0.5746 - accuracy: 0.7266\n",
            "Epoch 32/150\n",
            "77/77 [==============================] - 0s 3ms/step - loss: 0.5749 - accuracy: 0.7253\n",
            "Epoch 33/150\n",
            "77/77 [==============================] - 0s 3ms/step - loss: 0.5715 - accuracy: 0.7148\n",
            "Epoch 34/150\n",
            "77/77 [==============================] - 0s 3ms/step - loss: 0.5775 - accuracy: 0.7044\n",
            "Epoch 35/150\n",
            "77/77 [==============================] - 0s 3ms/step - loss: 0.6076 - accuracy: 0.6966\n",
            "Epoch 36/150\n",
            "77/77 [==============================] - 0s 3ms/step - loss: 0.6004 - accuracy: 0.6927\n",
            "Epoch 37/150\n",
            "77/77 [==============================] - 0s 3ms/step - loss: 0.5934 - accuracy: 0.7005\n",
            "Epoch 38/150\n",
            "77/77 [==============================] - 0s 4ms/step - loss: 0.5782 - accuracy: 0.7148\n",
            "Epoch 39/150\n",
            "77/77 [==============================] - 0s 3ms/step - loss: 0.5737 - accuracy: 0.7161\n",
            "Epoch 40/150\n",
            "77/77 [==============================] - 0s 6ms/step - loss: 0.5775 - accuracy: 0.7083\n",
            "Epoch 41/150\n",
            "77/77 [==============================] - 0s 3ms/step - loss: 0.5678 - accuracy: 0.7161\n",
            "Epoch 42/150\n",
            "77/77 [==============================] - 0s 3ms/step - loss: 0.5710 - accuracy: 0.7096\n",
            "Epoch 43/150\n",
            "77/77 [==============================] - 0s 5ms/step - loss: 0.5729 - accuracy: 0.7148\n",
            "Epoch 44/150\n",
            "77/77 [==============================] - 0s 5ms/step - loss: 0.5689 - accuracy: 0.7240\n",
            "Epoch 45/150\n",
            "77/77 [==============================] - 0s 4ms/step - loss: 0.5736 - accuracy: 0.7161\n",
            "Epoch 46/150\n",
            "77/77 [==============================] - 0s 5ms/step - loss: 0.5652 - accuracy: 0.7240\n",
            "Epoch 47/150\n",
            "77/77 [==============================] - 0s 5ms/step - loss: 0.5682 - accuracy: 0.7070\n",
            "Epoch 48/150\n",
            "77/77 [==============================] - 0s 3ms/step - loss: 0.5662 - accuracy: 0.7174\n",
            "Epoch 49/150\n",
            "77/77 [==============================] - 0s 3ms/step - loss: 0.5644 - accuracy: 0.7279\n",
            "Epoch 50/150\n",
            "77/77 [==============================] - 0s 3ms/step - loss: 0.5693 - accuracy: 0.7240\n",
            "Epoch 51/150\n",
            "77/77 [==============================] - 0s 3ms/step - loss: 0.5630 - accuracy: 0.7279\n",
            "Epoch 52/150\n",
            "77/77 [==============================] - 0s 3ms/step - loss: 0.5629 - accuracy: 0.7109\n",
            "Epoch 53/150\n",
            "77/77 [==============================] - 0s 3ms/step - loss: 0.5561 - accuracy: 0.7240\n",
            "Epoch 54/150\n",
            "77/77 [==============================] - 0s 3ms/step - loss: 0.5575 - accuracy: 0.7331\n",
            "Epoch 55/150\n",
            "77/77 [==============================] - 0s 3ms/step - loss: 0.5607 - accuracy: 0.7174\n",
            "Epoch 56/150\n",
            "77/77 [==============================] - 0s 3ms/step - loss: 0.5667 - accuracy: 0.7201\n",
            "Epoch 57/150\n",
            "77/77 [==============================] - 0s 3ms/step - loss: 0.5597 - accuracy: 0.7344\n",
            "Epoch 58/150\n",
            "77/77 [==============================] - 0s 4ms/step - loss: 0.5617 - accuracy: 0.7109\n",
            "Epoch 59/150\n",
            "77/77 [==============================] - 0s 3ms/step - loss: 0.5557 - accuracy: 0.7214\n",
            "Epoch 60/150\n",
            "77/77 [==============================] - 0s 3ms/step - loss: 0.5529 - accuracy: 0.7122\n",
            "Epoch 61/150\n",
            "77/77 [==============================] - 0s 3ms/step - loss: 0.5530 - accuracy: 0.7227\n",
            "Epoch 62/150\n",
            "77/77 [==============================] - 0s 3ms/step - loss: 0.5583 - accuracy: 0.7253\n",
            "Epoch 63/150\n",
            "77/77 [==============================] - 0s 3ms/step - loss: 0.5624 - accuracy: 0.7188\n",
            "Epoch 64/150\n",
            "77/77 [==============================] - 0s 3ms/step - loss: 0.5535 - accuracy: 0.7161\n",
            "Epoch 65/150\n",
            "77/77 [==============================] - 0s 3ms/step - loss: 0.5487 - accuracy: 0.7174\n",
            "Epoch 66/150\n",
            "77/77 [==============================] - 0s 3ms/step - loss: 0.5610 - accuracy: 0.7240\n",
            "Epoch 67/150\n",
            "77/77 [==============================] - 0s 3ms/step - loss: 0.5507 - accuracy: 0.7266\n",
            "Epoch 68/150\n",
            "77/77 [==============================] - 0s 3ms/step - loss: 0.5560 - accuracy: 0.7266\n",
            "Epoch 69/150\n",
            "77/77 [==============================] - 0s 3ms/step - loss: 0.5546 - accuracy: 0.7279\n",
            "Epoch 70/150\n",
            "77/77 [==============================] - 0s 3ms/step - loss: 0.5544 - accuracy: 0.7253\n",
            "Epoch 71/150\n",
            "77/77 [==============================] - 0s 3ms/step - loss: 0.5574 - accuracy: 0.7135\n",
            "Epoch 72/150\n",
            "77/77 [==============================] - 0s 3ms/step - loss: 0.5539 - accuracy: 0.7161\n",
            "Epoch 73/150\n",
            "77/77 [==============================] - 0s 3ms/step - loss: 0.5515 - accuracy: 0.7135\n",
            "Epoch 74/150\n",
            "77/77 [==============================] - 0s 3ms/step - loss: 0.5477 - accuracy: 0.7279\n",
            "Epoch 75/150\n",
            "77/77 [==============================] - 0s 3ms/step - loss: 0.5562 - accuracy: 0.7292\n",
            "Epoch 76/150\n",
            "77/77 [==============================] - 0s 3ms/step - loss: 0.5449 - accuracy: 0.7148\n",
            "Epoch 77/150\n",
            "77/77 [==============================] - 0s 3ms/step - loss: 0.5495 - accuracy: 0.7227\n",
            "Epoch 78/150\n",
            "77/77 [==============================] - 0s 3ms/step - loss: 0.5487 - accuracy: 0.7279\n",
            "Epoch 79/150\n",
            "77/77 [==============================] - 0s 3ms/step - loss: 0.5420 - accuracy: 0.7344\n",
            "Epoch 80/150\n",
            "77/77 [==============================] - 0s 3ms/step - loss: 0.5504 - accuracy: 0.7253\n",
            "Epoch 81/150\n",
            "77/77 [==============================] - 0s 3ms/step - loss: 0.5531 - accuracy: 0.7214\n",
            "Epoch 82/150\n",
            "77/77 [==============================] - 0s 3ms/step - loss: 0.5500 - accuracy: 0.7253\n",
            "Epoch 83/150\n",
            "77/77 [==============================] - 0s 3ms/step - loss: 0.5466 - accuracy: 0.7188\n",
            "Epoch 84/150\n",
            "77/77 [==============================] - 0s 3ms/step - loss: 0.5462 - accuracy: 0.7344\n",
            "Epoch 85/150\n",
            "77/77 [==============================] - 0s 3ms/step - loss: 0.5444 - accuracy: 0.7292\n",
            "Epoch 86/150\n",
            "77/77 [==============================] - 0s 4ms/step - loss: 0.5479 - accuracy: 0.7344\n",
            "Epoch 87/150\n",
            "77/77 [==============================] - 0s 5ms/step - loss: 0.5454 - accuracy: 0.7305\n",
            "Epoch 88/150\n",
            "77/77 [==============================] - 0s 4ms/step - loss: 0.5476 - accuracy: 0.7161\n",
            "Epoch 89/150\n",
            "77/77 [==============================] - 0s 5ms/step - loss: 0.5428 - accuracy: 0.7253\n",
            "Epoch 90/150\n",
            "77/77 [==============================] - 0s 6ms/step - loss: 0.5485 - accuracy: 0.7305\n",
            "Epoch 91/150\n",
            "77/77 [==============================] - 0s 6ms/step - loss: 0.5441 - accuracy: 0.7331\n",
            "Epoch 92/150\n",
            "77/77 [==============================] - 0s 6ms/step - loss: 0.5416 - accuracy: 0.7357\n",
            "Epoch 93/150\n",
            "77/77 [==============================] - 0s 5ms/step - loss: 0.5470 - accuracy: 0.7292\n",
            "Epoch 94/150\n",
            "77/77 [==============================] - 0s 5ms/step - loss: 0.5490 - accuracy: 0.7331\n",
            "Epoch 95/150\n",
            "77/77 [==============================] - 0s 5ms/step - loss: 0.5421 - accuracy: 0.7318\n",
            "Epoch 96/150\n",
            "77/77 [==============================] - 0s 4ms/step - loss: 0.5370 - accuracy: 0.7396\n",
            "Epoch 97/150\n",
            "77/77 [==============================] - 0s 3ms/step - loss: 0.5422 - accuracy: 0.7305\n",
            "Epoch 98/150\n",
            "77/77 [==============================] - 0s 3ms/step - loss: 0.5398 - accuracy: 0.7331\n",
            "Epoch 99/150\n",
            "77/77 [==============================] - 0s 3ms/step - loss: 0.5435 - accuracy: 0.7331\n",
            "Epoch 100/150\n",
            "77/77 [==============================] - 0s 3ms/step - loss: 0.5393 - accuracy: 0.7305\n",
            "Epoch 101/150\n",
            "77/77 [==============================] - 0s 3ms/step - loss: 0.5403 - accuracy: 0.7279\n",
            "Epoch 102/150\n",
            "77/77 [==============================] - 0s 3ms/step - loss: 0.5549 - accuracy: 0.7174\n",
            "Epoch 103/150\n",
            "77/77 [==============================] - 0s 3ms/step - loss: 0.5451 - accuracy: 0.7331\n",
            "Epoch 104/150\n",
            "77/77 [==============================] - 0s 3ms/step - loss: 0.5497 - accuracy: 0.7292\n",
            "Epoch 105/150\n",
            "77/77 [==============================] - 0s 3ms/step - loss: 0.5404 - accuracy: 0.7344\n",
            "Epoch 106/150\n",
            "77/77 [==============================] - 0s 4ms/step - loss: 0.5456 - accuracy: 0.7318\n",
            "Epoch 107/150\n",
            "77/77 [==============================] - 0s 3ms/step - loss: 0.5393 - accuracy: 0.7292\n",
            "Epoch 108/150\n",
            "77/77 [==============================] - 0s 3ms/step - loss: 0.5459 - accuracy: 0.7279\n",
            "Epoch 109/150\n",
            "77/77 [==============================] - 0s 4ms/step - loss: 0.5470 - accuracy: 0.7357\n",
            "Epoch 110/150\n",
            "77/77 [==============================] - 0s 3ms/step - loss: 0.5527 - accuracy: 0.7370\n",
            "Epoch 111/150\n",
            "77/77 [==============================] - 0s 3ms/step - loss: 0.5414 - accuracy: 0.7227\n",
            "Epoch 112/150\n",
            "77/77 [==============================] - 0s 3ms/step - loss: 0.5473 - accuracy: 0.7279\n",
            "Epoch 113/150\n",
            "77/77 [==============================] - 0s 3ms/step - loss: 0.5414 - accuracy: 0.7370\n",
            "Epoch 114/150\n",
            "77/77 [==============================] - 0s 3ms/step - loss: 0.5388 - accuracy: 0.7318\n",
            "Epoch 115/150\n",
            "77/77 [==============================] - 0s 3ms/step - loss: 0.5371 - accuracy: 0.7318\n",
            "Epoch 116/150\n",
            "77/77 [==============================] - 0s 3ms/step - loss: 0.5395 - accuracy: 0.7279\n",
            "Epoch 117/150\n",
            "77/77 [==============================] - 0s 3ms/step - loss: 0.5410 - accuracy: 0.7331\n",
            "Epoch 118/150\n",
            "77/77 [==============================] - 0s 3ms/step - loss: 0.5395 - accuracy: 0.7396\n",
            "Epoch 119/150\n",
            "77/77 [==============================] - 0s 3ms/step - loss: 0.5380 - accuracy: 0.7214\n",
            "Epoch 120/150\n",
            "77/77 [==============================] - 0s 3ms/step - loss: 0.5349 - accuracy: 0.7513\n",
            "Epoch 121/150\n",
            "77/77 [==============================] - 0s 3ms/step - loss: 0.5421 - accuracy: 0.7396\n",
            "Epoch 122/150\n",
            "77/77 [==============================] - 0s 5ms/step - loss: 0.5396 - accuracy: 0.7122\n",
            "Epoch 123/150\n",
            "77/77 [==============================] - 1s 7ms/step - loss: 0.5439 - accuracy: 0.7266\n",
            "Epoch 124/150\n",
            "77/77 [==============================] - 0s 4ms/step - loss: 0.5419 - accuracy: 0.7331\n",
            "Epoch 125/150\n",
            "77/77 [==============================] - 0s 4ms/step - loss: 0.5355 - accuracy: 0.7292\n",
            "Epoch 126/150\n",
            "77/77 [==============================] - 1s 7ms/step - loss: 0.5381 - accuracy: 0.7422\n",
            "Epoch 127/150\n",
            "77/77 [==============================] - 1s 9ms/step - loss: 0.5409 - accuracy: 0.7357\n",
            "Epoch 128/150\n",
            "77/77 [==============================] - 1s 14ms/step - loss: 0.5286 - accuracy: 0.7500\n",
            "Epoch 129/150\n",
            "77/77 [==============================] - 1s 11ms/step - loss: 0.5381 - accuracy: 0.7292\n",
            "Epoch 130/150\n",
            "77/77 [==============================] - 0s 5ms/step - loss: 0.5405 - accuracy: 0.7383\n",
            "Epoch 131/150\n",
            "77/77 [==============================] - 0s 5ms/step - loss: 0.5375 - accuracy: 0.7396\n",
            "Epoch 132/150\n",
            "77/77 [==============================] - 0s 6ms/step - loss: 0.5373 - accuracy: 0.7305\n",
            "Epoch 133/150\n",
            "77/77 [==============================] - 0s 4ms/step - loss: 0.5378 - accuracy: 0.7383\n",
            "Epoch 134/150\n",
            "77/77 [==============================] - 0s 3ms/step - loss: 0.5380 - accuracy: 0.7292\n",
            "Epoch 135/150\n",
            "77/77 [==============================] - 0s 3ms/step - loss: 0.5311 - accuracy: 0.7370\n",
            "Epoch 136/150\n",
            "77/77 [==============================] - 0s 3ms/step - loss: 0.5348 - accuracy: 0.7422\n",
            "Epoch 137/150\n",
            "77/77 [==============================] - 0s 3ms/step - loss: 0.5363 - accuracy: 0.7435\n",
            "Epoch 138/150\n",
            "77/77 [==============================] - 0s 3ms/step - loss: 0.5337 - accuracy: 0.7396\n",
            "Epoch 139/150\n",
            "77/77 [==============================] - 0s 3ms/step - loss: 0.5319 - accuracy: 0.7253\n",
            "Epoch 140/150\n",
            "77/77 [==============================] - 0s 3ms/step - loss: 0.5338 - accuracy: 0.7357\n",
            "Epoch 141/150\n",
            "77/77 [==============================] - 0s 3ms/step - loss: 0.5332 - accuracy: 0.7396\n",
            "Epoch 142/150\n",
            "77/77 [==============================] - 0s 3ms/step - loss: 0.5366 - accuracy: 0.7214\n",
            "Epoch 143/150\n",
            "77/77 [==============================] - 0s 3ms/step - loss: 0.5332 - accuracy: 0.7305\n",
            "Epoch 144/150\n",
            "77/77 [==============================] - 0s 3ms/step - loss: 0.5296 - accuracy: 0.7331\n",
            "Epoch 145/150\n",
            "77/77 [==============================] - 0s 3ms/step - loss: 0.5364 - accuracy: 0.7148\n",
            "Epoch 146/150\n",
            "77/77 [==============================] - 0s 3ms/step - loss: 0.5327 - accuracy: 0.7370\n",
            "Epoch 147/150\n",
            "77/77 [==============================] - 0s 3ms/step - loss: 0.5336 - accuracy: 0.7435\n",
            "Epoch 148/150\n",
            "77/77 [==============================] - 0s 3ms/step - loss: 0.5323 - accuracy: 0.7292\n",
            "Epoch 149/150\n",
            "77/77 [==============================] - 0s 3ms/step - loss: 0.5384 - accuracy: 0.7331\n",
            "Epoch 150/150\n",
            "77/77 [==============================] - 0s 3ms/step - loss: 0.5313 - accuracy: 0.7409\n"
          ]
        }
      ]
    },
    {
      "cell_type": "code",
      "source": [
        "print(\"Model Evaluatation:\")\n",
        "loss, accuracy = model.evaluate(X, Y)\n",
        "print(\"準確率 = {:.2F}\".format(accuracy))\n",
        "#3分鐘練習, 8:22"
      ],
      "metadata": {
        "colab": {
          "base_uri": "https://localhost:8080/"
        },
        "id": "KEtUcmAkJWs0",
        "outputId": "d90278a1-20d0-4b9c-e8e5-6414eeb454aa"
      },
      "execution_count": 12,
      "outputs": [
        {
          "output_type": "stream",
          "name": "stdout",
          "text": [
            "Model Evaluatation:\n",
            "24/24 [==============================] - 0s 3ms/step - loss: 0.5291 - accuracy: 0.7344\n",
            "準確率 = 0.73\n"
          ]
        }
      ]
    }
  ]
}