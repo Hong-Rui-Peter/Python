{
  "cells": [
    {
      "cell_type": "code",
      "execution_count": 1,
      "metadata": {},
      "outputs": [],
      "source": [
        "# 姓名:陳泓睿\n",
        "# 學號:105600824"
      ]
    },
    {
      "cell_type": "code",
      "execution_count": 2,
      "metadata": {},
      "outputs": [],
      "source": [
        "# 作業:多元線性迴歸\n",
        "# 根據每天的氣候因數, 決定城市準備共享單車的數量\n",
        "# https://archive.ics.uci.edu/ml/machine-learning-databases/00560/SeoulBikeData.csv"
      ]
    },
    {
      "cell_type": "code",
      "execution_count": 3,
      "metadata": {
        "colab": {
          "base_uri": "https://localhost:8080/",
          "height": 663
        },
        "id": "-F3KaDR2Z1YI",
        "outputId": "19a726e9-f18c-4df9-833b-205bdc0bb601"
      },
      "outputs": [
        {
          "data": {
            "text/html": [
              "<div>\n",
              "<style scoped>\n",
              "    .dataframe tbody tr th:only-of-type {\n",
              "        vertical-align: middle;\n",
              "    }\n",
              "\n",
              "    .dataframe tbody tr th {\n",
              "        vertical-align: top;\n",
              "    }\n",
              "\n",
              "    .dataframe thead th {\n",
              "        text-align: right;\n",
              "    }\n",
              "</style>\n",
              "<table border=\"1\" class=\"dataframe\">\n",
              "  <thead>\n",
              "    <tr style=\"text-align: right;\">\n",
              "      <th></th>\n",
              "      <th>Rented Bike Count</th>\n",
              "      <th>Hour</th>\n",
              "      <th>Temperature(癈)</th>\n",
              "      <th>Humidity(%)</th>\n",
              "      <th>Wind speed (m/s)</th>\n",
              "      <th>Visibility (10m)</th>\n",
              "      <th>Dew point temperature(癈)</th>\n",
              "      <th>Solar Radiation (MJ/m2)</th>\n",
              "      <th>Rainfall(mm)</th>\n",
              "      <th>Snowfall (cm)</th>\n",
              "      <th>Seasons</th>\n",
              "      <th>Holiday</th>\n",
              "      <th>Functioning Day</th>\n",
              "    </tr>\n",
              "    <tr>\n",
              "      <th>Date</th>\n",
              "      <th></th>\n",
              "      <th></th>\n",
              "      <th></th>\n",
              "      <th></th>\n",
              "      <th></th>\n",
              "      <th></th>\n",
              "      <th></th>\n",
              "      <th></th>\n",
              "      <th></th>\n",
              "      <th></th>\n",
              "      <th></th>\n",
              "      <th></th>\n",
              "      <th></th>\n",
              "    </tr>\n",
              "  </thead>\n",
              "  <tbody>\n",
              "    <tr>\n",
              "      <th>01/12/2017</th>\n",
              "      <td>254</td>\n",
              "      <td>0</td>\n",
              "      <td>-5.2</td>\n",
              "      <td>37</td>\n",
              "      <td>2.2</td>\n",
              "      <td>2000</td>\n",
              "      <td>-17.6</td>\n",
              "      <td>0.0</td>\n",
              "      <td>0.0</td>\n",
              "      <td>0.0</td>\n",
              "      <td>Winter</td>\n",
              "      <td>No Holiday</td>\n",
              "      <td>Yes</td>\n",
              "    </tr>\n",
              "    <tr>\n",
              "      <th>01/12/2017</th>\n",
              "      <td>204</td>\n",
              "      <td>1</td>\n",
              "      <td>-5.5</td>\n",
              "      <td>38</td>\n",
              "      <td>0.8</td>\n",
              "      <td>2000</td>\n",
              "      <td>-17.6</td>\n",
              "      <td>0.0</td>\n",
              "      <td>0.0</td>\n",
              "      <td>0.0</td>\n",
              "      <td>Winter</td>\n",
              "      <td>No Holiday</td>\n",
              "      <td>Yes</td>\n",
              "    </tr>\n",
              "    <tr>\n",
              "      <th>01/12/2017</th>\n",
              "      <td>173</td>\n",
              "      <td>2</td>\n",
              "      <td>-6.0</td>\n",
              "      <td>39</td>\n",
              "      <td>1.0</td>\n",
              "      <td>2000</td>\n",
              "      <td>-17.7</td>\n",
              "      <td>0.0</td>\n",
              "      <td>0.0</td>\n",
              "      <td>0.0</td>\n",
              "      <td>Winter</td>\n",
              "      <td>No Holiday</td>\n",
              "      <td>Yes</td>\n",
              "    </tr>\n",
              "    <tr>\n",
              "      <th>01/12/2017</th>\n",
              "      <td>107</td>\n",
              "      <td>3</td>\n",
              "      <td>-6.2</td>\n",
              "      <td>40</td>\n",
              "      <td>0.9</td>\n",
              "      <td>2000</td>\n",
              "      <td>-17.6</td>\n",
              "      <td>0.0</td>\n",
              "      <td>0.0</td>\n",
              "      <td>0.0</td>\n",
              "      <td>Winter</td>\n",
              "      <td>No Holiday</td>\n",
              "      <td>Yes</td>\n",
              "    </tr>\n",
              "    <tr>\n",
              "      <th>01/12/2017</th>\n",
              "      <td>78</td>\n",
              "      <td>4</td>\n",
              "      <td>-6.0</td>\n",
              "      <td>36</td>\n",
              "      <td>2.3</td>\n",
              "      <td>2000</td>\n",
              "      <td>-18.6</td>\n",
              "      <td>0.0</td>\n",
              "      <td>0.0</td>\n",
              "      <td>0.0</td>\n",
              "      <td>Winter</td>\n",
              "      <td>No Holiday</td>\n",
              "      <td>Yes</td>\n",
              "    </tr>\n",
              "    <tr>\n",
              "      <th>...</th>\n",
              "      <td>...</td>\n",
              "      <td>...</td>\n",
              "      <td>...</td>\n",
              "      <td>...</td>\n",
              "      <td>...</td>\n",
              "      <td>...</td>\n",
              "      <td>...</td>\n",
              "      <td>...</td>\n",
              "      <td>...</td>\n",
              "      <td>...</td>\n",
              "      <td>...</td>\n",
              "      <td>...</td>\n",
              "      <td>...</td>\n",
              "    </tr>\n",
              "    <tr>\n",
              "      <th>30/11/2018</th>\n",
              "      <td>1003</td>\n",
              "      <td>19</td>\n",
              "      <td>4.2</td>\n",
              "      <td>34</td>\n",
              "      <td>2.6</td>\n",
              "      <td>1894</td>\n",
              "      <td>-10.3</td>\n",
              "      <td>0.0</td>\n",
              "      <td>0.0</td>\n",
              "      <td>0.0</td>\n",
              "      <td>Autumn</td>\n",
              "      <td>No Holiday</td>\n",
              "      <td>Yes</td>\n",
              "    </tr>\n",
              "    <tr>\n",
              "      <th>30/11/2018</th>\n",
              "      <td>764</td>\n",
              "      <td>20</td>\n",
              "      <td>3.4</td>\n",
              "      <td>37</td>\n",
              "      <td>2.3</td>\n",
              "      <td>2000</td>\n",
              "      <td>-9.9</td>\n",
              "      <td>0.0</td>\n",
              "      <td>0.0</td>\n",
              "      <td>0.0</td>\n",
              "      <td>Autumn</td>\n",
              "      <td>No Holiday</td>\n",
              "      <td>Yes</td>\n",
              "    </tr>\n",
              "    <tr>\n",
              "      <th>30/11/2018</th>\n",
              "      <td>694</td>\n",
              "      <td>21</td>\n",
              "      <td>2.6</td>\n",
              "      <td>39</td>\n",
              "      <td>0.3</td>\n",
              "      <td>1968</td>\n",
              "      <td>-9.9</td>\n",
              "      <td>0.0</td>\n",
              "      <td>0.0</td>\n",
              "      <td>0.0</td>\n",
              "      <td>Autumn</td>\n",
              "      <td>No Holiday</td>\n",
              "      <td>Yes</td>\n",
              "    </tr>\n",
              "    <tr>\n",
              "      <th>30/11/2018</th>\n",
              "      <td>712</td>\n",
              "      <td>22</td>\n",
              "      <td>2.1</td>\n",
              "      <td>41</td>\n",
              "      <td>1.0</td>\n",
              "      <td>1859</td>\n",
              "      <td>-9.8</td>\n",
              "      <td>0.0</td>\n",
              "      <td>0.0</td>\n",
              "      <td>0.0</td>\n",
              "      <td>Autumn</td>\n",
              "      <td>No Holiday</td>\n",
              "      <td>Yes</td>\n",
              "    </tr>\n",
              "    <tr>\n",
              "      <th>30/11/2018</th>\n",
              "      <td>584</td>\n",
              "      <td>23</td>\n",
              "      <td>1.9</td>\n",
              "      <td>43</td>\n",
              "      <td>1.3</td>\n",
              "      <td>1909</td>\n",
              "      <td>-9.3</td>\n",
              "      <td>0.0</td>\n",
              "      <td>0.0</td>\n",
              "      <td>0.0</td>\n",
              "      <td>Autumn</td>\n",
              "      <td>No Holiday</td>\n",
              "      <td>Yes</td>\n",
              "    </tr>\n",
              "  </tbody>\n",
              "</table>\n",
              "<p>8760 rows × 13 columns</p>\n",
              "</div>"
            ],
            "text/plain": [
              "            Rented Bike Count  Hour  Temperature(癈)  Humidity(%)  \\\n",
              "Date                                                               \n",
              "01/12/2017                254     0            -5.2           37   \n",
              "01/12/2017                204     1            -5.5           38   \n",
              "01/12/2017                173     2            -6.0           39   \n",
              "01/12/2017                107     3            -6.2           40   \n",
              "01/12/2017                 78     4            -6.0           36   \n",
              "...                       ...   ...             ...          ...   \n",
              "30/11/2018               1003    19             4.2           34   \n",
              "30/11/2018                764    20             3.4           37   \n",
              "30/11/2018                694    21             2.6           39   \n",
              "30/11/2018                712    22             2.1           41   \n",
              "30/11/2018                584    23             1.9           43   \n",
              "\n",
              "            Wind speed (m/s)  Visibility (10m)  Dew point temperature(癈)  \\\n",
              "Date                                                                       \n",
              "01/12/2017               2.2              2000                     -17.6   \n",
              "01/12/2017               0.8              2000                     -17.6   \n",
              "01/12/2017               1.0              2000                     -17.7   \n",
              "01/12/2017               0.9              2000                     -17.6   \n",
              "01/12/2017               2.3              2000                     -18.6   \n",
              "...                      ...               ...                       ...   \n",
              "30/11/2018               2.6              1894                     -10.3   \n",
              "30/11/2018               2.3              2000                      -9.9   \n",
              "30/11/2018               0.3              1968                      -9.9   \n",
              "30/11/2018               1.0              1859                      -9.8   \n",
              "30/11/2018               1.3              1909                      -9.3   \n",
              "\n",
              "            Solar Radiation (MJ/m2)  Rainfall(mm)  Snowfall (cm) Seasons  \\\n",
              "Date                                                                       \n",
              "01/12/2017                      0.0           0.0            0.0  Winter   \n",
              "01/12/2017                      0.0           0.0            0.0  Winter   \n",
              "01/12/2017                      0.0           0.0            0.0  Winter   \n",
              "01/12/2017                      0.0           0.0            0.0  Winter   \n",
              "01/12/2017                      0.0           0.0            0.0  Winter   \n",
              "...                             ...           ...            ...     ...   \n",
              "30/11/2018                      0.0           0.0            0.0  Autumn   \n",
              "30/11/2018                      0.0           0.0            0.0  Autumn   \n",
              "30/11/2018                      0.0           0.0            0.0  Autumn   \n",
              "30/11/2018                      0.0           0.0            0.0  Autumn   \n",
              "30/11/2018                      0.0           0.0            0.0  Autumn   \n",
              "\n",
              "               Holiday Functioning Day  \n",
              "Date                                    \n",
              "01/12/2017  No Holiday             Yes  \n",
              "01/12/2017  No Holiday             Yes  \n",
              "01/12/2017  No Holiday             Yes  \n",
              "01/12/2017  No Holiday             Yes  \n",
              "01/12/2017  No Holiday             Yes  \n",
              "...                ...             ...  \n",
              "30/11/2018  No Holiday             Yes  \n",
              "30/11/2018  No Holiday             Yes  \n",
              "30/11/2018  No Holiday             Yes  \n",
              "30/11/2018  No Holiday             Yes  \n",
              "30/11/2018  No Holiday             Yes  \n",
              "\n",
              "[8760 rows x 13 columns]"
            ]
          },
          "execution_count": 3,
          "metadata": {},
          "output_type": "execute_result"
        }
      ],
      "source": [
        "import pandas as pd\n",
        "\n",
        "df = pd.read_csv(\"SeoulBikeData.csv\", encoding=\"gbk\", index_col=[\"Date\"])\n",
        "df"
      ]
    },
    {
      "cell_type": "code",
      "execution_count": 4,
      "metadata": {
        "id": "NgaSoHyObtJT"
      },
      "outputs": [
        {
          "data": {
            "text/plain": [
              "Date\n",
              "01/12/2017    Yes\n",
              "01/12/2017    Yes\n",
              "01/12/2017    Yes\n",
              "01/12/2017    Yes\n",
              "01/12/2017    Yes\n",
              "             ... \n",
              "30/11/2018    Yes\n",
              "30/11/2018    Yes\n",
              "30/11/2018    Yes\n",
              "30/11/2018    Yes\n",
              "30/11/2018    Yes\n",
              "Name: Functioning Day, Length: 8465, dtype: object"
            ]
          },
          "execution_count": 4,
          "metadata": {},
          "output_type": "execute_result"
        }
      ],
      "source": [
        "data = df.copy()\n",
        "data = data[data[\"Functioning Day\"] == \"Yes\"]\n",
        "data.pop(\"Functioning Day\")  # 只能拿掉一次"
      ]
    },
    {
      "cell_type": "code",
      "execution_count": 5,
      "metadata": {
        "colab": {
          "base_uri": "https://localhost:8080/"
        },
        "id": "1U8FVEELgQcS",
        "outputId": "56ee6916-86ae-4def-d9fb-4d80ddc8c44c"
      },
      "outputs": [
        {
          "name": "stdout",
          "output_type": "stream",
          "text": [
            "<class 'pandas.core.frame.DataFrame'>\n",
            "Index: 8465 entries, 01/12/2017 to 30/11/2018\n",
            "Data columns (total 12 columns):\n",
            " #   Column                    Non-Null Count  Dtype  \n",
            "---  ------                    --------------  -----  \n",
            " 0   Rented Bike Count         8465 non-null   int64  \n",
            " 1   Hour                      8465 non-null   int64  \n",
            " 2   Temperature(癈)            8465 non-null   float64\n",
            " 3   Humidity(%)               8465 non-null   int64  \n",
            " 4   Wind speed (m/s)          8465 non-null   float64\n",
            " 5   Visibility (10m)          8465 non-null   int64  \n",
            " 6   Dew point temperature(癈)  8465 non-null   float64\n",
            " 7   Solar Radiation (MJ/m2)   8465 non-null   float64\n",
            " 8   Rainfall(mm)              8465 non-null   float64\n",
            " 9   Snowfall (cm)             8465 non-null   float64\n",
            " 10  Seasons                   8465 non-null   object \n",
            " 11  Holiday                   8465 non-null   object \n",
            "dtypes: float64(6), int64(4), object(2)\n",
            "memory usage: 1.1+ MB\n"
          ]
        }
      ],
      "source": [
        "# 處理空值\n",
        "# NaN 空值\n",
        "data.info()\n",
        "data = data.dropna()"
      ]
    },
    {
      "cell_type": "code",
      "execution_count": 6,
      "metadata": {
        "id": "GN95oeVMgs2g"
      },
      "outputs": [],
      "source": [
        "# 處理欄位名稱(重新命名)\n",
        "data = data.rename(\n",
        "    columns={\n",
        "        \"Temperature(癈)\": \"Temperature(*C)\",\n",
        "        \"Dew point temperature(癈)\": \"Dew point(*C)\",\n",
        "    }\n",
        ")"
      ]
    },
    {
      "cell_type": "code",
      "execution_count": 7,
      "metadata": {
        "id": "fPDr7NXMhyXj"
      },
      "outputs": [],
      "source": [
        "# label encoder 將文字資料轉成對應的數字\n",
        "from sklearn.preprocessing import LabelEncoder\n",
        "\n",
        "le = LabelEncoder()\n",
        "\n",
        "data[\"Seasons\"] = le.fit_transform(data[\"Seasons\"])\n",
        "data[\"Holiday\"] = le.fit_transform(data[\"Holiday\"])"
      ]
    },
    {
      "cell_type": "code",
      "execution_count": 8,
      "metadata": {
        "colab": {
          "base_uri": "https://localhost:8080/",
          "height": 344
        },
        "id": "-CM1F9dEjkQP",
        "outputId": "15f9f946-1a04-46ae-fec9-88912955262a"
      },
      "outputs": [],
      "source": [
        "target = data.pop(\"Rented Bike Count\")"
      ]
    },
    {
      "cell_type": "code",
      "execution_count": 9,
      "metadata": {
        "id": "uP5fF7V1mb7o"
      },
      "outputs": [],
      "source": [
        "from sklearn.model_selection import train_test_split\n",
        "\n",
        "data_train, data_test, target_train, target_test = train_test_split(\n",
        "    data.values, target.values, test_size=0.2\n",
        ")"
      ]
    },
    {
      "cell_type": "code",
      "execution_count": 10,
      "metadata": {
        "colab": {
          "base_uri": "https://localhost:8080/",
          "height": 74
        },
        "id": "2lL7XBQ1ns32",
        "outputId": "f775f569-13fb-4232-b8db-35a75e1ef16b"
      },
      "outputs": [
        {
          "name": "stdout",
          "output_type": "stream",
          "text": [
            "[1372. 1177.  998. ...  417.  423.  995.]\n",
            "[ 134 2103  901 ...  122 1040 1037]\n"
          ]
        }
      ],
      "source": [
        "from sklearn.linear_model import LinearRegression\n",
        "\n",
        "regr = LinearRegression()\n",
        "regr.fit(data_train, target_train)\n",
        "pre = regr.predict(data_test)\n",
        "print(pre.round())\n",
        "print(target_test)"
      ]
    },
    {
      "cell_type": "code",
      "execution_count": 11,
      "metadata": {
        "colab": {
          "base_uri": "https://localhost:8080/"
        },
        "id": "OkOTtIGJpcmO",
        "outputId": "34952729-e807-45aa-9881-d3b2bb298d29"
      },
      "outputs": [
        {
          "name": "stdout",
          "output_type": "stream",
          "text": [
            "0.541\n",
            "0.538\n"
          ]
        }
      ],
      "source": [
        "# 1.決定係數\n",
        "print(regr.score(data_train, target_train).round(3))\n",
        "print(regr.score(data_test, target_test).round(3))\n",
        "# >0.7"
      ]
    },
    {
      "cell_type": "code",
      "execution_count": 12,
      "metadata": {
        "colab": {
          "base_uri": "https://localhost:8080/",
          "height": 430
        },
        "id": "e48s7TsiqD1F",
        "outputId": "911cec9e-75a6-4bcb-f2f9-9cf8b063403a"
      },
      "outputs": [
        {
          "data": {
            "image/png": "[encoded data removed]",
            "text/plain": [
              "<Figure size 640x480 with 1 Axes>"
            ]
          },
          "metadata": {},
          "output_type": "display_data"
        }
      ],
      "source": [
        "# 殘差圖\n",
        "import numpy as np\n",
        "import matplotlib.pyplot as plt\n",
        "\n",
        "x = np.arange(pre.size)\n",
        "y = x * 0\n",
        "plt.scatter(x, pre - target_test)\n",
        "plt.plot(x, y, color=\"orange\")\n",
        "plt.show()"
      ]
    }
  ],
  "metadata": {
    "colab": {
      "provenance": []
    },
    "kernelspec": {
      "display_name": "Python 3",
      "name": "python3"
    },
    "language_info": {
      "codemirror_mode": {
        "name": "ipython",
        "version": 3
      },
      "file_extension": ".py",
      "mimetype": "text/x-python",
      "name": "python",
      "nbconvert_exporter": "python",
      "pygments_lexer": "ipython3",
      "version": "3.11.5"
    }
  },
  "nbformat": 4,
  "nbformat_minor": 0
}
