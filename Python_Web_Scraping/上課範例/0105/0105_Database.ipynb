{
  "nbformat": 4,
  "nbformat_minor": 0,
  "metadata": {
    "colab": {
      "provenance": []
    },
    "kernelspec": {
      "name": "python3",
      "display_name": "Python 3"
    },
    "language_info": {
      "name": "python"
    }
  },
  "cells": [
    {
      "cell_type": "code",
      "execution_count": 24,
      "metadata": {
        "id": "WJarKpYbNbkG"
      },
      "outputs": [],
      "source": [
        "# JSON\n",
        "# CSV (Excel)\n",
        "# 資料庫: Oracle, SQL Server, DB2; MySQL, SQLite\n",
        "# 資料庫本體, table\n",
        "\n",
        "import sqlite3"
      ]
    },
    {
      "cell_type": "code",
      "source": [
        "con = sqlite3.connect('school.db')\n",
        "#dataset 資料集: 欄位; 列\n",
        "cur = con.cursor() #請聯想 excel 資料表裡面的一筆資料\n",
        "\n",
        "#3分鐘練習, 至 6:55\n",
        "\n",
        "# 資料庫的語言: SQL\n",
        "# stu: stuid INTEGER PRIMARY KEY, name VARCHAR(20), phone VARCHAR(10)"
      ],
      "metadata": {
        "id": "_S-ebcpjOfli"
      },
      "execution_count": 25,
      "outputs": []
    },
    {
      "cell_type": "code",
      "source": [
        "cur.execute('CREATE TABLE stu (stuid INTEGER PRIMARY KEY, name VARCHAR(20), phone VARCHAR(10))')\n",
        "#內嵌 SQL 語法;對資料庫建立一個名稱為 stu 的資料表 (table)\n",
        "#3分鐘練習 , 7:8"
      ],
      "metadata": {
        "colab": {
          "base_uri": "https://localhost:8080/"
        },
        "id": "WwA-yUUfQ-kX",
        "outputId": "f2561794-0559-43e3-9a51-9a35059d431d"
      },
      "execution_count": 26,
      "outputs": [
        {
          "output_type": "execute_result",
          "data": {
            "text/plain": [
              "<sqlite3.Cursor at 0x783c2de27dc0>"
            ]
          },
          "metadata": {},
          "execution_count": 26
        }
      ]
    },
    {
      "cell_type": "code",
      "source": [
        "cur.execute('DROP TABLE stu')"
      ],
      "metadata": {
        "colab": {
          "base_uri": "https://localhost:8080/",
          "height": 179
        },
        "id": "O3K1vNP0T8vB",
        "outputId": "1deff9a7-999d-41ca-cee3-fcb8ae39f0aa"
      },
      "execution_count": 20,
      "outputs": [
        {
          "output_type": "error",
          "ename": "OperationalError",
          "evalue": "database is locked",
          "traceback": [
            "\u001b[0;31m---------------------------------------------------------------------------\u001b[0m",
            "\u001b[0;31mOperationalError\u001b[0m                          Traceback (most recent call last)",
            "\u001b[0;32m<ipython-input-20-7403f7c1f939>\u001b[0m in \u001b[0;36m<cell line: 1>\u001b[0;34m()\u001b[0m\n\u001b[0;32m----> 1\u001b[0;31m \u001b[0mcur\u001b[0m\u001b[0;34m.\u001b[0m\u001b[0mexecute\u001b[0m\u001b[0;34m(\u001b[0m\u001b[0;34m'DROP TABLE stu'\u001b[0m\u001b[0;34m)\u001b[0m\u001b[0;34m\u001b[0m\u001b[0;34m\u001b[0m\u001b[0m\n\u001b[0m",
            "\u001b[0;31mOperationalError\u001b[0m: database is locked"
          ]
        }
      ]
    },
    {
      "cell_type": "code",
      "source": [
        "cur.execute(\"INSERT INTO stu VALUES({1}}, '章於歌', '0922577885')\")\n",
        "#請新增多筆資料, 然後查詢: 第二節課 7: 48 繼續"
      ],
      "metadata": {
        "colab": {
          "base_uri": "https://localhost:8080/"
        },
        "id": "ueWn1S9wU6Jx",
        "outputId": "11db69c3-9452-4c8b-ba9c-b2383eeb8fe7"
      },
      "execution_count": 32,
      "outputs": [
        {
          "output_type": "execute_result",
          "data": {
            "text/plain": [
              "<sqlite3.Cursor at 0x783c2de27dc0>"
            ]
          },
          "metadata": {},
          "execution_count": 32
        }
      ]
    },
    {
      "cell_type": "code",
      "source": [
        "cur.execute('SELECT * FROM stu')\n",
        "rows = cur.fetchall()\n",
        "print(rows)\n",
        "print('--------')\n",
        "\n",
        "for row in rows:\n",
        "  print(row[0], row[1], row[2])\n",
        "\n",
        "\n",
        "# 5 分鐘練習, 至7:25"
      ],
      "metadata": {
        "colab": {
          "base_uri": "https://localhost:8080/"
        },
        "id": "UtswvAJKWHDb",
        "outputId": "a87c0a51-5dde-4ca0-a9ea-32f0874d5f8a"
      },
      "execution_count": 43,
      "outputs": [
        {
          "output_type": "stream",
          "name": "stdout",
          "text": [
            "[(113001, '王大川', '0933577665'), (113002, '李美麗', '0933577885'), (113003, '章於歌', '0922577885'), (113004, '章於歌', '0922577885'), (113005, '章於歌', '0922577885')]\n",
            "--------\n",
            "113001 王大川 0933577665\n",
            "113002 李美麗 0933577885\n",
            "113003 章於歌 0922577885\n",
            "113004 章於歌 0922577885\n",
            "113005 章於歌 0922577885\n"
          ]
        }
      ]
    },
    {
      "cell_type": "code",
      "source": [
        "# 向量, 矩陣\n",
        "# 電腦資料處理\n",
        "# 資料科學 (Data Science) 學科, 職業\n",
        "# NumPy -> 向量與矩陣運算; Pandas -> 資料處理; Matplotlib -> 2D 繪圖; Seaborn 豐富的圖形\n",
        "\n",
        "# Numpy: ndarray\n",
        "# 向量 (vector); 矩陣 (matrix)\n",
        "# 向量：方向與大小的值: 速度、加速度、動力\n",
        "# 向量：序列數值: [2, 5, -9], [], 2i+4j+6k\n",
        "# 矩陣: 2維度的表格 (欄, 列)\n"
      ],
      "metadata": {
        "id": "WZ27lmh-glgT"
      },
      "execution_count": null,
      "outputs": []
    },
    {
      "cell_type": "code",
      "source": [
        "# 陣列\n",
        "import numpy as np\n",
        "a = np.array([1, 2, 3, 4, 5]) #用串列建立 ndarray\n",
        "b = np.array((1, 2, 3, 4, 5)) #用元組建立 ndarray\n",
        "print(type(a))\n",
        "print(a)\n",
        "print(type(b))\n",
        "print(b)\n",
        "\n",
        "# 3 分鐘練習, 8:24"
      ],
      "metadata": {
        "colab": {
          "base_uri": "https://localhost:8080/"
        },
        "id": "yOzrEYpIjj4c",
        "outputId": "44a6a8c6-af44-4dda-9997-974c0dc696a7"
      },
      "execution_count": 46,
      "outputs": [
        {
          "output_type": "stream",
          "name": "stdout",
          "text": [
            "<class 'numpy.ndarray'>\n",
            "[1 2 3 4 5]\n",
            "<class 'numpy.ndarray'>\n",
            "[1 2 3 4 5]\n"
          ]
        }
      ]
    },
    {
      "cell_type": "code",
      "source": [
        "# 針對每個元素都給予一個索引值 0, 1, 2, 3, 4\n",
        "print(a[0], a[1], a[2], a[3], a[4])\n",
        "a[0] = 888\n",
        "print(a)\n",
        "# 3 分鐘練習, 8:29"
      ],
      "metadata": {
        "colab": {
          "base_uri": "https://localhost:8080/"
        },
        "id": "BklRD7sTlJ-u",
        "outputId": "755c675a-13c0-4714-9503-e8300312e41a"
      },
      "execution_count": 48,
      "outputs": [
        {
          "output_type": "stream",
          "name": "stdout",
          "text": [
            "1 2 3 4 5\n",
            "[888   2   3   4   5]\n"
          ]
        }
      ]
    },
    {
      "cell_type": "code",
      "source": [
        "# 二維陣列\n",
        "c = np.array([[1, 2, 3], [4, 5, 6]])\n",
        "print(c)\n",
        "# c[0,0]=1  c[0, 1] = 2   c[0,2]=3\n",
        "# c[1,0]=4  C[1,1] = 5    c[1, 2]=6\n",
        "print(c[1,1])\n",
        "\n",
        "#第二節課休息至 8:45"
      ],
      "metadata": {
        "colab": {
          "base_uri": "https://localhost:8080/"
        },
        "id": "IOW7V-memXFS",
        "outputId": "4ee7199c-9dfc-48d9-cd38-098313f2b63c"
      },
      "execution_count": 53,
      "outputs": [
        {
          "output_type": "stream",
          "name": "stdout",
          "text": [
            "[[1 2 3]\n",
            " [4 5 6]]\n",
            "5\n"
          ]
        }
      ]
    },
    {
      "cell_type": "code",
      "source": [
        "e = np.array([1, 2, 3, 4, 5], dtype=float)\n",
        "print(e)"
      ],
      "metadata": {
        "colab": {
          "base_uri": "https://localhost:8080/"
        },
        "id": "btnwooGxqKRE",
        "outputId": "917d172f-3d72-4825-f045-36d2830894f4"
      },
      "execution_count": 54,
      "outputs": [
        {
          "output_type": "stream",
          "name": "stdout",
          "text": [
            "[1. 2. 3. 4. 5.]\n"
          ]
        }
      ]
    },
    {
      "cell_type": "code",
      "source": [
        "f = np.arange(8)\n",
        "print(f)\n",
        "g = np.arange(1, 6, 3)\n",
        "print(g)\n",
        "#3分鐘練習, 53分\n"
      ],
      "metadata": {
        "colab": {
          "base_uri": "https://localhost:8080/"
        },
        "id": "ktUyiTOmqhxW",
        "outputId": "615dac19-7671-4b69-a125-c62f93d61a5f"
      },
      "execution_count": 58,
      "outputs": [
        {
          "output_type": "stream",
          "name": "stdout",
          "text": [
            "[0 1 2 3 4 5 6 7]\n",
            "[1 4]\n"
          ]
        }
      ]
    },
    {
      "cell_type": "code",
      "source": [
        "g = np.zeros(2)\n",
        "print(g)\n",
        "h = np.ones(5)\n",
        "print(h)\n",
        "i = np.full(2, 7)\n",
        "print(i)\n",
        "j_sample = np.array([[1, 2, 3], [4, 5, 6]])\n",
        "j = np.ones_like(j_sample)\n",
        "print(j)\n",
        "k = np.eye(3)\n",
        "print(k)\n",
        "print('-----------')\n",
        "l = np.eye(3, k=0)\n",
        "print(l)\n",
        "\n",
        "#3分鐘練習, 9:07\n",
        "m = np.random.rand(6)\n",
        "print(m)\n",
        "n = np.random.rand(3, 5)\n",
        "print(n)"
      ],
      "metadata": {
        "colab": {
          "base_uri": "https://localhost:8080/"
        },
        "id": "PN0ouBsAr3rU",
        "outputId": "11950def-0c5c-4621-8a47-1fd1185fb2af"
      },
      "execution_count": 71,
      "outputs": [
        {
          "output_type": "stream",
          "name": "stdout",
          "text": [
            "[0. 0.]\n",
            "[1. 1. 1. 1. 1.]\n",
            "[7 7]\n",
            "[[1 1 1]\n",
            " [1 1 1]]\n",
            "[[1. 0. 0.]\n",
            " [0. 1. 0.]\n",
            " [0. 0. 1.]]\n",
            "-----------\n",
            "[[1. 0. 0.]\n",
            " [0. 1. 0.]\n",
            " [0. 0. 1.]]\n",
            "[0.77026771 0.81579485 0.35267134 0.27984628 0.51430261 0.74400405]\n",
            "[[0.66147425 0.73398007 0.48540407 0.923402   0.80611199]\n",
            " [0.80894333 0.13784428 0.77800558 0.77095777 0.46121804]\n",
            " [0.15941616 0.54751638 0.54152426 0.96683905 0.81127471]]\n"
          ]
        }
      ]
    },
    {
      "cell_type": "code",
      "source": [
        "a = np.arange(16)\n",
        "print(a)\n",
        "print('-----------------------')\n",
        "b = a.reshape((4, 4))\n",
        "print(b)\n",
        "print('----------------------')\n",
        "c = b.reshape(16)\n",
        "print(c)\n",
        "print('------------------------')\n",
        "d = np.array(range(10), float)\n",
        "print(d)\n",
        "e = d.reshape((5, 2))\n",
        "print(e)\n",
        "# 3 分鐘練習, 9:19"
      ],
      "metadata": {
        "colab": {
          "base_uri": "https://localhost:8080/"
        },
        "id": "zz_CLYnCvviS",
        "outputId": "15e70388-7d2d-480b-9d20-1449e34329ce"
      },
      "execution_count": 81,
      "outputs": [
        {
          "output_type": "stream",
          "name": "stdout",
          "text": [
            "[ 0  1  2  3  4  5  6  7  8  9 10 11 12 13 14 15]\n",
            "-----------------------\n",
            "[[ 0  1  2  3]\n",
            " [ 4  5  6  7]\n",
            " [ 8  9 10 11]\n",
            " [12 13 14 15]]\n",
            "----------------------\n",
            "[ 0  1  2  3  4  5  6  7  8  9 10 11 12 13 14 15]\n",
            "------------------------\n",
            "[0. 1. 2. 3. 4. 5. 6. 7. 8. 9.]\n",
            "[[0. 1.]\n",
            " [2. 3.]\n",
            " [4. 5.]\n",
            " [6. 7.]\n",
            " [8. 9.]]\n"
          ]
        }
      ]
    },
    {
      "cell_type": "code",
      "source": [
        "# numpy -> function()\n",
        "# 屬性 .attribute\n",
        "# dtype, size, shape, itemsize, ndim, nbytes\n",
        "\n",
        "a = np.array([[11, 12, 13, 14, 15], [16, 17, 18, 19, 20], [21, 22, 23, 24, 25], [26, 27, 28, 29, 30]])\n",
        "\n",
        "print(a.dtype)\n",
        "print(a.shape)\n",
        "print(a.itemsize)\n",
        "print(a.ndim)\n",
        "print(a.nbytes)\n",
        "\n",
        "#3 分鐘練習, 9:28\n"
      ],
      "metadata": {
        "colab": {
          "base_uri": "https://localhost:8080/"
        },
        "id": "D3g8YTp2xxDL",
        "outputId": "ced99587-a655-49c0-f26a-75933e405b66"
      },
      "execution_count": 84,
      "outputs": [
        {
          "output_type": "stream",
          "name": "stdout",
          "text": [
            "int64\n",
            "(4, 5)\n",
            "8\n",
            "2\n",
            "160\n"
          ]
        }
      ]
    },
    {
      "cell_type": "code",
      "source": [
        "# 走訪陣列的元素: 迴圈\n",
        "a1 = np.array([1, 2, 3, 4, 5])\n",
        "for ele in a1:\n",
        "  print(ele)\n",
        "  print('---')\n",
        "\n",
        "#走訪2維陣列的元素\n",
        "for ele in a:\n",
        "  print(ele)\n",
        "print('--------------------------')\n",
        "for ele in a:\n",
        "  for item in ele:\n",
        "    print(str(item) + \" \", end=\"\")\n",
        "    #print(item)\n",
        "\n",
        "# 3分鐘練習, 至9:38"
      ],
      "metadata": {
        "colab": {
          "base_uri": "https://localhost:8080/"
        },
        "id": "ms2EGMgiz0Gf",
        "outputId": "f08fa2ba-3c53-489c-e159-cfda34efcc57"
      },
      "execution_count": 92,
      "outputs": [
        {
          "output_type": "stream",
          "name": "stdout",
          "text": [
            "1\n",
            "---\n",
            "2\n",
            "---\n",
            "3\n",
            "---\n",
            "4\n",
            "---\n",
            "5\n",
            "---\n",
            "[11 12 13 14 15]\n",
            "[16 17 18 19 20]\n",
            "[21 22 23 24 25]\n",
            "[26 27 28 29 30]\n",
            "--------------------------\n",
            "11 12 13 14 15 16 17 18 19 20 21 22 23 24 25 26 27 28 29 30 "
          ]
        }
      ]
    },
    {
      "cell_type": "markdown",
      "source": [],
      "metadata": {
        "id": "pjGS6OHHi1-p"
      }
    }
  ]
}