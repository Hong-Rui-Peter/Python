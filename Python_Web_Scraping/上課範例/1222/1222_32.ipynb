{
  "cells": [
    {
      "cell_type": "code",
      "execution_count": 1,
      "metadata": {
        "id": "eTBlqkPxhde-"
      },
      "outputs": [],
      "source": [
        "# 取得資料: 自己蒐集的資料, API, 網路爬蟲\n",
        "# Web scraping: 網路爬蟲, 網頁資料擷取 -> html (web scoket) -> csv (dict)\n",
        "# java scirpt\n",
        "# https://chrome.google.com/webstore/ -> JavaScript Switcher\n",
        "# https://fchart.github.io/ML/nba_items.html\n",
        "# 分析工具、http 函式庫、網路爬蟲的函式庫、擷取動態網頁資料 javascript"
      ]
    },
    {
      "cell_type": "code",
      "execution_count": 2,
      "metadata": {
        "id": "Ze6KnhN9lGGD"
      },
      "outputs": [],
      "source": [
        "# 第一個步驟: 找出目標 URL 網址和參數\n",
        "# http://www.exampel.com:80/test/index.php?user=joe\n",
        "# 第二個步驟:判斷網頁內容如何產生\n",
        "# 網頁沒有使用 javascript -> 靜態網頁 -> requests\n",
        "# 網頁內容有差別, 但想要取得的資料不受到影響 -> requests\n",
        "# 目標資料不見了! -> Selenium\n",
        "# 第三個步驟：作戰方法 -> CSS 選擇器; XPath; 正規表達式\n",
        "# 第四個步驟：把取得資料儲存到你的檔案結構或是資料庫: CSV, JSON, 資料庫"
      ]
    },
    {
      "cell_type": "code",
      "execution_count": 3,
      "metadata": {
        "colab": {
          "base_uri": "https://localhost:8080/"
        },
        "id": "ISYvhKQFoWf2",
        "outputId": "ee31e908-85ac-4433-aad3-e62d87092797"
      },
      "outputs": [
        {
          "name": "stdout",
          "output_type": "stream",
          "text": [
            "連線成功, 程式繼續...\n",
            "200\n"
          ]
        }
      ],
      "source": [
        "import requests\n",
        "\n",
        "\n",
        "r = requests.get(\"http://www.google.com\")\n",
        "\n",
        "\n",
        "if r.status_code == 200:\n",
        "    print(\"連線成功, 程式繼續...\")\n",
        "\n",
        "\n",
        "else:\n",
        "    print(\"連線失敗, 程式中斷...\")\n",
        "\n",
        "\n",
        "print(r.status_code)  # 請練習3分鐘 -> 10"
      ]
    },
    {
      "cell_type": "code",
      "execution_count": 4,
      "metadata": {
        "colab": {
          "base_uri": "https://localhost:8080/"
        },
        "id": "6iyfz-Lpp3Il",
        "outputId": "aa0d9214-1292-4b18-9593-2416e37bc683"
      },
      "outputs": [
        {
          "name": "stdout",
          "output_type": "stream",
          "text": [
            "http://httpbin.org/get?name=lady+bug&score=80\n"
          ]
        }
      ],
      "source": [
        "# http://www.company.com?para1=value1&para2=value2\n",
        "import requests\n",
        "\n",
        "url_params = {\"name\": \"lady bug\", \"score\": 80}\n",
        "r = requests.get(\"http://httpbin.org/get\", params=url_params)\n",
        "print(r.url)\n",
        "\n",
        "# 請練習3分鐘, 23"
      ]
    },
    {
      "cell_type": "code",
      "execution_count": 13,
      "metadata": {
        "colab": {
          "base_uri": "https://localhost:8080/"
        },
        "id": "vtBmm8gMsO_a",
        "outputId": "f3c54019-d640-438a-aa94-2509680d3255"
      },
      "outputs": [
        {
          "name": "stdout",
          "output_type": "stream",
          "text": [
            "{\n",
            "  \"args\": {\n",
            "    \"name\": \"lady bug\", \n",
            "    \"score\": \"80\"\n",
            "  }, \n",
            "  \"headers\": {\n",
            "    \"Accept\": \"*/*\", \n",
            "    \"Accept-Encoding\": \"gzip, deflate\", \n",
            "    \"Host\": \"httpbin.org\", \n",
            "    \"User-Agent\": \"python-requests/2.31.0\", \n",
            "    \"X-Amzn-Trace-Id\": \"Root=1-65858cc1-798fb83115afafb91e799bd0\"\n",
            "  }, \n",
            "  \"origin\": \"35.229.255.120\", \n",
            "  \"url\": \"http://httpbin.org/get?name=lady+bug&score=80\"\n",
            "}\n",
            "\n"
          ]
        }
      ],
      "source": [
        "print(r.text)"
      ]
    },
    {
      "cell_type": "code",
      "execution_count": 14,
      "metadata": {
        "colab": {
          "base_uri": "https://localhost:8080/"
        },
        "id": "9183Ri60soiZ",
        "outputId": "8d58a6e2-ea84-4438-8658-e69004bc7d20"
      },
      "outputs": [
        {
          "name": "stdout",
          "output_type": "stream",
          "text": [
            "{\n",
            "  \"args\": {}, \n",
            "  \"data\": \"\", \n",
            "  \"files\": {}, \n",
            "  \"form\": {\n",
            "    \"name\": \"lady bug\", \n",
            "    \"score\": \"80\"\n",
            "  }, \n",
            "  \"headers\": {\n",
            "    \"Accept\": \"*/*\", \n",
            "    \"Accept-Encoding\": \"gzip, deflate\", \n",
            "    \"Content-Length\": \"22\", \n",
            "    \"Content-Type\": \"application/x-www-form-urlencoded\", \n",
            "    \"Host\": \"httpbin.org\", \n",
            "    \"User-Agent\": \"python-requests/2.31.0\", \n",
            "    \"X-Amzn-Trace-Id\": \"Root=1-65858e4f-0468242f57d25ae708576547\"\n",
            "  }, \n",
            "  \"json\": null, \n",
            "  \"origin\": \"35.229.255.120\", \n",
            "  \"url\": \"http://httpbin.org/post\"\n",
            "}\n",
            "\n"
          ]
        }
      ],
      "source": [
        "post_data = {\"name\": \"lady bug\", \"score\": 80}\n",
        "r = requests.post(\"http://httpbin.org/post\", data=post_data)\n",
        "print(r.text)"
      ]
    },
    {
      "cell_type": "code",
      "execution_count": 15,
      "metadata": {
        "colab": {
          "base_uri": "https://localhost:8080/"
        },
        "id": "K_t5f2COtahi",
        "outputId": "42f8f5a6-abcd-460e-9674-67b58e4c95ce"
      },
      "outputs": [
        {
          "name": "stdout",
          "output_type": "stream",
          "text": [
            "<html>\r\n",
            "<head>\r\n",
            "<meta charset=\"utf-8\"/>\r\n",
            "<title>測試的HTML5網頁</title>\r\n",
            "</head>\r\n",
            "<body>\r\n",
            "<h3>從網路取得資料</h3><hr/>\r\n",
            "<div><p>使用Requests套件送出HTTP請求</p></div>\r\n",
            "</body>\r\n",
            "</html>\n",
            "utf-8\n"
          ]
        }
      ],
      "source": [
        "# html, JSON, 二進位檔\n",
        "# JSON -> JavaScript Object Notation\n",
        "r = requests.get(\"https://fchart.github.io/test.html\")\n",
        "print(r.text)\n",
        "print(r.encoding)  # 請練習3分鐘"
      ]
    },
    {
      "cell_type": "code",
      "execution_count": 16,
      "metadata": {
        "colab": {
          "base_uri": "https://localhost:8080/"
        },
        "id": "PNmY9RBUvC1-",
        "outputId": "a03a0143-23ee-4b8f-cdc0-2a8aef4ef3c9"
      },
      "outputs": [
        {
          "name": "stdout",
          "output_type": "stream",
          "text": [
            "<html>\r\n",
            "<head>\r\n",
            "<meta charset=\"utf-8\"/>\r\n",
            "<title>測試的HTML5網頁</title>\r\n",
            "</head>\r\n",
            "<body>\r\n",
            "<h3>從網路取得資料</h3><hr/>\r\n",
            "<div><p>使用Requests套件送出HTTP請求</p></div>\r\n",
            "</body>\r\n",
            "</html>\n",
            "------------------------------------\n",
            "b'<html>\\r\\n<head>\\r\\n<meta charset=\"utf-8\"/>\\r\\n<title>\\xe6\\xb8\\xac\\xe8\\xa9\\xa6\\xe7\\x9a\\x84HTML5\\xe7\\xb6\\xb2\\xe9\\xa0\\x81</title>\\r\\n</head>\\r\\n<body>\\r\\n<h3>\\xe5\\xbe\\x9e\\xe7\\xb6\\xb2\\xe8\\xb7\\xaf\\xe5\\x8f\\x96\\xe5\\xbe\\x97\\xe8\\xb3\\x87\\xe6\\x96\\x99</h3><hr/>\\r\\n<div><p>\\xe4\\xbd\\xbf\\xe7\\x94\\xa8Requests\\xe5\\xa5\\x97\\xe4\\xbb\\xb6\\xe9\\x80\\x81\\xe5\\x87\\xbaHTTP\\xe8\\xab\\x8b\\xe6\\xb1\\x82</p></div>\\r\\n</body>\\r\\n</html>'\n",
            "------------------------------------\n",
            "<urllib3.response.HTTPResponse object at 0x7a0090487e20>\n",
            "b'<html>\\r\\n<head>\\r'\n"
          ]
        }
      ],
      "source": [
        "r = requests.get(\"https://fchart.github.io/test.html\")\n",
        "print(r.text)\n",
        "print(\"------------------------------------\")\n",
        "\n",
        "r = requests.get(\"https://fchart.github.io/test.html\")\n",
        "print(r.content)\n",
        "print(\"------------------------------------\")\n",
        "\n",
        "r = requests.get(\"https://fchart.github.io/test.html\", stream=True)\n",
        "print(r.raw)\n",
        "print(r.raw.read(15))"
      ]
    }
  ],
  "metadata": {
    "colab": {
      "provenance": []
    },
    "kernelspec": {
      "display_name": "Python 3",
      "name": "python3"
    },
    "language_info": {
      "codemirror_mode": {
        "name": "ipython",
        "version": 3
      },
      "file_extension": ".py",
      "mimetype": "text/x-python",
      "name": "python",
      "nbconvert_exporter": "python",
      "pygments_lexer": "ipython3",
      "version": "3.12.1"
    }
  },
  "nbformat": 4,
  "nbformat_minor": 0
}
