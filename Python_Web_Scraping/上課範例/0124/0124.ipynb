{
 "cells": [
  {
   "cell_type": "code",
   "execution_count": null,
   "metadata": {},
   "outputs": [],
   "source": [
    "import pandas as pd\n",
    "\n",
    "df = pd.read_csv(\"SeoulBikeData.csv\", encoding=\"gbk\", index_col=[\"Date\"])\n",
    "df"
   ]
  },
  {
   "cell_type": "code",
   "execution_count": null,
   "metadata": {},
   "outputs": [],
   "source": [
    "data = df.copy()\n",
    "data = data[data[\"Functioning Day\"] == \"Yes\"]\n",
    "data.pop(\"Functioning Day\")"
   ]
  },
  {
   "cell_type": "code",
   "execution_count": null,
   "metadata": {},
   "outputs": [],
   "source": [
    "data.info()\n",
    "data.dropna()\n",
    "data = data.rename(\n",
    "    columns={\n",
    "        \"Temperature(癈)\": \"Temperature(*C)\",\n",
    "        \"Dew point temperature(癈)\": \"Dew point(*C)\",\n",
    "    }\n",
    ")"
   ]
  },
  {
   "cell_type": "code",
   "execution_count": null,
   "metadata": {},
   "outputs": [],
   "source": [
    "from sklearn.preprocessing import LabelEncoder\n",
    "\n",
    "le = LabelEncoder()\n",
    "data[\"Seasons\"] = le.fit_transform(data[\"Seasons\"])\n",
    "data[\"Holiday\"] = le.fit_transform(data[\"Holiday\"])\n",
    "\n",
    "target = data.pop(\"Rented Bike Count\")\n",
    "target"
   ]
  },
  {
   "cell_type": "code",
   "execution_count": null,
   "metadata": {},
   "outputs": [],
   "source": [
    "from sklearn.model_selection import train_test_split\n",
    "from sklearn.linear_model import LinearRegression\n",
    "\n",
    "data_train, data_test, target_train, target_test = train_test_split(\n",
    "    data.values, target.values, test_size=0.2\n",
    ")\n",
    "regr = LinearRegression()\n",
    "regr.fit(data_train, target_train)\n",
    "\n",
    "pre = regr.predict(data_test)\n",
    "print(pre.round())\n",
    "print(target_test)\n",
    "print(\"=================================\")\n",
    "print(regr.score(data_train, target_train).round(3))\n",
    "print(regr.score(data_test, target_test).round(3))"
   ]
  },
  {
   "cell_type": "code",
   "execution_count": null,
   "metadata": {},
   "outputs": [],
   "source": [
    "import numpy as np\n",
    "import matplotlib.pyplot as plt\n",
    "\n",
    "x = np.arange(pre.size)\n",
    "y = x * 0\n",
    "plt.scatter(x, pre - target_test)\n",
    "plt.plot(x, y, color=\"orange\")\n",
    "plt.show()"
   ]
  }
 ],
 "metadata": {
  "kernelspec": {
   "display_name": "Python 3",
   "language": "python",
   "name": "python3"
  },
  "language_info": {
   "codemirror_mode": {
    "name": "ipython",
    "version": 3
   },
   "file_extension": ".py",
   "mimetype": "text/x-python",
   "name": "python",
   "nbconvert_exporter": "python",
   "pygments_lexer": "ipython3",
   "version": "3.11.5"
  }
 },
 "nbformat": 4,
 "nbformat_minor": 2
}
